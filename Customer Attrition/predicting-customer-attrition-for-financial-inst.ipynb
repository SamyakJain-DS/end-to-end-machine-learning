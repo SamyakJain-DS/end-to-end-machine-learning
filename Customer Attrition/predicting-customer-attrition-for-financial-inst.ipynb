{
 "cells": [
  {
   "cell_type": "code",
   "execution_count": 1,
   "id": "4e7ab2ea-ea36-4b58-b1e3-931411559f57",
   "metadata": {},
   "outputs": [],
   "source": [
    "# Restart the kernel after installing the following:\n",
    "# !pip install imblearn\n",
    "# !pip install -U scikit-learn imbalanced-learn\n",
    "# !pip install -U scikit-learn xgboost imbalanced-learn"
   ]
  },
  {
   "cell_type": "code",
   "execution_count": 2,
   "id": "d6dd4514",
   "metadata": {
    "ExecuteTime": {
     "end_time": "2025-07-29T06:17:59.380649Z",
     "start_time": "2025-07-29T06:17:59.377390Z"
    },
    "papermill": {
     "duration": 0.093999,
     "end_time": "2025-07-25T10:42:36.004108",
     "exception": true,
     "start_time": "2025-07-25T10:42:35.910109",
     "status": "failed"
    },
    "tags": []
   },
   "outputs": [],
   "source": [
    "# Basic imports\n",
    "import matplotlib.pyplot as plt\n",
    "import pandas as pd\n",
    "import numpy as np\n",
    "import warnings\n",
    "warnings.filterwarnings(\"ignore\")"
   ]
  },
  {
   "cell_type": "code",
   "execution_count": 3,
   "id": "6961bb8a",
   "metadata": {
    "ExecuteTime": {
     "end_time": "2025-07-29T06:17:59.814411Z",
     "start_time": "2025-07-29T06:17:59.717351Z"
    },
    "papermill": {
     "duration": null,
     "end_time": null,
     "exception": null,
     "start_time": null,
     "status": "pending"
    },
    "tags": []
   },
   "outputs": [],
   "source": [
    "df = pd.read_csv('attrition_data.csv')"
   ]
  },
  {
   "cell_type": "code",
   "execution_count": 4,
   "id": "1c5617b2",
   "metadata": {
    "ExecuteTime": {
     "end_time": "2025-07-29T06:18:00.013949Z",
     "start_time": "2025-07-29T06:18:00.010806Z"
    },
    "papermill": {
     "duration": null,
     "end_time": null,
     "exception": null,
     "start_time": null,
     "status": "pending"
    },
    "tags": []
   },
   "outputs": [],
   "source": [
    "random_state = 25  # define a random state for the entire program"
   ]
  },
  {
   "cell_type": "code",
   "execution_count": 5,
   "id": "2a7367c4",
   "metadata": {
    "ExecuteTime": {
     "end_time": "2025-07-29T06:18:00.305986Z",
     "start_time": "2025-07-29T06:18:00.291544Z"
    },
    "papermill": {
     "duration": null,
     "end_time": null,
     "exception": null,
     "start_time": null,
     "status": "pending"
    },
    "tags": []
   },
   "outputs": [
    {
     "data": {
      "text/html": [
       "<div>\n",
       "<style scoped>\n",
       "    .dataframe tbody tr th:only-of-type {\n",
       "        vertical-align: middle;\n",
       "    }\n",
       "\n",
       "    .dataframe tbody tr th {\n",
       "        vertical-align: top;\n",
       "    }\n",
       "\n",
       "    .dataframe thead th {\n",
       "        text-align: right;\n",
       "    }\n",
       "</style>\n",
       "<table border=\"1\" class=\"dataframe\">\n",
       "  <thead>\n",
       "    <tr style=\"text-align: right;\">\n",
       "      <th></th>\n",
       "      <th>id</th>\n",
       "      <th>customer_id</th>\n",
       "      <th>last_name</th>\n",
       "      <th>credit_score</th>\n",
       "      <th>country</th>\n",
       "      <th>gender</th>\n",
       "      <th>age</th>\n",
       "      <th>tenure</th>\n",
       "      <th>acc_balance</th>\n",
       "      <th>prod_count</th>\n",
       "      <th>has_card</th>\n",
       "      <th>is_active</th>\n",
       "      <th>estimated_salary</th>\n",
       "      <th>exit_status</th>\n",
       "    </tr>\n",
       "  </thead>\n",
       "  <tbody>\n",
       "    <tr>\n",
       "      <th>23196</th>\n",
       "      <td>23196</td>\n",
       "      <td>15673837</td>\n",
       "      <td>Lai</td>\n",
       "      <td>747.0</td>\n",
       "      <td>Germany</td>\n",
       "      <td>Male</td>\n",
       "      <td>36.0</td>\n",
       "      <td>7</td>\n",
       "      <td>132044.60</td>\n",
       "      <td>1.0</td>\n",
       "      <td>1.0</td>\n",
       "      <td>0.0</td>\n",
       "      <td>161043.16</td>\n",
       "      <td>1</td>\n",
       "    </tr>\n",
       "    <tr>\n",
       "      <th>56233</th>\n",
       "      <td>56233</td>\n",
       "      <td>15703032</td>\n",
       "      <td>Shubin</td>\n",
       "      <td>716.0</td>\n",
       "      <td>Spain</td>\n",
       "      <td>Male</td>\n",
       "      <td>31.0</td>\n",
       "      <td>1</td>\n",
       "      <td>99818.47</td>\n",
       "      <td>1.0</td>\n",
       "      <td>0.0</td>\n",
       "      <td>1.0</td>\n",
       "      <td>129892.79</td>\n",
       "      <td>0</td>\n",
       "    </tr>\n",
       "    <tr>\n",
       "      <th>72786</th>\n",
       "      <td>72786</td>\n",
       "      <td>15641312</td>\n",
       "      <td>Paterson</td>\n",
       "      <td>615.0</td>\n",
       "      <td>France</td>\n",
       "      <td>Male</td>\n",
       "      <td>36.0</td>\n",
       "      <td>4</td>\n",
       "      <td>0.00</td>\n",
       "      <td>1.0</td>\n",
       "      <td>1.0</td>\n",
       "      <td>0.0</td>\n",
       "      <td>27011.80</td>\n",
       "      <td>0</td>\n",
       "    </tr>\n",
       "    <tr>\n",
       "      <th>69264</th>\n",
       "      <td>69264</td>\n",
       "      <td>15593345</td>\n",
       "      <td>Mazzanti</td>\n",
       "      <td>744.0</td>\n",
       "      <td>NaN</td>\n",
       "      <td>Male</td>\n",
       "      <td>40.0</td>\n",
       "      <td>3</td>\n",
       "      <td>164548.96</td>\n",
       "      <td>2.0</td>\n",
       "      <td>1.0</td>\n",
       "      <td>1.0</td>\n",
       "      <td>65762.00</td>\n",
       "      <td>0</td>\n",
       "    </tr>\n",
       "    <tr>\n",
       "      <th>34535</th>\n",
       "      <td>34535</td>\n",
       "      <td>15752344</td>\n",
       "      <td>She</td>\n",
       "      <td>714.0</td>\n",
       "      <td>Spain</td>\n",
       "      <td>Female</td>\n",
       "      <td>34.0</td>\n",
       "      <td>5</td>\n",
       "      <td>0.00</td>\n",
       "      <td>2.0</td>\n",
       "      <td>1.0</td>\n",
       "      <td>0.0</td>\n",
       "      <td>193040.32</td>\n",
       "      <td>0</td>\n",
       "    </tr>\n",
       "  </tbody>\n",
       "</table>\n",
       "</div>"
      ],
      "text/plain": [
       "          id  customer_id last_name  credit_score  country  gender   age  \\\n",
       "23196  23196     15673837       Lai         747.0  Germany    Male  36.0   \n",
       "56233  56233     15703032    Shubin         716.0    Spain    Male  31.0   \n",
       "72786  72786     15641312  Paterson         615.0   France    Male  36.0   \n",
       "69264  69264     15593345  Mazzanti         744.0      NaN    Male  40.0   \n",
       "34535  34535     15752344       She         714.0    Spain  Female  34.0   \n",
       "\n",
       "       tenure  acc_balance  prod_count  has_card  is_active  estimated_salary  \\\n",
       "23196       7    132044.60         1.0       1.0        0.0         161043.16   \n",
       "56233       1     99818.47         1.0       0.0        1.0         129892.79   \n",
       "72786       4         0.00         1.0       1.0        0.0          27011.80   \n",
       "69264       3    164548.96         2.0       1.0        1.0          65762.00   \n",
       "34535       5         0.00         2.0       1.0        0.0         193040.32   \n",
       "\n",
       "       exit_status  \n",
       "23196            1  \n",
       "56233            0  \n",
       "72786            0  \n",
       "69264            0  \n",
       "34535            0  "
      ]
     },
     "execution_count": 5,
     "metadata": {},
     "output_type": "execute_result"
    }
   ],
   "source": [
    "df.sample(5)"
   ]
  },
  {
   "cell_type": "code",
   "execution_count": 6,
   "id": "a2e83ea4",
   "metadata": {
    "ExecuteTime": {
     "end_time": "2025-07-29T06:18:00.556040Z",
     "start_time": "2025-07-29T06:18:00.510834Z"
    },
    "papermill": {
     "duration": null,
     "end_time": null,
     "exception": null,
     "start_time": null,
     "status": "pending"
    },
    "tags": []
   },
   "outputs": [
    {
     "data": {
      "text/html": [
       "<div>\n",
       "<style scoped>\n",
       "    .dataframe tbody tr th:only-of-type {\n",
       "        vertical-align: middle;\n",
       "    }\n",
       "\n",
       "    .dataframe tbody tr th {\n",
       "        vertical-align: top;\n",
       "    }\n",
       "\n",
       "    .dataframe thead th {\n",
       "        text-align: right;\n",
       "    }\n",
       "</style>\n",
       "<table border=\"1\" class=\"dataframe\">\n",
       "  <thead>\n",
       "    <tr style=\"text-align: right;\">\n",
       "      <th></th>\n",
       "      <th>count</th>\n",
       "      <th>mean</th>\n",
       "      <th>std</th>\n",
       "      <th>min</th>\n",
       "      <th>25%</th>\n",
       "      <th>50%</th>\n",
       "      <th>75%</th>\n",
       "      <th>max</th>\n",
       "    </tr>\n",
       "  </thead>\n",
       "  <tbody>\n",
       "    <tr>\n",
       "      <th>id</th>\n",
       "      <td>90000.0</td>\n",
       "      <td>4.499950e+04</td>\n",
       "      <td>25980.906451</td>\n",
       "      <td>0.00</td>\n",
       "      <td>22499.75</td>\n",
       "      <td>44999.50</td>\n",
       "      <td>6.749925e+04</td>\n",
       "      <td>89999.00</td>\n",
       "    </tr>\n",
       "    <tr>\n",
       "      <th>customer_id</th>\n",
       "      <td>90000.0</td>\n",
       "      <td>1.569209e+07</td>\n",
       "      <td>71297.959941</td>\n",
       "      <td>15565701.00</td>\n",
       "      <td>15633608.00</td>\n",
       "      <td>15690164.00</td>\n",
       "      <td>1.575674e+07</td>\n",
       "      <td>15815690.00</td>\n",
       "    </tr>\n",
       "    <tr>\n",
       "      <th>credit_score</th>\n",
       "      <td>80444.0</td>\n",
       "      <td>6.564971e+02</td>\n",
       "      <td>80.016856</td>\n",
       "      <td>350.00</td>\n",
       "      <td>597.00</td>\n",
       "      <td>659.00</td>\n",
       "      <td>7.100000e+02</td>\n",
       "      <td>850.00</td>\n",
       "    </tr>\n",
       "    <tr>\n",
       "      <th>age</th>\n",
       "      <td>90000.0</td>\n",
       "      <td>3.811953e+01</td>\n",
       "      <td>8.855203</td>\n",
       "      <td>18.00</td>\n",
       "      <td>32.00</td>\n",
       "      <td>37.00</td>\n",
       "      <td>4.200000e+01</td>\n",
       "      <td>92.00</td>\n",
       "    </tr>\n",
       "    <tr>\n",
       "      <th>tenure</th>\n",
       "      <td>90000.0</td>\n",
       "      <td>5.017022e+00</td>\n",
       "      <td>2.804813</td>\n",
       "      <td>0.00</td>\n",
       "      <td>3.00</td>\n",
       "      <td>5.00</td>\n",
       "      <td>7.000000e+00</td>\n",
       "      <td>10.00</td>\n",
       "    </tr>\n",
       "    <tr>\n",
       "      <th>acc_balance</th>\n",
       "      <td>82743.0</td>\n",
       "      <td>5.545673e+04</td>\n",
       "      <td>62788.474236</td>\n",
       "      <td>0.00</td>\n",
       "      <td>0.00</td>\n",
       "      <td>0.00</td>\n",
       "      <td>1.198258e+05</td>\n",
       "      <td>250898.09</td>\n",
       "    </tr>\n",
       "    <tr>\n",
       "      <th>prod_count</th>\n",
       "      <td>85137.0</td>\n",
       "      <td>1.552932e+00</td>\n",
       "      <td>0.548011</td>\n",
       "      <td>1.00</td>\n",
       "      <td>1.00</td>\n",
       "      <td>2.00</td>\n",
       "      <td>2.000000e+00</td>\n",
       "      <td>4.00</td>\n",
       "    </tr>\n",
       "    <tr>\n",
       "      <th>has_card</th>\n",
       "      <td>90000.0</td>\n",
       "      <td>7.542889e-01</td>\n",
       "      <td>0.430510</td>\n",
       "      <td>0.00</td>\n",
       "      <td>1.00</td>\n",
       "      <td>1.00</td>\n",
       "      <td>1.000000e+00</td>\n",
       "      <td>1.00</td>\n",
       "    </tr>\n",
       "    <tr>\n",
       "      <th>is_active</th>\n",
       "      <td>90000.0</td>\n",
       "      <td>4.971778e-01</td>\n",
       "      <td>0.499995</td>\n",
       "      <td>0.00</td>\n",
       "      <td>0.00</td>\n",
       "      <td>0.00</td>\n",
       "      <td>1.000000e+00</td>\n",
       "      <td>1.00</td>\n",
       "    </tr>\n",
       "    <tr>\n",
       "      <th>estimated_salary</th>\n",
       "      <td>90000.0</td>\n",
       "      <td>1.123947e+05</td>\n",
       "      <td>50360.440702</td>\n",
       "      <td>11.58</td>\n",
       "      <td>74430.36</td>\n",
       "      <td>117505.07</td>\n",
       "      <td>1.548748e+05</td>\n",
       "      <td>199992.48</td>\n",
       "    </tr>\n",
       "    <tr>\n",
       "      <th>exit_status</th>\n",
       "      <td>90000.0</td>\n",
       "      <td>2.116000e-01</td>\n",
       "      <td>0.408445</td>\n",
       "      <td>0.00</td>\n",
       "      <td>0.00</td>\n",
       "      <td>0.00</td>\n",
       "      <td>0.000000e+00</td>\n",
       "      <td>1.00</td>\n",
       "    </tr>\n",
       "  </tbody>\n",
       "</table>\n",
       "</div>"
      ],
      "text/plain": [
       "                    count          mean           std          min  \\\n",
       "id                90000.0  4.499950e+04  25980.906451         0.00   \n",
       "customer_id       90000.0  1.569209e+07  71297.959941  15565701.00   \n",
       "credit_score      80444.0  6.564971e+02     80.016856       350.00   \n",
       "age               90000.0  3.811953e+01      8.855203        18.00   \n",
       "tenure            90000.0  5.017022e+00      2.804813         0.00   \n",
       "acc_balance       82743.0  5.545673e+04  62788.474236         0.00   \n",
       "prod_count        85137.0  1.552932e+00      0.548011         1.00   \n",
       "has_card          90000.0  7.542889e-01      0.430510         0.00   \n",
       "is_active         90000.0  4.971778e-01      0.499995         0.00   \n",
       "estimated_salary  90000.0  1.123947e+05  50360.440702        11.58   \n",
       "exit_status       90000.0  2.116000e-01      0.408445         0.00   \n",
       "\n",
       "                          25%          50%           75%          max  \n",
       "id                   22499.75     44999.50  6.749925e+04     89999.00  \n",
       "customer_id       15633608.00  15690164.00  1.575674e+07  15815690.00  \n",
       "credit_score           597.00       659.00  7.100000e+02       850.00  \n",
       "age                     32.00        37.00  4.200000e+01        92.00  \n",
       "tenure                   3.00         5.00  7.000000e+00        10.00  \n",
       "acc_balance              0.00         0.00  1.198258e+05    250898.09  \n",
       "prod_count               1.00         2.00  2.000000e+00         4.00  \n",
       "has_card                 1.00         1.00  1.000000e+00         1.00  \n",
       "is_active                0.00         0.00  1.000000e+00         1.00  \n",
       "estimated_salary     74430.36    117505.07  1.548748e+05    199992.48  \n",
       "exit_status              0.00         0.00  0.000000e+00         1.00  "
      ]
     },
     "execution_count": 6,
     "metadata": {},
     "output_type": "execute_result"
    }
   ],
   "source": [
    "df.describe().T"
   ]
  },
  {
   "cell_type": "code",
   "execution_count": 7,
   "id": "e285816d",
   "metadata": {
    "ExecuteTime": {
     "end_time": "2025-07-29T06:18:00.685386Z",
     "start_time": "2025-07-29T06:18:00.669326Z"
    },
    "papermill": {
     "duration": null,
     "end_time": null,
     "exception": null,
     "start_time": null,
     "status": "pending"
    },
    "tags": []
   },
   "outputs": [
    {
     "name": "stdout",
     "output_type": "stream",
     "text": [
      "<class 'pandas.core.frame.DataFrame'>\n",
      "RangeIndex: 90000 entries, 0 to 89999\n",
      "Data columns (total 14 columns):\n",
      " #   Column            Non-Null Count  Dtype  \n",
      "---  ------            --------------  -----  \n",
      " 0   id                90000 non-null  int64  \n",
      " 1   customer_id       90000 non-null  int64  \n",
      " 2   last_name         90000 non-null  object \n",
      " 3   credit_score      80444 non-null  float64\n",
      " 4   country           83979 non-null  object \n",
      " 5   gender            90000 non-null  object \n",
      " 6   age               90000 non-null  float64\n",
      " 7   tenure            90000 non-null  int64  \n",
      " 8   acc_balance       82743 non-null  float64\n",
      " 9   prod_count        85137 non-null  float64\n",
      " 10  has_card          90000 non-null  float64\n",
      " 11  is_active         90000 non-null  float64\n",
      " 12  estimated_salary  90000 non-null  float64\n",
      " 13  exit_status       90000 non-null  int64  \n",
      "dtypes: float64(7), int64(4), object(3)\n",
      "memory usage: 9.6+ MB\n"
     ]
    }
   ],
   "source": [
    "df.info()"
   ]
  },
  {
   "cell_type": "code",
   "execution_count": 8,
   "id": "96739a9a",
   "metadata": {
    "ExecuteTime": {
     "end_time": "2025-07-29T06:18:00.868156Z",
     "start_time": "2025-07-29T06:18:00.823292Z"
    },
    "papermill": {
     "duration": null,
     "end_time": null,
     "exception": null,
     "start_time": null,
     "status": "pending"
    },
    "tags": []
   },
   "outputs": [
    {
     "data": {
      "text/plain": [
       "np.int64(0)"
      ]
     },
     "execution_count": 8,
     "metadata": {},
     "output_type": "execute_result"
    }
   ],
   "source": [
    "df.duplicated().sum()"
   ]
  },
  {
   "cell_type": "code",
   "execution_count": 9,
   "id": "cf624167",
   "metadata": {
    "ExecuteTime": {
     "end_time": "2025-07-29T06:18:00.976575Z",
     "start_time": "2025-07-29T06:18:00.963588Z"
    },
    "papermill": {
     "duration": null,
     "end_time": null,
     "exception": null,
     "start_time": null,
     "status": "pending"
    },
    "tags": []
   },
   "outputs": [
    {
     "data": {
      "text/plain": [
       "id                     0\n",
       "customer_id            0\n",
       "last_name              0\n",
       "credit_score        9556\n",
       "country             6021\n",
       "gender                 0\n",
       "age                    0\n",
       "tenure                 0\n",
       "acc_balance         7257\n",
       "prod_count          4863\n",
       "has_card               0\n",
       "is_active              0\n",
       "estimated_salary       0\n",
       "exit_status            0\n",
       "dtype: int64"
      ]
     },
     "execution_count": 9,
     "metadata": {},
     "output_type": "execute_result"
    }
   ],
   "source": [
    "df.isna().sum()"
   ]
  },
  {
   "cell_type": "code",
   "execution_count": 10,
   "id": "cb4e63df",
   "metadata": {
    "ExecuteTime": {
     "end_time": "2025-07-29T06:18:01.126732Z",
     "start_time": "2025-07-29T06:18:01.117481Z"
    },
    "papermill": {
     "duration": null,
     "end_time": null,
     "exception": null,
     "start_time": null,
     "status": "pending"
    },
    "tags": []
   },
   "outputs": [],
   "source": [
    "df.drop(columns=['id'],inplace=True)"
   ]
  },
  {
   "cell_type": "code",
   "execution_count": 11,
   "id": "d4a9ccac",
   "metadata": {
    "ExecuteTime": {
     "end_time": "2025-07-29T06:18:01.696479Z",
     "start_time": "2025-07-29T06:18:01.290210Z"
    },
    "papermill": {
     "duration": null,
     "end_time": null,
     "exception": null,
     "start_time": null,
     "status": "pending"
    },
    "tags": []
   },
   "outputs": [
    {
     "data": {
      "image/png": "[encoded data removed]",
      "text/plain": [
       "<Figure size 640x480 with 1 Axes>"
      ]
     },
     "metadata": {},
     "output_type": "display_data"
    },
    {
     "data": {
      "image/png": "[encoded data removed]",
      "text/plain": [
       "<Figure size 640x480 with 1 Axes>"
      ]
     },
     "metadata": {},
     "output_type": "display_data"
    },
    {
     "data": {
      "image/png": "[encoded data removed]",
      "text/plain": [
       "<Figure size 640x480 with 1 Axes>"
      ]
     },
     "metadata": {},
     "output_type": "display_data"
    },
    {
     "data": {
      "image/png": "[encoded data removed]",
      "text/plain": [
       "<Figure size 640x480 with 1 Axes>"
      ]
     },
     "metadata": {},
     "output_type": "display_data"
    }
   ],
   "source": [
    "# Looking at all columns and what's their distribution\n",
    "\n",
    "for col in df.dtypes[df.dtypes == 'object'].index:\n",
    "    if col == 'last_name':\n",
    "        df[col].value_counts().sort_values(ascending=False)[:20].plot.bar()\n",
    "        plt.show()\n",
    "        df[col].value_counts().sort_values(ascending=True)[:20].plot.bar()\n",
    "        plt.show()\n",
    "    else:\n",
    "        df[col].value_counts().sort_values(ascending=False).plot.bar()\n",
    "        plt.show()"
   ]
  },
  {
   "cell_type": "code",
   "execution_count": 12,
   "id": "ebdd1367",
   "metadata": {
    "ExecuteTime": {
     "end_time": "2025-07-29T06:18:13.989876Z",
     "start_time": "2025-07-29T06:18:01.720812Z"
    },
    "papermill": {
     "duration": null,
     "end_time": null,
     "exception": null,
     "start_time": null,
     "status": "pending"
    },
    "tags": []
   },
   "outputs": [
    {
     "name": "stdout",
     "output_type": "stream",
     "text": [
      "KDE for credit_score\n"
     ]
    },
    {
     "data": {
      "image/png": "[encoded data removed]",
      "text/plain": [
       "<Figure size 640x480 with 1 Axes>"
      ]
     },
     "metadata": {},
     "output_type": "display_data"
    },
    {
     "name": "stdout",
     "output_type": "stream",
     "text": [
      "Boxplot for credit_score\n"
     ]
    },
    {
     "data": {
      "image/png": "[encoded data removed]",
      "text/plain": [
       "<Figure size 640x480 with 1 Axes>"
      ]
     },
     "metadata": {},
     "output_type": "display_data"
    },
    {
     "name": "stdout",
     "output_type": "stream",
     "text": [
      "KDE for age\n"
     ]
    },
    {
     "data": {
      "image/png": "[encoded data removed]",
      "text/plain": [
       "<Figure size 640x480 with 1 Axes>"
      ]
     },
     "metadata": {},
     "output_type": "display_data"
    },
    {
     "name": "stdout",
     "output_type": "stream",
     "text": [
      "Boxplot for age\n"
     ]
    },
    {
     "data": {
      "image/png": "[encoded data removed]",
      "text/plain": [
       "<Figure size 640x480 with 1 Axes>"
      ]
     },
     "metadata": {},
     "output_type": "display_data"
    },
    {
     "name": "stdout",
     "output_type": "stream",
     "text": [
      "KDE for tenure\n"
     ]
    },
    {
     "data": {
      "image/png": "[encoded data removed]",
      "text/plain": [
       "<Figure size 640x480 with 1 Axes>"
      ]
     },
     "metadata": {},
     "output_type": "display_data"
    },
    {
     "name": "stdout",
     "output_type": "stream",
     "text": [
      "Boxplot for tenure\n"
     ]
    },
    {
     "data": {
      "image/png": "[encoded data removed]",
      "text/plain": [
       "<Figure size 640x480 with 1 Axes>"
      ]
     },
     "metadata": {},
     "output_type": "display_data"
    },
    {
     "name": "stdout",
     "output_type": "stream",
     "text": [
      "KDE for acc_balance\n"
     ]
    },
    {
     "data": {
      "image/png": "[encoded data removed]",
      "text/plain": [
       "<Figure size 640x480 with 1 Axes>"
      ]
     },
     "metadata": {},
     "output_type": "display_data"
    },
    {
     "name": "stdout",
     "output_type": "stream",
     "text": [
      "Boxplot for acc_balance\n"
     ]
    },
    {
     "data": {
      "image/png": "[encoded data removed]",
      "text/plain": [
       "<Figure size 640x480 with 1 Axes>"
      ]
     },
     "metadata": {},
     "output_type": "display_data"
    },
    {
     "name": "stdout",
     "output_type": "stream",
     "text": [
      "KDE for prod_count\n"
     ]
    },
    {
     "data": {
      "image/png": "[encoded data removed]",
      "text/plain": [
       "<Figure size 640x480 with 1 Axes>"
      ]
     },
     "metadata": {},
     "output_type": "display_data"
    },
    {
     "name": "stdout",
     "output_type": "stream",
     "text": [
      "Boxplot for prod_count\n"
     ]
    },
    {
     "data": {
      "image/png": "[encoded data removed]",
      "text/plain": [
       "<Figure size 640x480 with 1 Axes>"
      ]
     },
     "metadata": {},
     "output_type": "display_data"
    },
    {
     "name": "stdout",
     "output_type": "stream",
     "text": [
      "KDE for has_card\n"
     ]
    },
    {
     "data": {
      "image/png": "[encoded data removed]",
      "text/plain": [
       "<Figure size 640x480 with 1 Axes>"
      ]
     },
     "metadata": {},
     "output_type": "display_data"
    },
    {
     "name": "stdout",
     "output_type": "stream",
     "text": [
      "Boxplot for has_card\n"
     ]
    },
    {
     "data": {
      "image/png": "[encoded data removed]",
      "text/plain": [
       "<Figure size 640x480 with 1 Axes>"
      ]
     },
     "metadata": {},
     "output_type": "display_data"
    },
    {
     "name": "stdout",
     "output_type": "stream",
     "text": [
      "KDE for is_active\n"
     ]
    },
    {
     "data": {
      "image/png": "[encoded data removed]",
      "text/plain": [
       "<Figure size 640x480 with 1 Axes>"
      ]
     },
     "metadata": {},
     "output_type": "display_data"
    },
    {
     "name": "stdout",
     "output_type": "stream",
     "text": [
      "Boxplot for is_active\n"
     ]
    },
    {
     "data": {
      "image/png": "[encoded data removed]",
      "text/plain": [
       "<Figure size 640x480 with 1 Axes>"
      ]
     },
     "metadata": {},
     "output_type": "display_data"
    },
    {
     "name": "stdout",
     "output_type": "stream",
     "text": [
      "KDE for estimated_salary\n"
     ]
    },
    {
     "data": {
      "image/png": "[encoded data removed]",
      "text/plain": [
       "<Figure size 640x480 with 1 Axes>"
      ]
     },
     "metadata": {},
     "output_type": "display_data"
    },
    {
     "name": "stdout",
     "output_type": "stream",
     "text": [
      "Boxplot for estimated_salary\n"
     ]
    },
    {
     "data": {
      "image/png": "[encoded data removed]",
      "text/plain": [
       "<Figure size 640x480 with 1 Axes>"
      ]
     },
     "metadata": {},
     "output_type": "display_data"
    },
    {
     "name": "stdout",
     "output_type": "stream",
     "text": [
      "KDE for exit_status\n"
     ]
    },
    {
     "data": {
      "image/png": "[encoded data removed]",
      "text/plain": [
       "<Figure size 640x480 with 1 Axes>"
      ]
     },
     "metadata": {},
     "output_type": "display_data"
    },
    {
     "name": "stdout",
     "output_type": "stream",
     "text": [
      "Boxplot for exit_status\n"
     ]
    },
    {
     "data": {
      "image/png": "[encoded data removed]",
      "text/plain": [
       "<Figure size 640x480 with 1 Axes>"
      ]
     },
     "metadata": {},
     "output_type": "display_data"
    }
   ],
   "source": [
    "for col in df.dtypes[(df.dtypes == 'int') | (df.dtypes == 'float64')].index:\n",
    "    if col == 'customer_id':\n",
    "        pass\n",
    "    else:\n",
    "        print(f\"KDE for {col}\")\n",
    "        df[col].plot.kde()\n",
    "        plt.show()\n",
    "        print(f\"Boxplot for {col}\")\n",
    "        df[col].plot.box()\n",
    "        plt.show()"
   ]
  },
  {
   "cell_type": "code",
   "execution_count": 13,
   "id": "c24c687c",
   "metadata": {
    "ExecuteTime": {
     "end_time": "2025-07-29T06:18:16.890093Z",
     "start_time": "2025-07-29T06:18:16.887390Z"
    },
    "papermill": {
     "duration": null,
     "end_time": null,
     "exception": null,
     "start_time": null,
     "status": "pending"
    },
    "tags": []
   },
   "outputs": [],
   "source": [
    "# For outleirs, we will try different scaling techniques like RobustScaler or StandardScaler to see which performs the best."
   ]
  },
  {
   "cell_type": "code",
   "execution_count": 14,
   "id": "2aa2c61c",
   "metadata": {
    "ExecuteTime": {
     "end_time": "2025-07-29T06:18:17.294910Z",
     "start_time": "2025-07-29T06:18:17.290451Z"
    },
    "papermill": {
     "duration": null,
     "end_time": null,
     "exception": null,
     "start_time": null,
     "status": "pending"
    },
    "tags": []
   },
   "outputs": [
    {
     "data": {
      "text/plain": [
       "exit_status\n",
       "0    70956\n",
       "1    19044\n",
       "Name: count, dtype: int64"
      ]
     },
     "execution_count": 14,
     "metadata": {},
     "output_type": "execute_result"
    }
   ],
   "source": [
    "df['exit_status'].value_counts()   # imbalanced, we must rely on metrics like precision."
   ]
  },
  {
   "cell_type": "code",
   "execution_count": 15,
   "id": "aa398e94",
   "metadata": {
    "ExecuteTime": {
     "end_time": "2025-07-29T06:18:45.195364Z",
     "start_time": "2025-07-29T06:18:45.191908Z"
    },
    "papermill": {
     "duration": null,
     "end_time": null,
     "exception": null,
     "start_time": null,
     "status": "pending"
    },
    "tags": []
   },
   "outputs": [],
   "source": [
    "# Fixing Missing Values\n",
    "\n",
    "def impute(col):\n",
    "    '''\n",
    "    Impute using the distribution a column follows\n",
    "    '''\n",
    "    \n",
    "    cdf = df[col].value_counts(normalize=True).sort_index().cumsum()\n",
    "    number = np.random.rand()\n",
    "    for i in range(len(cdf)):\n",
    "        if number < cdf.values[i]:\n",
    "            return cdf.index[i]"
   ]
  },
  {
   "cell_type": "code",
   "execution_count": 16,
   "id": "d5c2fafabd3658b0",
   "metadata": {
    "ExecuteTime": {
     "end_time": "2025-07-29T06:35:06.123741Z",
     "start_time": "2025-07-29T06:34:37.616580Z"
    }
   },
   "outputs": [],
   "source": [
    "df['prod_count'] = df['prod_count'].apply(lambda x: impute('prod_count') if pd.isna(x) else x)\n",
    "df['country'] = df['country'].apply(lambda x: impute('country') if pd.isna(x) else x)"
   ]
  },
  {
   "cell_type": "code",
   "execution_count": 17,
   "id": "df23eeb7",
   "metadata": {
    "ExecuteTime": {
     "end_time": "2025-07-29T06:35:06.145272Z",
     "start_time": "2025-07-29T06:35:06.131010Z"
    },
    "papermill": {
     "duration": null,
     "end_time": null,
     "exception": null,
     "start_time": null,
     "status": "pending"
    },
    "tags": []
   },
   "outputs": [
    {
     "data": {
      "text/plain": [
       "customer_id            0\n",
       "last_name              0\n",
       "credit_score        9556\n",
       "country                0\n",
       "gender                 0\n",
       "age                    0\n",
       "tenure                 0\n",
       "acc_balance         7257\n",
       "prod_count             0\n",
       "has_card               0\n",
       "is_active              0\n",
       "estimated_salary       0\n",
       "exit_status            0\n",
       "dtype: int64"
      ]
     },
     "execution_count": 17,
     "metadata": {},
     "output_type": "execute_result"
    }
   ],
   "source": [
    "df.isna().sum()"
   ]
  },
  {
   "cell_type": "code",
   "execution_count": 18,
   "id": "2c66347a",
   "metadata": {
    "ExecuteTime": {
     "end_time": "2025-07-29T06:35:11.097271Z",
     "start_time": "2025-07-29T06:35:11.087651Z"
    },
    "papermill": {
     "duration": null,
     "end_time": null,
     "exception": null,
     "start_time": null,
     "status": "pending"
    },
    "tags": []
   },
   "outputs": [
    {
     "data": {
      "text/plain": [
       "2611"
      ]
     },
     "execution_count": 18,
     "metadata": {},
     "output_type": "execute_result"
    }
   ],
   "source": [
    "df['last_name'].nunique()"
   ]
  },
  {
   "cell_type": "code",
   "execution_count": 19,
   "id": "a06a495d",
   "metadata": {
    "ExecuteTime": {
     "end_time": "2025-07-29T06:35:11.357894Z",
     "start_time": "2025-07-29T06:35:11.350969Z"
    },
    "papermill": {
     "duration": null,
     "end_time": null,
     "exception": null,
     "start_time": null,
     "status": "pending"
    },
    "tags": []
   },
   "outputs": [],
   "source": [
    "df.drop(columns=['last_name','customer_id'],inplace=True)   # Since we have too many unique values for last_name, no other choice than to drop them."
   ]
  },
  {
   "cell_type": "code",
   "execution_count": 20,
   "id": "12dac700",
   "metadata": {
    "ExecuteTime": {
     "end_time": "2025-07-29T06:35:11.654096Z",
     "start_time": "2025-07-29T06:35:11.614506Z"
    },
    "papermill": {
     "duration": null,
     "end_time": null,
     "exception": null,
     "start_time": null,
     "status": "pending"
    },
    "tags": []
   },
   "outputs": [
    {
     "data": {
      "text/html": [
       "<div>\n",
       "<style scoped>\n",
       "    .dataframe tbody tr th:only-of-type {\n",
       "        vertical-align: middle;\n",
       "    }\n",
       "\n",
       "    .dataframe tbody tr th {\n",
       "        vertical-align: top;\n",
       "    }\n",
       "\n",
       "    .dataframe thead th {\n",
       "        text-align: right;\n",
       "    }\n",
       "</style>\n",
       "<table border=\"1\" class=\"dataframe\">\n",
       "  <thead>\n",
       "    <tr style=\"text-align: right;\">\n",
       "      <th></th>\n",
       "      <th>credit_score</th>\n",
       "      <th>age</th>\n",
       "      <th>tenure</th>\n",
       "      <th>acc_balance</th>\n",
       "      <th>prod_count</th>\n",
       "      <th>has_card</th>\n",
       "      <th>is_active</th>\n",
       "      <th>estimated_salary</th>\n",
       "      <th>exit_status</th>\n",
       "    </tr>\n",
       "  </thead>\n",
       "  <tbody>\n",
       "    <tr>\n",
       "      <th>count</th>\n",
       "      <td>80444.000000</td>\n",
       "      <td>90000.000000</td>\n",
       "      <td>90000.000000</td>\n",
       "      <td>82743.000000</td>\n",
       "      <td>90000.000000</td>\n",
       "      <td>90000.000000</td>\n",
       "      <td>90000.000000</td>\n",
       "      <td>90000.000000</td>\n",
       "      <td>90000.000000</td>\n",
       "    </tr>\n",
       "    <tr>\n",
       "      <th>mean</th>\n",
       "      <td>656.497054</td>\n",
       "      <td>38.119533</td>\n",
       "      <td>5.017022</td>\n",
       "      <td>55456.732147</td>\n",
       "      <td>1.552833</td>\n",
       "      <td>0.754289</td>\n",
       "      <td>0.497178</td>\n",
       "      <td>112394.659679</td>\n",
       "      <td>0.211600</td>\n",
       "    </tr>\n",
       "    <tr>\n",
       "      <th>std</th>\n",
       "      <td>80.016856</td>\n",
       "      <td>8.855203</td>\n",
       "      <td>2.804813</td>\n",
       "      <td>62788.474236</td>\n",
       "      <td>0.548119</td>\n",
       "      <td>0.430510</td>\n",
       "      <td>0.499995</td>\n",
       "      <td>50360.440702</td>\n",
       "      <td>0.408445</td>\n",
       "    </tr>\n",
       "    <tr>\n",
       "      <th>min</th>\n",
       "      <td>350.000000</td>\n",
       "      <td>18.000000</td>\n",
       "      <td>0.000000</td>\n",
       "      <td>0.000000</td>\n",
       "      <td>1.000000</td>\n",
       "      <td>0.000000</td>\n",
       "      <td>0.000000</td>\n",
       "      <td>11.580000</td>\n",
       "      <td>0.000000</td>\n",
       "    </tr>\n",
       "    <tr>\n",
       "      <th>25%</th>\n",
       "      <td>597.000000</td>\n",
       "      <td>32.000000</td>\n",
       "      <td>3.000000</td>\n",
       "      <td>0.000000</td>\n",
       "      <td>1.000000</td>\n",
       "      <td>1.000000</td>\n",
       "      <td>0.000000</td>\n",
       "      <td>74430.360000</td>\n",
       "      <td>0.000000</td>\n",
       "    </tr>\n",
       "    <tr>\n",
       "      <th>50%</th>\n",
       "      <td>659.000000</td>\n",
       "      <td>37.000000</td>\n",
       "      <td>5.000000</td>\n",
       "      <td>0.000000</td>\n",
       "      <td>2.000000</td>\n",
       "      <td>1.000000</td>\n",
       "      <td>0.000000</td>\n",
       "      <td>117505.070000</td>\n",
       "      <td>0.000000</td>\n",
       "    </tr>\n",
       "    <tr>\n",
       "      <th>75%</th>\n",
       "      <td>710.000000</td>\n",
       "      <td>42.000000</td>\n",
       "      <td>7.000000</td>\n",
       "      <td>119825.750000</td>\n",
       "      <td>2.000000</td>\n",
       "      <td>1.000000</td>\n",
       "      <td>1.000000</td>\n",
       "      <td>154874.787500</td>\n",
       "      <td>0.000000</td>\n",
       "    </tr>\n",
       "    <tr>\n",
       "      <th>max</th>\n",
       "      <td>850.000000</td>\n",
       "      <td>92.000000</td>\n",
       "      <td>10.000000</td>\n",
       "      <td>250898.090000</td>\n",
       "      <td>4.000000</td>\n",
       "      <td>1.000000</td>\n",
       "      <td>1.000000</td>\n",
       "      <td>199992.480000</td>\n",
       "      <td>1.000000</td>\n",
       "    </tr>\n",
       "  </tbody>\n",
       "</table>\n",
       "</div>"
      ],
      "text/plain": [
       "       credit_score           age        tenure    acc_balance    prod_count  \\\n",
       "count  80444.000000  90000.000000  90000.000000   82743.000000  90000.000000   \n",
       "mean     656.497054     38.119533      5.017022   55456.732147      1.552833   \n",
       "std       80.016856      8.855203      2.804813   62788.474236      0.548119   \n",
       "min      350.000000     18.000000      0.000000       0.000000      1.000000   \n",
       "25%      597.000000     32.000000      3.000000       0.000000      1.000000   \n",
       "50%      659.000000     37.000000      5.000000       0.000000      2.000000   \n",
       "75%      710.000000     42.000000      7.000000  119825.750000      2.000000   \n",
       "max      850.000000     92.000000     10.000000  250898.090000      4.000000   \n",
       "\n",
       "           has_card     is_active  estimated_salary   exit_status  \n",
       "count  90000.000000  90000.000000      90000.000000  90000.000000  \n",
       "mean       0.754289      0.497178     112394.659679      0.211600  \n",
       "std        0.430510      0.499995      50360.440702      0.408445  \n",
       "min        0.000000      0.000000         11.580000      0.000000  \n",
       "25%        1.000000      0.000000      74430.360000      0.000000  \n",
       "50%        1.000000      0.000000     117505.070000      0.000000  \n",
       "75%        1.000000      1.000000     154874.787500      0.000000  \n",
       "max        1.000000      1.000000     199992.480000      1.000000  "
      ]
     },
     "execution_count": 20,
     "metadata": {},
     "output_type": "execute_result"
    }
   ],
   "source": [
    "df.describe()"
   ]
  },
  {
   "cell_type": "code",
   "execution_count": 21,
   "id": "4c727783",
   "metadata": {
    "ExecuteTime": {
     "end_time": "2025-07-29T06:35:11.957298Z",
     "start_time": "2025-07-29T06:35:11.944476Z"
    },
    "papermill": {
     "duration": null,
     "end_time": null,
     "exception": null,
     "start_time": null,
     "status": "pending"
    },
    "tags": []
   },
   "outputs": [
    {
     "name": "stdout",
     "output_type": "stream",
     "text": [
      "<class 'pandas.core.frame.DataFrame'>\n",
      "RangeIndex: 90000 entries, 0 to 89999\n",
      "Data columns (total 11 columns):\n",
      " #   Column            Non-Null Count  Dtype  \n",
      "---  ------            --------------  -----  \n",
      " 0   credit_score      80444 non-null  float64\n",
      " 1   country           90000 non-null  object \n",
      " 2   gender            90000 non-null  object \n",
      " 3   age               90000 non-null  float64\n",
      " 4   tenure            90000 non-null  int64  \n",
      " 5   acc_balance       82743 non-null  float64\n",
      " 6   prod_count        90000 non-null  float64\n",
      " 7   has_card          90000 non-null  float64\n",
      " 8   is_active         90000 non-null  float64\n",
      " 9   estimated_salary  90000 non-null  float64\n",
      " 10  exit_status       90000 non-null  int64  \n",
      "dtypes: float64(7), int64(2), object(2)\n",
      "memory usage: 7.6+ MB\n"
     ]
    }
   ],
   "source": [
    "df.info()"
   ]
  },
  {
   "cell_type": "code",
   "execution_count": 22,
   "id": "499a4ab0501bf861",
   "metadata": {
    "ExecuteTime": {
     "end_time": "2025-07-29T06:35:12.449821Z",
     "start_time": "2025-07-29T06:35:12.440302Z"
    }
   },
   "outputs": [
    {
     "data": {
      "text/plain": [
       "country\n",
       "France     51414\n",
       "Spain      19753\n",
       "Germany    18833\n",
       "Name: count, dtype: int64"
      ]
     },
     "execution_count": 22,
     "metadata": {},
     "output_type": "execute_result"
    }
   ],
   "source": [
    "df['country'].value_counts()"
   ]
  },
  {
   "cell_type": "code",
   "execution_count": 23,
   "id": "d29f0c65",
   "metadata": {
    "ExecuteTime": {
     "end_time": "2025-07-29T06:35:12.906828Z",
     "start_time": "2025-07-29T06:35:12.902803Z"
    },
    "papermill": {
     "duration": null,
     "end_time": null,
     "exception": null,
     "start_time": null,
     "status": "pending"
    },
    "tags": []
   },
   "outputs": [],
   "source": [
    "# Imports for preprocessing\n",
    "from sklearn.experimental import enable_iterative_imputer\n",
    "from sklearn.impute import IterativeImputer\n",
    "from sklearn.pipeline import Pipeline\n",
    "from sklearn.compose import ColumnTransformer\n",
    "from sklearn.preprocessing import StandardScaler, RobustScaler, OneHotEncoder, PolynomialFeatures\n",
    "from sklearn.model_selection import train_test_split"
   ]
  },
  {
   "cell_type": "code",
   "execution_count": 24,
   "id": "4f81b930",
   "metadata": {
    "ExecuteTime": {
     "end_time": "2025-07-29T06:35:13.278209Z",
     "start_time": "2025-07-29T06:35:13.243409Z"
    },
    "papermill": {
     "duration": null,
     "end_time": null,
     "exception": null,
     "start_time": null,
     "status": "pending"
    },
    "tags": []
   },
   "outputs": [],
   "source": [
    "X = df.iloc[:,:-1]\n",
    "y = df.iloc[:,-1]\n",
    "\n",
    "X_train, X_test, y_train, y_test = train_test_split(X,y,test_size=0.2,random_state=random_state)\n",
    "\n",
    "encode_cols = list(X.select_dtypes(include='object').columns)\n",
    "X_train[encode_cols] = X_train[encode_cols].astype(str)\n",
    "X_test[encode_cols] = X_test[encode_cols].astype(str)\n",
    "num_cols = list(X.select_dtypes(include=['int64', 'float64']).columns)\n",
    "\n",
    "encoder = OneHotEncoder(drop='first', sparse_output=False)\n",
    "\n",
    "preprocessor = ColumnTransformer([\n",
    "    ('encode', encoder, encode_cols)\n",
    "], remainder='passthrough')  # passthrough numerical columns\n",
    "\n",
    "full_pipeline = Pipeline([\n",
    "    ('preprocess', preprocessor),\n",
    "    ('impute', IterativeImputer(random_state=random_state)),\n",
    "    ('scale', StandardScaler())\n",
    "])"
   ]
  },
  {
   "cell_type": "code",
   "execution_count": 25,
   "id": "2d9514c6",
   "metadata": {
    "ExecuteTime": {
     "end_time": "2025-07-29T06:35:14.698190Z",
     "start_time": "2025-07-29T06:35:14.110438Z"
    },
    "papermill": {
     "duration": null,
     "end_time": null,
     "exception": null,
     "start_time": null,
     "status": "pending"
    },
    "tags": []
   },
   "outputs": [],
   "source": [
    "X_train = full_pipeline.fit_transform(X_train)\n",
    "X_test = full_pipeline.transform(X_test)"
   ]
  },
  {
   "cell_type": "code",
   "execution_count": 26,
   "id": "9d7448a6",
   "metadata": {
    "ExecuteTime": {
     "end_time": "2025-07-29T06:50:30.586724Z",
     "start_time": "2025-07-29T06:50:28.759162Z"
    },
    "papermill": {
     "duration": null,
     "end_time": null,
     "exception": null,
     "start_time": null,
     "status": "pending"
    },
    "tags": []
   },
   "outputs": [],
   "source": [
    "from imblearn.under_sampling import RandomUnderSampler\n",
    "from imblearn.over_sampling import SMOTE\n",
    "\n",
    "rus = RandomUnderSampler(sampling_strategy={0: 20000}, random_state=random_state)\n",
    "X_rus, y_rus = rus.fit_resample(X_train, y_train)\n",
    "\n",
    "smote = SMOTE(sampling_strategy=1.0, random_state=random_state)\n",
    "X_train_balanced, y_train_balanced = smote.fit_resample(X_rus, y_rus)"
   ]
  },
  {
   "cell_type": "code",
   "execution_count": 27,
   "id": "77e63015",
   "metadata": {
    "ExecuteTime": {
     "end_time": "2025-07-29T06:50:30.597516Z",
     "start_time": "2025-07-29T06:50:30.594125Z"
    },
    "papermill": {
     "duration": null,
     "end_time": null,
     "exception": null,
     "start_time": null,
     "status": "pending"
    },
    "tags": []
   },
   "outputs": [
    {
     "data": {
      "text/plain": [
       "(40000, 11)"
      ]
     },
     "execution_count": 27,
     "metadata": {},
     "output_type": "execute_result"
    }
   ],
   "source": [
    "X_train_balanced.shape"
   ]
  },
  {
   "cell_type": "code",
   "execution_count": 28,
   "id": "e2408fd5",
   "metadata": {
    "ExecuteTime": {
     "end_time": "2025-07-29T06:50:30.616141Z",
     "start_time": "2025-07-29T06:50:30.610356Z"
    },
    "papermill": {
     "duration": null,
     "end_time": null,
     "exception": null,
     "start_time": null,
     "status": "pending"
    },
    "tags": []
   },
   "outputs": [
    {
     "data": {
      "text/plain": [
       "exit_status\n",
       "0    0.7884\n",
       "1    0.2116\n",
       "Name: count, dtype: float64"
      ]
     },
     "execution_count": 28,
     "metadata": {},
     "output_type": "execute_result"
    }
   ],
   "source": [
    "df['exit_status'].value_counts()/df['exit_status'].value_counts().sum()"
   ]
  },
  {
   "cell_type": "code",
   "execution_count": 29,
   "id": "414debcb",
   "metadata": {
    "ExecuteTime": {
     "end_time": "2025-07-29T06:50:30.651506Z",
     "start_time": "2025-07-29T06:50:30.628757Z"
    },
    "papermill": {
     "duration": null,
     "end_time": null,
     "exception": null,
     "start_time": null,
     "status": "pending"
    },
    "tags": []
   },
   "outputs": [],
   "source": [
    "# Imports for model building & selection\n",
    "from sklearn.linear_model import LogisticRegression\n",
    "from sklearn.neighbors import KNeighborsClassifier\n",
    "from sklearn.tree import DecisionTreeClassifier\n",
    "from sklearn.ensemble import RandomForestClassifier, GradientBoostingClassifier, VotingClassifier, StackingClassifier\n",
    "from sklearn.svm import SVC\n",
    "from xgboost import XGBClassifier\n",
    "from sklearn.naive_bayes import GaussianNB\n",
    "from sklearn.model_selection import GridSearchCV, RandomizedSearchCV, StratifiedKFold, cross_val_score\n",
    "from sklearn.metrics import accuracy_score, precision_score, recall_score, f1_score\n",
    "from scipy.stats import uniform, randint, loguniform"
   ]
  },
  {
   "cell_type": "code",
   "execution_count": 30,
   "id": "84ac9578",
   "metadata": {
    "ExecuteTime": {
     "end_time": "2025-07-29T06:50:30.660733Z",
     "start_time": "2025-07-29T06:50:30.656785Z"
    },
    "papermill": {
     "duration": null,
     "end_time": null,
     "exception": null,
     "start_time": null,
     "status": "pending"
    },
    "tags": []
   },
   "outputs": [],
   "source": [
    "# Initial Models\n",
    "logreg_pl = Pipeline([\n",
    "    ('poly', PolynomialFeatures(degree=2, include_bias=False)),\n",
    "    ('logreg', LogisticRegression(random_state=random_state))\n",
    "])\n",
    "svc = SVC(probability=True, random_state=random_state)\n",
    "knn = KNeighborsClassifier(n_jobs=-1)\n",
    "dt = DecisionTreeClassifier(random_state=random_state)\n",
    "gnb = GaussianNB()\n",
    "rf = RandomForestClassifier(random_state=random_state, n_jobs=-1)\n",
    "gbc = GradientBoostingClassifier(random_state=random_state)\n",
    "xgb = XGBClassifier(random_state=random_state, n_jobs=-1)\n",
    "\n",
    "models = {\n",
    "    'Logistic Regression': logreg_pl,\n",
    "    'K-Nearest Neighbors': knn,\n",
    "    'Support Vector Machine': svc,\n",
    "    'Decision Tree': dt,\n",
    "    'Gaussian Naive Bayes': gnb,\n",
    "    'Random Forest': rf,\n",
    "    'Gradient Boosting Classifier': gbc,\n",
    "    'Extreme Gradient Boost Classifier': xgb\n",
    "}"
   ]
  },
  {
   "cell_type": "code",
   "execution_count": 31,
   "id": "aa0d02c7",
   "metadata": {
    "ExecuteTime": {
     "end_time": "2025-07-29T06:58:14.291904Z",
     "start_time": "2025-07-29T06:50:30.667443Z"
    },
    "papermill": {
     "duration": null,
     "end_time": null,
     "exception": null,
     "start_time": null,
     "status": "pending"
    },
    "tags": []
   },
   "outputs": [
    {
     "name": "stdout",
     "output_type": "stream",
     "text": [
      "Test Score for Logistic Regression: 0.6094812709369607\n",
      "Test Score for K-Nearest Neighbors: 0.5780148983289712\n",
      "Test Score for Support Vector Machine: 0.6165043567401333\n",
      "Test Score for Decision Tree: 0.5110675808031342\n",
      "Test Score for Gaussian Naive Bayes: 0.5368656861790202\n",
      "Test Score for Random Forest: 0.6209101566663114\n",
      "Test Score for Gradient Boosting Classifier: 0.6244400458381081\n",
      "Test Score for Extreme Gradient Boost Classifier: 0.6287251210328133\n",
      "Test score for Voting Classifier: 0.6261672437309831\n"
     ]
    }
   ],
   "source": [
    "for name,model in models.items():\n",
    "  model.fit(X_train_balanced,y_train_balanced)\n",
    "  y_pred = model.predict(X_test)\n",
    "  print(f\"Test Score for {name}: {f1_score(y_test,y_pred)}\")\n",
    "    \n",
    "voting_clf = VotingClassifier(estimators=[\n",
    "    ('logistic', logreg_pl),\n",
    "    ('support vector', svc),\n",
    "    ('forest', rf),\n",
    "    ('extreme gradient', xgb)\n",
    "], voting='soft', n_jobs=-1)\n",
    "voting_clf.fit(X_train_balanced,y_train_balanced)\n",
    "y_pred = voting_clf.predict(X_test)\n",
    "print(f\"Test score for Voting Classifier: {f1_score(y_test,y_pred)}\")"
   ]
  },
  {
   "cell_type": "code",
   "execution_count": 32,
   "id": "28cbfc2c",
   "metadata": {
    "ExecuteTime": {
     "end_time": "2025-07-29T07:10:05.889563Z",
     "start_time": "2025-07-29T06:58:14.400738Z"
    },
    "papermill": {
     "duration": null,
     "end_time": null,
     "exception": null,
     "start_time": null,
     "status": "pending"
    },
    "tags": []
   },
   "outputs": [
    {
     "data": {
      "text/html": [
       "<style>#sk-container-id-1 {\n",
       "  /* Definition of color scheme common for light and dark mode */\n",
       "  --sklearn-color-text: #000;\n",
       "  --sklearn-color-text-muted: #666;\n",
       "  --sklearn-color-line: gray;\n",
       "  /* Definition of color scheme for unfitted estimators */\n",
       "  --sklearn-color-unfitted-level-0: #fff5e6;\n",
       "  --sklearn-color-unfitted-level-1: #f6e4d2;\n",
       "  --sklearn-color-unfitted-level-2: #ffe0b3;\n",
       "  --sklearn-color-unfitted-level-3: chocolate;\n",
       "  /* Definition of color scheme for fitted estimators */\n",
       "  --sklearn-color-fitted-level-0: #f0f8ff;\n",
       "  --sklearn-color-fitted-level-1: #d4ebff;\n",
       "  --sklearn-color-fitted-level-2: #b3dbfd;\n",
       "  --sklearn-color-fitted-level-3: cornflowerblue;\n",
       "\n",
       "  /* Specific color for light theme */\n",
       "  --sklearn-color-text-on-default-background: var(--sg-text-color, var(--theme-code-foreground, var(--jp-content-font-color1, black)));\n",
       "  --sklearn-color-background: var(--sg-background-color, var(--theme-background, var(--jp-layout-color0, white)));\n",
       "  --sklearn-color-border-box: var(--sg-text-color, var(--theme-code-foreground, var(--jp-content-font-color1, black)));\n",
       "  --sklearn-color-icon: #696969;\n",
       "\n",
       "  @media (prefers-color-scheme: dark) {\n",
       "    /* Redefinition of color scheme for dark theme */\n",
       "    --sklearn-color-text-on-default-background: var(--sg-text-color, var(--theme-code-foreground, var(--jp-content-font-color1, white)));\n",
       "    --sklearn-color-background: var(--sg-background-color, var(--theme-background, var(--jp-layout-color0, #111)));\n",
       "    --sklearn-color-border-box: var(--sg-text-color, var(--theme-code-foreground, var(--jp-content-font-color1, white)));\n",
       "    --sklearn-color-icon: #878787;\n",
       "  }\n",
       "}\n",
       "\n",
       "#sk-container-id-1 {\n",
       "  color: var(--sklearn-color-text);\n",
       "}\n",
       "\n",
       "#sk-container-id-1 pre {\n",
       "  padding: 0;\n",
       "}\n",
       "\n",
       "#sk-container-id-1 input.sk-hidden--visually {\n",
       "  border: 0;\n",
       "  clip: rect(1px 1px 1px 1px);\n",
       "  clip: rect(1px, 1px, 1px, 1px);\n",
       "  height: 1px;\n",
       "  margin: -1px;\n",
       "  overflow: hidden;\n",
       "  padding: 0;\n",
       "  position: absolute;\n",
       "  width: 1px;\n",
       "}\n",
       "\n",
       "#sk-container-id-1 div.sk-dashed-wrapped {\n",
       "  border: 1px dashed var(--sklearn-color-line);\n",
       "  margin: 0 0.4em 0.5em 0.4em;\n",
       "  box-sizing: border-box;\n",
       "  padding-bottom: 0.4em;\n",
       "  background-color: var(--sklearn-color-background);\n",
       "}\n",
       "\n",
       "#sk-container-id-1 div.sk-container {\n",
       "  /* jupyter's `normalize.less` sets `[hidden] { display: none; }`\n",
       "     but bootstrap.min.css set `[hidden] { display: none !important; }`\n",
       "     so we also need the `!important` here to be able to override the\n",
       "     default hidden behavior on the sphinx rendered scikit-learn.org.\n",
       "     See: https://github.com/scikit-learn/scikit-learn/issues/21755 */\n",
       "  display: inline-block !important;\n",
       "  position: relative;\n",
       "}\n",
       "\n",
       "#sk-container-id-1 div.sk-text-repr-fallback {\n",
       "  display: none;\n",
       "}\n",
       "\n",
       "div.sk-parallel-item,\n",
       "div.sk-serial,\n",
       "div.sk-item {\n",
       "  /* draw centered vertical line to link estimators */\n",
       "  background-image: linear-gradient(var(--sklearn-color-text-on-default-background), var(--sklearn-color-text-on-default-background));\n",
       "  background-size: 2px 100%;\n",
       "  background-repeat: no-repeat;\n",
       "  background-position: center center;\n",
       "}\n",
       "\n",
       "/* Parallel-specific style estimator block */\n",
       "\n",
       "#sk-container-id-1 div.sk-parallel-item::after {\n",
       "  content: \"\";\n",
       "  width: 100%;\n",
       "  border-bottom: 2px solid var(--sklearn-color-text-on-default-background);\n",
       "  flex-grow: 1;\n",
       "}\n",
       "\n",
       "#sk-container-id-1 div.sk-parallel {\n",
       "  display: flex;\n",
       "  align-items: stretch;\n",
       "  justify-content: center;\n",
       "  background-color: var(--sklearn-color-background);\n",
       "  position: relative;\n",
       "}\n",
       "\n",
       "#sk-container-id-1 div.sk-parallel-item {\n",
       "  display: flex;\n",
       "  flex-direction: column;\n",
       "}\n",
       "\n",
       "#sk-container-id-1 div.sk-parallel-item:first-child::after {\n",
       "  align-self: flex-end;\n",
       "  width: 50%;\n",
       "}\n",
       "\n",
       "#sk-container-id-1 div.sk-parallel-item:last-child::after {\n",
       "  align-self: flex-start;\n",
       "  width: 50%;\n",
       "}\n",
       "\n",
       "#sk-container-id-1 div.sk-parallel-item:only-child::after {\n",
       "  width: 0;\n",
       "}\n",
       "\n",
       "/* Serial-specific style estimator block */\n",
       "\n",
       "#sk-container-id-1 div.sk-serial {\n",
       "  display: flex;\n",
       "  flex-direction: column;\n",
       "  align-items: center;\n",
       "  background-color: var(--sklearn-color-background);\n",
       "  padding-right: 1em;\n",
       "  padding-left: 1em;\n",
       "}\n",
       "\n",
       "\n",
       "/* Toggleable style: style used for estimator/Pipeline/ColumnTransformer box that is\n",
       "clickable and can be expanded/collapsed.\n",
       "- Pipeline and ColumnTransformer use this feature and define the default style\n",
       "- Estimators will overwrite some part of the style using the `sk-estimator` class\n",
       "*/\n",
       "\n",
       "/* Pipeline and ColumnTransformer style (default) */\n",
       "\n",
       "#sk-container-id-1 div.sk-toggleable {\n",
       "  /* Default theme specific background. It is overwritten whether we have a\n",
       "  specific estimator or a Pipeline/ColumnTransformer */\n",
       "  background-color: var(--sklearn-color-background);\n",
       "}\n",
       "\n",
       "/* Toggleable label */\n",
       "#sk-container-id-1 label.sk-toggleable__label {\n",
       "  cursor: pointer;\n",
       "  display: flex;\n",
       "  width: 100%;\n",
       "  margin-bottom: 0;\n",
       "  padding: 0.5em;\n",
       "  box-sizing: border-box;\n",
       "  text-align: center;\n",
       "  align-items: start;\n",
       "  justify-content: space-between;\n",
       "  gap: 0.5em;\n",
       "}\n",
       "\n",
       "#sk-container-id-1 label.sk-toggleable__label .caption {\n",
       "  font-size: 0.6rem;\n",
       "  font-weight: lighter;\n",
       "  color: var(--sklearn-color-text-muted);\n",
       "}\n",
       "\n",
       "#sk-container-id-1 label.sk-toggleable__label-arrow:before {\n",
       "  /* Arrow on the left of the label */\n",
       "  content: \"▸\";\n",
       "  float: left;\n",
       "  margin-right: 0.25em;\n",
       "  color: var(--sklearn-color-icon);\n",
       "}\n",
       "\n",
       "#sk-container-id-1 label.sk-toggleable__label-arrow:hover:before {\n",
       "  color: var(--sklearn-color-text);\n",
       "}\n",
       "\n",
       "/* Toggleable content - dropdown */\n",
       "\n",
       "#sk-container-id-1 div.sk-toggleable__content {\n",
       "  max-height: 0;\n",
       "  max-width: 0;\n",
       "  overflow: hidden;\n",
       "  text-align: left;\n",
       "  /* unfitted */\n",
       "  background-color: var(--sklearn-color-unfitted-level-0);\n",
       "}\n",
       "\n",
       "#sk-container-id-1 div.sk-toggleable__content.fitted {\n",
       "  /* fitted */\n",
       "  background-color: var(--sklearn-color-fitted-level-0);\n",
       "}\n",
       "\n",
       "#sk-container-id-1 div.sk-toggleable__content pre {\n",
       "  margin: 0.2em;\n",
       "  border-radius: 0.25em;\n",
       "  color: var(--sklearn-color-text);\n",
       "  /* unfitted */\n",
       "  background-color: var(--sklearn-color-unfitted-level-0);\n",
       "}\n",
       "\n",
       "#sk-container-id-1 div.sk-toggleable__content.fitted pre {\n",
       "  /* unfitted */\n",
       "  background-color: var(--sklearn-color-fitted-level-0);\n",
       "}\n",
       "\n",
       "#sk-container-id-1 input.sk-toggleable__control:checked~div.sk-toggleable__content {\n",
       "  /* Expand drop-down */\n",
       "  max-height: 200px;\n",
       "  max-width: 100%;\n",
       "  overflow: auto;\n",
       "}\n",
       "\n",
       "#sk-container-id-1 input.sk-toggleable__control:checked~label.sk-toggleable__label-arrow:before {\n",
       "  content: \"▾\";\n",
       "}\n",
       "\n",
       "/* Pipeline/ColumnTransformer-specific style */\n",
       "\n",
       "#sk-container-id-1 div.sk-label input.sk-toggleable__control:checked~label.sk-toggleable__label {\n",
       "  color: var(--sklearn-color-text);\n",
       "  background-color: var(--sklearn-color-unfitted-level-2);\n",
       "}\n",
       "\n",
       "#sk-container-id-1 div.sk-label.fitted input.sk-toggleable__control:checked~label.sk-toggleable__label {\n",
       "  background-color: var(--sklearn-color-fitted-level-2);\n",
       "}\n",
       "\n",
       "/* Estimator-specific style */\n",
       "\n",
       "/* Colorize estimator box */\n",
       "#sk-container-id-1 div.sk-estimator input.sk-toggleable__control:checked~label.sk-toggleable__label {\n",
       "  /* unfitted */\n",
       "  background-color: var(--sklearn-color-unfitted-level-2);\n",
       "}\n",
       "\n",
       "#sk-container-id-1 div.sk-estimator.fitted input.sk-toggleable__control:checked~label.sk-toggleable__label {\n",
       "  /* fitted */\n",
       "  background-color: var(--sklearn-color-fitted-level-2);\n",
       "}\n",
       "\n",
       "#sk-container-id-1 div.sk-label label.sk-toggleable__label,\n",
       "#sk-container-id-1 div.sk-label label {\n",
       "  /* The background is the default theme color */\n",
       "  color: var(--sklearn-color-text-on-default-background);\n",
       "}\n",
       "\n",
       "/* On hover, darken the color of the background */\n",
       "#sk-container-id-1 div.sk-label:hover label.sk-toggleable__label {\n",
       "  color: var(--sklearn-color-text);\n",
       "  background-color: var(--sklearn-color-unfitted-level-2);\n",
       "}\n",
       "\n",
       "/* Label box, darken color on hover, fitted */\n",
       "#sk-container-id-1 div.sk-label.fitted:hover label.sk-toggleable__label.fitted {\n",
       "  color: var(--sklearn-color-text);\n",
       "  background-color: var(--sklearn-color-fitted-level-2);\n",
       "}\n",
       "\n",
       "/* Estimator label */\n",
       "\n",
       "#sk-container-id-1 div.sk-label label {\n",
       "  font-family: monospace;\n",
       "  font-weight: bold;\n",
       "  display: inline-block;\n",
       "  line-height: 1.2em;\n",
       "}\n",
       "\n",
       "#sk-container-id-1 div.sk-label-container {\n",
       "  text-align: center;\n",
       "}\n",
       "\n",
       "/* Estimator-specific */\n",
       "#sk-container-id-1 div.sk-estimator {\n",
       "  font-family: monospace;\n",
       "  border: 1px dotted var(--sklearn-color-border-box);\n",
       "  border-radius: 0.25em;\n",
       "  box-sizing: border-box;\n",
       "  margin-bottom: 0.5em;\n",
       "  /* unfitted */\n",
       "  background-color: var(--sklearn-color-unfitted-level-0);\n",
       "}\n",
       "\n",
       "#sk-container-id-1 div.sk-estimator.fitted {\n",
       "  /* fitted */\n",
       "  background-color: var(--sklearn-color-fitted-level-0);\n",
       "}\n",
       "\n",
       "/* on hover */\n",
       "#sk-container-id-1 div.sk-estimator:hover {\n",
       "  /* unfitted */\n",
       "  background-color: var(--sklearn-color-unfitted-level-2);\n",
       "}\n",
       "\n",
       "#sk-container-id-1 div.sk-estimator.fitted:hover {\n",
       "  /* fitted */\n",
       "  background-color: var(--sklearn-color-fitted-level-2);\n",
       "}\n",
       "\n",
       "/* Specification for estimator info (e.g. \"i\" and \"?\") */\n",
       "\n",
       "/* Common style for \"i\" and \"?\" */\n",
       "\n",
       ".sk-estimator-doc-link,\n",
       "a:link.sk-estimator-doc-link,\n",
       "a:visited.sk-estimator-doc-link {\n",
       "  float: right;\n",
       "  font-size: smaller;\n",
       "  line-height: 1em;\n",
       "  font-family: monospace;\n",
       "  background-color: var(--sklearn-color-background);\n",
       "  border-radius: 1em;\n",
       "  height: 1em;\n",
       "  width: 1em;\n",
       "  text-decoration: none !important;\n",
       "  margin-left: 0.5em;\n",
       "  text-align: center;\n",
       "  /* unfitted */\n",
       "  border: var(--sklearn-color-unfitted-level-1) 1pt solid;\n",
       "  color: var(--sklearn-color-unfitted-level-1);\n",
       "}\n",
       "\n",
       ".sk-estimator-doc-link.fitted,\n",
       "a:link.sk-estimator-doc-link.fitted,\n",
       "a:visited.sk-estimator-doc-link.fitted {\n",
       "  /* fitted */\n",
       "  border: var(--sklearn-color-fitted-level-1) 1pt solid;\n",
       "  color: var(--sklearn-color-fitted-level-1);\n",
       "}\n",
       "\n",
       "/* On hover */\n",
       "div.sk-estimator:hover .sk-estimator-doc-link:hover,\n",
       ".sk-estimator-doc-link:hover,\n",
       "div.sk-label-container:hover .sk-estimator-doc-link:hover,\n",
       ".sk-estimator-doc-link:hover {\n",
       "  /* unfitted */\n",
       "  background-color: var(--sklearn-color-unfitted-level-3);\n",
       "  color: var(--sklearn-color-background);\n",
       "  text-decoration: none;\n",
       "}\n",
       "\n",
       "div.sk-estimator.fitted:hover .sk-estimator-doc-link.fitted:hover,\n",
       ".sk-estimator-doc-link.fitted:hover,\n",
       "div.sk-label-container:hover .sk-estimator-doc-link.fitted:hover,\n",
       ".sk-estimator-doc-link.fitted:hover {\n",
       "  /* fitted */\n",
       "  background-color: var(--sklearn-color-fitted-level-3);\n",
       "  color: var(--sklearn-color-background);\n",
       "  text-decoration: none;\n",
       "}\n",
       "\n",
       "/* Span, style for the box shown on hovering the info icon */\n",
       ".sk-estimator-doc-link span {\n",
       "  display: none;\n",
       "  z-index: 9999;\n",
       "  position: relative;\n",
       "  font-weight: normal;\n",
       "  right: .2ex;\n",
       "  padding: .5ex;\n",
       "  margin: .5ex;\n",
       "  width: min-content;\n",
       "  min-width: 20ex;\n",
       "  max-width: 50ex;\n",
       "  color: var(--sklearn-color-text);\n",
       "  box-shadow: 2pt 2pt 4pt #999;\n",
       "  /* unfitted */\n",
       "  background: var(--sklearn-color-unfitted-level-0);\n",
       "  border: .5pt solid var(--sklearn-color-unfitted-level-3);\n",
       "}\n",
       "\n",
       ".sk-estimator-doc-link.fitted span {\n",
       "  /* fitted */\n",
       "  background: var(--sklearn-color-fitted-level-0);\n",
       "  border: var(--sklearn-color-fitted-level-3);\n",
       "}\n",
       "\n",
       ".sk-estimator-doc-link:hover span {\n",
       "  display: block;\n",
       "}\n",
       "\n",
       "/* \"?\"-specific style due to the `<a>` HTML tag */\n",
       "\n",
       "#sk-container-id-1 a.estimator_doc_link {\n",
       "  float: right;\n",
       "  font-size: 1rem;\n",
       "  line-height: 1em;\n",
       "  font-family: monospace;\n",
       "  background-color: var(--sklearn-color-background);\n",
       "  border-radius: 1rem;\n",
       "  height: 1rem;\n",
       "  width: 1rem;\n",
       "  text-decoration: none;\n",
       "  /* unfitted */\n",
       "  color: var(--sklearn-color-unfitted-level-1);\n",
       "  border: var(--sklearn-color-unfitted-level-1) 1pt solid;\n",
       "}\n",
       "\n",
       "#sk-container-id-1 a.estimator_doc_link.fitted {\n",
       "  /* fitted */\n",
       "  border: var(--sklearn-color-fitted-level-1) 1pt solid;\n",
       "  color: var(--sklearn-color-fitted-level-1);\n",
       "}\n",
       "\n",
       "/* On hover */\n",
       "#sk-container-id-1 a.estimator_doc_link:hover {\n",
       "  /* unfitted */\n",
       "  background-color: var(--sklearn-color-unfitted-level-3);\n",
       "  color: var(--sklearn-color-background);\n",
       "  text-decoration: none;\n",
       "}\n",
       "\n",
       "#sk-container-id-1 a.estimator_doc_link.fitted:hover {\n",
       "  /* fitted */\n",
       "  background-color: var(--sklearn-color-fitted-level-3);\n",
       "}\n",
       "</style><div id=\"sk-container-id-1\" class=\"sk-top-container\"><div class=\"sk-text-repr-fallback\"><pre>StackingClassifier(estimators=[(&#x27;logistic&#x27;,\n",
       "                                Pipeline(steps=[(&#x27;poly&#x27;,\n",
       "                                                 PolynomialFeatures(degree=3,\n",
       "                                                                    include_bias=False)),\n",
       "                                                (&#x27;logreg&#x27;,\n",
       "                                                 LogisticRegression(C=np.float64(44.703184626748936),\n",
       "                                                                    max_iter=1000,\n",
       "                                                                    random_state=25))])),\n",
       "                               (&#x27;forest&#x27;,\n",
       "                                RandomForestClassifier(ccp_alpha=np.float64(0.00047929531649904325),\n",
       "                                                       max_samples=0.9,\n",
       "                                                       min_samples_leaf=4,\n",
       "                                                       min_samples_split=4,\n",
       "                                                       n_es...\n",
       "                                              learning_rate=np.float64(0.10448564669312756),\n",
       "                                              max_bin=None,\n",
       "                                              max_cat_threshold=None,\n",
       "                                              max_cat_to_onehot=None,\n",
       "                                              max_delta_step=None, max_depth=3,\n",
       "                                              max_leaves=None,\n",
       "                                              min_child_weight=5, missing=nan,\n",
       "                                              monotone_constraints=None,\n",
       "                                              multi_strategy=None,\n",
       "                                              n_estimators=401, n_jobs=None,\n",
       "                                              num_parallel_tree=None, ...))],\n",
       "                   final_estimator=SVC(C=1, probability=True), n_jobs=-1,\n",
       "                   stack_method=&#x27;predict_proba&#x27;)</pre><b>In a Jupyter environment, please rerun this cell to show the HTML representation or trust the notebook. <br />On GitHub, the HTML representation is unable to render, please try loading this page with nbviewer.org.</b></div><div class=\"sk-container\" hidden><div class=\"sk-item sk-dashed-wrapped\"><div class=\"sk-label-container\"><div class=\"sk-label fitted sk-toggleable\"><input class=\"sk-toggleable__control sk-hidden--visually\" id=\"sk-estimator-id-1\" type=\"checkbox\" ><label for=\"sk-estimator-id-1\" class=\"sk-toggleable__label fitted sk-toggleable__label-arrow\"><div><div>StackingClassifier</div></div><div><a class=\"sk-estimator-doc-link fitted\" rel=\"noreferrer\" target=\"_blank\" href=\"https://scikit-learn.org/1.6/modules/generated/sklearn.ensemble.StackingClassifier.html\">?<span>Documentation for StackingClassifier</span></a><span class=\"sk-estimator-doc-link fitted\">i<span>Fitted</span></span></div></label><div class=\"sk-toggleable__content fitted\"><pre>StackingClassifier(estimators=[(&#x27;logistic&#x27;,\n",
       "                                Pipeline(steps=[(&#x27;poly&#x27;,\n",
       "                                                 PolynomialFeatures(degree=3,\n",
       "                                                                    include_bias=False)),\n",
       "                                                (&#x27;logreg&#x27;,\n",
       "                                                 LogisticRegression(C=np.float64(44.703184626748936),\n",
       "                                                                    max_iter=1000,\n",
       "                                                                    random_state=25))])),\n",
       "                               (&#x27;forest&#x27;,\n",
       "                                RandomForestClassifier(ccp_alpha=np.float64(0.00047929531649904325),\n",
       "                                                       max_samples=0.9,\n",
       "                                                       min_samples_leaf=4,\n",
       "                                                       min_samples_split=4,\n",
       "                                                       n_es...\n",
       "                                              learning_rate=np.float64(0.10448564669312756),\n",
       "                                              max_bin=None,\n",
       "                                              max_cat_threshold=None,\n",
       "                                              max_cat_to_onehot=None,\n",
       "                                              max_delta_step=None, max_depth=3,\n",
       "                                              max_leaves=None,\n",
       "                                              min_child_weight=5, missing=nan,\n",
       "                                              monotone_constraints=None,\n",
       "                                              multi_strategy=None,\n",
       "                                              n_estimators=401, n_jobs=None,\n",
       "                                              num_parallel_tree=None, ...))],\n",
       "                   final_estimator=SVC(C=1, probability=True), n_jobs=-1,\n",
       "                   stack_method=&#x27;predict_proba&#x27;)</pre></div> </div></div><div class=\"sk-serial\"><div class=\"sk-item\"><div class=\"sk-parallel\"><div class=\"sk-parallel-item\"><div class=\"sk-item\"><div class=\"sk-label-container\"><div class=\"sk-label fitted sk-toggleable\"><label>logistic</label></div></div><div class=\"sk-serial\"><div class=\"sk-item\"><div class=\"sk-serial\"><div class=\"sk-item\"><div class=\"sk-estimator fitted sk-toggleable\"><input class=\"sk-toggleable__control sk-hidden--visually\" id=\"sk-estimator-id-2\" type=\"checkbox\" ><label for=\"sk-estimator-id-2\" class=\"sk-toggleable__label fitted sk-toggleable__label-arrow\"><div><div>PolynomialFeatures</div></div><div><a class=\"sk-estimator-doc-link fitted\" rel=\"noreferrer\" target=\"_blank\" href=\"https://scikit-learn.org/1.6/modules/generated/sklearn.preprocessing.PolynomialFeatures.html\">?<span>Documentation for PolynomialFeatures</span></a></div></label><div class=\"sk-toggleable__content fitted\"><pre>PolynomialFeatures(degree=3, include_bias=False)</pre></div> </div></div><div class=\"sk-item\"><div class=\"sk-estimator fitted sk-toggleable\"><input class=\"sk-toggleable__control sk-hidden--visually\" id=\"sk-estimator-id-3\" type=\"checkbox\" ><label for=\"sk-estimator-id-3\" class=\"sk-toggleable__label fitted sk-toggleable__label-arrow\"><div><div>LogisticRegression</div></div><div><a class=\"sk-estimator-doc-link fitted\" rel=\"noreferrer\" target=\"_blank\" href=\"https://scikit-learn.org/1.6/modules/generated/sklearn.linear_model.LogisticRegression.html\">?<span>Documentation for LogisticRegression</span></a></div></label><div class=\"sk-toggleable__content fitted\"><pre>LogisticRegression(C=np.float64(44.703184626748936), max_iter=1000,\n",
       "                   random_state=25)</pre></div> </div></div></div></div></div></div></div><div class=\"sk-parallel-item\"><div class=\"sk-item\"><div class=\"sk-label-container\"><div class=\"sk-label fitted sk-toggleable\"><label>forest</label></div></div><div class=\"sk-serial\"><div class=\"sk-item\"><div class=\"sk-estimator fitted sk-toggleable\"><input class=\"sk-toggleable__control sk-hidden--visually\" id=\"sk-estimator-id-4\" type=\"checkbox\" ><label for=\"sk-estimator-id-4\" class=\"sk-toggleable__label fitted sk-toggleable__label-arrow\"><div><div>RandomForestClassifier</div></div><div><a class=\"sk-estimator-doc-link fitted\" rel=\"noreferrer\" target=\"_blank\" href=\"https://scikit-learn.org/1.6/modules/generated/sklearn.ensemble.RandomForestClassifier.html\">?<span>Documentation for RandomForestClassifier</span></a></div></label><div class=\"sk-toggleable__content fitted\"><pre>RandomForestClassifier(ccp_alpha=np.float64(0.00047929531649904325),\n",
       "                       max_samples=0.9, min_samples_leaf=4, min_samples_split=4,\n",
       "                       n_estimators=618, random_state=25)</pre></div> </div></div></div></div></div><div class=\"sk-parallel-item\"><div class=\"sk-item\"><div class=\"sk-label-container\"><div class=\"sk-label fitted sk-toggleable\"><label>gradient</label></div></div><div class=\"sk-serial\"><div class=\"sk-item\"><div class=\"sk-estimator fitted sk-toggleable\"><input class=\"sk-toggleable__control sk-hidden--visually\" id=\"sk-estimator-id-5\" type=\"checkbox\" ><label for=\"sk-estimator-id-5\" class=\"sk-toggleable__label fitted sk-toggleable__label-arrow\"><div><div>GradientBoostingClassifier</div></div><div><a class=\"sk-estimator-doc-link fitted\" rel=\"noreferrer\" target=\"_blank\" href=\"https://scikit-learn.org/1.6/modules/generated/sklearn.ensemble.GradientBoostingClassifier.html\">?<span>Documentation for GradientBoostingClassifier</span></a></div></label><div class=\"sk-toggleable__content fitted\"><pre>GradientBoostingClassifier(ccp_alpha=np.float64(0.00023197246807360905),\n",
       "                           learning_rate=np.float64(0.1680802514531318),\n",
       "                           max_features=&#x27;log2&#x27;, min_samples_leaf=7,\n",
       "                           min_samples_split=12, n_estimators=554,\n",
       "                           random_state=25,\n",
       "                           subsample=np.float64(0.7958084193273527))</pre></div> </div></div></div></div></div><div class=\"sk-parallel-item\"><div class=\"sk-item\"><div class=\"sk-label-container\"><div class=\"sk-label fitted sk-toggleable\"><label>extreme gradient</label></div></div><div class=\"sk-serial\"><div class=\"sk-item\"><div class=\"sk-estimator fitted sk-toggleable\"><input class=\"sk-toggleable__control sk-hidden--visually\" id=\"sk-estimator-id-6\" type=\"checkbox\" ><label for=\"sk-estimator-id-6\" class=\"sk-toggleable__label fitted sk-toggleable__label-arrow\"><div><div>XGBClassifier</div></div><div><a class=\"sk-estimator-doc-link fitted\" rel=\"noreferrer\" target=\"_blank\" href=\"https://xgboost.readthedocs.io/en/release_3.0.0/python/python_api.html#xgboost.XGBClassifier\">?<span>Documentation for XGBClassifier</span></a></div></label><div class=\"sk-toggleable__content fitted\"><pre>XGBClassifier(base_score=None, booster=None, callbacks=None,\n",
       "              colsample_bylevel=None, colsample_bynode=None,\n",
       "              colsample_bytree=np.float64(0.601712503340335), device=None,\n",
       "              early_stopping_rounds=None, enable_categorical=False,\n",
       "              eval_metric=&#x27;logloss&#x27;, feature_types=None, feature_weights=None,\n",
       "              gamma=np.float64(1.296082061234638), grow_policy=None,\n",
       "              importance_type=None, interaction_constraints=None,\n",
       "              learning_rate=np.float64(0.10448564669312756), max_bin=None,\n",
       "              max_cat_threshold=None, max_cat_to_onehot=None,\n",
       "              max_delta_step=None, max_depth=3, max_leaves=None,\n",
       "              min_child_weight=5, missing=nan, monotone_constraints=None,\n",
       "              multi_strategy=None, n_estimators=401, n_jobs=None,\n",
       "              num_parallel_tree=None, ...)</pre></div> </div></div></div></div></div></div></div><div class=\"sk-item\"><div class=\"sk-parallel\"><div class=\"sk-parallel-item\"><div class=\"sk-item\"><div class=\"sk-label-container\"><div class=\"sk-label fitted sk-toggleable\"><label>final_estimator</label></div></div><div class=\"sk-serial\"><div class=\"sk-item\"><div class=\"sk-estimator fitted sk-toggleable\"><input class=\"sk-toggleable__control sk-hidden--visually\" id=\"sk-estimator-id-7\" type=\"checkbox\" ><label for=\"sk-estimator-id-7\" class=\"sk-toggleable__label fitted sk-toggleable__label-arrow\"><div><div>SVC</div></div><div><a class=\"sk-estimator-doc-link fitted\" rel=\"noreferrer\" target=\"_blank\" href=\"https://scikit-learn.org/1.6/modules/generated/sklearn.svm.SVC.html\">?<span>Documentation for SVC</span></a></div></label><div class=\"sk-toggleable__content fitted\"><pre>SVC(C=1, probability=True)</pre></div> </div></div></div></div></div></div></div></div></div></div></div>"
      ],
      "text/plain": [
       "StackingClassifier(estimators=[('logistic',\n",
       "                                Pipeline(steps=[('poly',\n",
       "                                                 PolynomialFeatures(degree=3,\n",
       "                                                                    include_bias=False)),\n",
       "                                                ('logreg',\n",
       "                                                 LogisticRegression(C=np.float64(44.703184626748936),\n",
       "                                                                    max_iter=1000,\n",
       "                                                                    random_state=25))])),\n",
       "                               ('forest',\n",
       "                                RandomForestClassifier(ccp_alpha=np.float64(0.00047929531649904325),\n",
       "                                                       max_samples=0.9,\n",
       "                                                       min_samples_leaf=4,\n",
       "                                                       min_samples_split=4,\n",
       "                                                       n_es...\n",
       "                                              learning_rate=np.float64(0.10448564669312756),\n",
       "                                              max_bin=None,\n",
       "                                              max_cat_threshold=None,\n",
       "                                              max_cat_to_onehot=None,\n",
       "                                              max_delta_step=None, max_depth=3,\n",
       "                                              max_leaves=None,\n",
       "                                              min_child_weight=5, missing=nan,\n",
       "                                              monotone_constraints=None,\n",
       "                                              multi_strategy=None,\n",
       "                                              n_estimators=401, n_jobs=None,\n",
       "                                              num_parallel_tree=None, ...))],\n",
       "                   final_estimator=SVC(C=1, probability=True), n_jobs=-1,\n",
       "                   stack_method='predict_proba')"
      ]
     },
     "execution_count": 32,
     "metadata": {},
     "output_type": "execute_result"
    }
   ],
   "source": [
    "kf_train = StratifiedKFold(n_splits=3, shuffle=True, random_state=random_state)\n",
    "\n",
    "logreg_params = {\n",
    "    'poly__degree': [2,3],\n",
    "    'logreg__penalty': ['l2'],\n",
    "    'logreg__solver': ['lbfgs'],\n",
    "    'logreg__max_iter': [1000],\n",
    "    'logreg__C': uniform(1e-4, 1e2)\n",
    "}\n",
    "logreg_grid = RandomizedSearchCV(\n",
    "    logreg_pl,\n",
    "    logreg_params,\n",
    "    cv = kf_train,\n",
    "    scoring = 'f1',\n",
    "    n_iter = 10,\n",
    "    random_state = random_state,\n",
    "    n_jobs = -1\n",
    ")\n",
    "logreg_grid.fit(X_train_balanced,y_train_balanced)\n",
    "logreg = logreg_grid.best_estimator_\n",
    "\n",
    "rf_params = {\n",
    "    'n_estimators': randint(300, 1200),\n",
    "    'max_depth': [None] + list(range(10, 41, 10)),\n",
    "    'min_samples_split': randint(2, 15),\n",
    "    'min_samples_leaf': randint(1, 10),\n",
    "    'max_features': ['sqrt', 'log2', 0.2, 0.5],\n",
    "    'bootstrap': [True],\n",
    "    'max_samples': [None, 0.5, 0.7, 0.9],\n",
    "    'ccp_alpha': uniform(0.0, 0.01)\n",
    "}\n",
    "rf_grid = RandomizedSearchCV(\n",
    "    RandomForestClassifier(random_state=random_state),\n",
    "    rf_params,\n",
    "    cv = kf_train,\n",
    "    scoring='f1',\n",
    "    n_iter = 30,\n",
    "    random_state = random_state,\n",
    "    n_jobs = -1\n",
    ")\n",
    "rf_grid.fit(X_train_balanced,y_train_balanced)\n",
    "rf = rf_grid.best_estimator_\n",
    "\n",
    "gbc_params = {\n",
    "    'n_estimators': randint(200, 1000),\n",
    "    'learning_rate': uniform(0.01, 0.2),\n",
    "    'max_depth': randint(3, 10),\n",
    "    'min_samples_split': randint(2, 20),\n",
    "    'min_samples_leaf': randint(1, 10),\n",
    "    'subsample': uniform(0.6, 0.4),\n",
    "    'max_features': ['sqrt', 'log2', 0.2, 0.5],\n",
    "    'ccp_alpha': uniform(0.0, 0.01)\n",
    "}\n",
    "gbc_grid = RandomizedSearchCV(\n",
    "    GradientBoostingClassifier(random_state=random_state),\n",
    "    gbc_params,\n",
    "    cv = kf_train,\n",
    "    scoring = 'f1',\n",
    "    n_iter = 30,\n",
    "    random_state = random_state,\n",
    "    n_jobs = -1        \n",
    ")\n",
    "gbc_grid.fit(X_train_balanced,y_train_balanced)\n",
    "gbc = gbc_grid.best_estimator_\n",
    "\n",
    "xgb_obj = XGBClassifier(\n",
    "    objective = 'binary:logistic',      \n",
    "    eval_metric = 'logloss',    \n",
    "    random_state = random_state\n",
    ")\n",
    "xgb_params = {\n",
    "    'n_estimators': randint(300, 1000),\n",
    "    'learning_rate': uniform(0.01, 0.3),\n",
    "    'max_depth': randint(3, 10),\n",
    "    'min_child_weight': randint(1, 10),\n",
    "    'subsample': uniform(0.6, 0.4),\n",
    "    'colsample_bytree': uniform(0.5, 0.5),\n",
    "    'gamma': uniform(0, 5),\n",
    "    'scale_pos_weight': [1, 2, 5, 10],\n",
    "    'reg_alpha': uniform(0, 0.1),\n",
    "    'reg_lambda': uniform(0.5, 1.5)\n",
    "}\n",
    "xgb_grid = RandomizedSearchCV(\n",
    "    xgb_obj,\n",
    "    xgb_params,\n",
    "    cv = kf_train,\n",
    "    scoring = 'f1',\n",
    "    n_iter = 30,\n",
    "    random_state = random_state,\n",
    "    n_jobs = -1        \n",
    ")\n",
    "xgb_grid.fit(X_train_balanced,y_train_balanced)\n",
    "xgb = xgb_grid.best_estimator_\n",
    "\n",
    "voting_clf = VotingClassifier(estimators=[\n",
    "    ('logistic', logreg),\n",
    "    ('forest', rf),\n",
    "    ('gradient', gbc),\n",
    "    ('extreme gradient', xgb)\n",
    "], voting='soft', n_jobs=-1)\n",
    "voting_clf.fit(X_train_balanced,y_train_balanced)\n",
    "\n",
    "stacking_clf = StackingClassifier(estimators=[\n",
    "    ('logistic', logreg),\n",
    "    ('forest', rf),\n",
    "    ('gradient', gbc),\n",
    "    ('extreme gradient', xgb)\n",
    "], final_estimator=SVC(probability=True, kernel='rbf', C=1, gamma='scale'), stack_method = \"predict_proba\", n_jobs=-1)\n",
    "stacking_clf.fit(X_train_balanced,y_train_balanced)"
   ]
  },
  {
   "cell_type": "code",
   "execution_count": null,
   "id": "db8a7294",
   "metadata": {},
   "outputs": [],
   "source": [
    "models = {\n",
    "    'Logistic Regression': logreg,\n",
    "    'Random Forest': rf,\n",
    "    'Gradient Boosting Classifier': gbc,\n",
    "    'Extreme Gradient Boost Classifier': xgb,\n",
    "    'Voting Classifier': voting_clf,\n",
    "    'Stacking Classifier': stacking_clf\n",
    "}"
   ]
  },
  {
   "cell_type": "code",
   "execution_count": 34,
   "id": "60f6edc9",
   "metadata": {
    "ExecuteTime": {
     "end_time": "2025-07-29T07:57:22.583467Z",
     "start_time": "2025-07-29T07:10:05.983325Z"
    },
    "papermill": {
     "duration": null,
     "end_time": null,
     "exception": null,
     "start_time": null,
     "status": "pending"
    },
    "tags": []
   },
   "outputs": [
    {
     "name": "stdout",
     "output_type": "stream",
     "text": [
      "For Logistic Regression,\n",
      "\tCV F1 Score: 0.6047215760018078\n",
      "\tTest Accuracy Score: 0.7958333333333333\n",
      "\tTest Precison Score: 0.5193531739205229\n",
      "\tTest Recall Score: 0.7741025641025641\n",
      "\tTest F1 Score: 0.6216410995572943\n",
      "For Random Forest,\n",
      "\tCV F1 Score: 0.5468535311101244\n",
      "\tTest Accuracy Score: 0.7938333333333333\n",
      "\tTest Precison Score: 0.5162064825930373\n",
      "\tTest Recall Score: 0.7717948717948718\n",
      "\tTest F1 Score: 0.6186414551433563\n",
      "For Gradient Boosting Classifier,\n",
      "\tCV F1 Score: 0.5846024708757073\n",
      "\tTest Accuracy Score: 0.7951111111111111\n",
      "\tTest Precison Score: 0.5184155663655317\n",
      "\tTest Recall Score: 0.7651282051282051\n",
      "\tTest F1 Score: 0.6180613090306545\n",
      "For Extreme Gradient Boost Classifier,\n",
      "\tCV F1 Score: 0.61332340902975\n",
      "\tTest Accuracy Score: 0.8106111111111111\n",
      "\tTest Precison Score: 0.5455219729278694\n",
      "\tTest Recall Score: 0.7543589743589744\n",
      "\tTest F1 Score: 0.6331647476595287\n"
     ]
    }
   ],
   "source": [
    "kf_cv = StratifiedKFold(n_splits=10, shuffle=True, random_state=random_state)\n",
    "X[encode_cols] = X[encode_cols].astype(str)\n",
    "\n",
    "scores = dict()\n",
    "\n",
    "for model,obj in models.items():\n",
    "    cv_f1 = np.mean(cross_val_score(obj, full_pipeline.transform(X), y, cv = kf_cv, scoring = 'f1', n_jobs = -1))\n",
    "    y_pred = obj.predict(X_test)\n",
    "    test_score = f1_score(y_true = y_test, y_pred = y_pred)\n",
    "    print(f\"For {model},\")\n",
    "    print(f\"\\tCV F1 Score: {cv_f1}\")\n",
    "    print(f\"\\tTest Accuracy Score: {accuracy_score(y_test,y_pred)}\")\n",
    "    print(f\"\\tTest Precison Score: {precision_score(y_test,y_pred)}\")\n",
    "    print(f\"\\tTest Recall Score: {recall_score(y_test,y_pred)}\")\n",
    "    print(f\"\\tTest F1 Score: {test_score}\")\n",
    "    scores[obj] = cv_f1\n",
    "\n",
    "best_model = None\n",
    "best_score = -999\n",
    "for model,score in scores.items():\n",
    "    if score > best_score:\n",
    "        best_score = score\n",
    "        best_model = model"
   ]
  },
  {
   "cell_type": "code",
   "execution_count": 35,
   "id": "7b1ec29c-fb8d-4b9d-935e-6ac9749dba5a",
   "metadata": {
    "ExecuteTime": {
     "end_time": "2025-07-29T07:57:22.742406Z",
     "start_time": "2025-07-29T07:57:22.723682Z"
    }
   },
   "outputs": [
    {
     "name": "stdout",
     "output_type": "stream",
     "text": [
      "XGBClassifier(base_score=None, booster=None, callbacks=None,\n",
      "              colsample_bylevel=None, colsample_bynode=None,\n",
      "              colsample_bytree=np.float64(0.601712503340335), device=None,\n",
      "              early_stopping_rounds=None, enable_categorical=False,\n",
      "              eval_metric='logloss', feature_types=None, feature_weights=None,\n",
      "              gamma=np.float64(1.296082061234638), grow_policy=None,\n",
      "              importance_type=None, interaction_constraints=None,\n",
      "              learning_rate=np.float64(0.10448564669312756), max_bin=None,\n",
      "              max_cat_threshold=None, max_cat_to_onehot=None,\n",
      "              max_delta_step=None, max_depth=3, max_leaves=None,\n",
      "              min_child_weight=5, missing=nan, monotone_constraints=None,\n",
      "              multi_strategy=None, n_estimators=401, n_jobs=None,\n",
      "              num_parallel_tree=None, ...)\n"
     ]
    }
   ],
   "source": [
    "print(best_model)"
   ]
  },
  {
   "cell_type": "markdown",
   "id": "0d4b8161-e4e1-4b33-aa85-1516de8acdbf",
   "metadata": {},
   "source": [
    "## We will proceed with storing the best model into a pickle file to use in the website."
   ]
  },
  {
   "cell_type": "code",
   "execution_count": 36,
   "id": "6899b348-11c6-4354-a0bc-e03855573b00",
   "metadata": {
    "ExecuteTime": {
     "end_time": "2025-07-29T07:57:22.910450Z",
     "start_time": "2025-07-29T07:57:22.805905Z"
    }
   },
   "outputs": [],
   "source": [
    "import pickle\n",
    "\n",
    "with open('attrition_model.pkl', 'wb') as model:\n",
    "    pickle.dump(best_model, model)\n",
    "with open('attrition_pipeline.pkl', 'wb') as f:\n",
    "    pickle.dump(full_pipeline, f)"
   ]
  }
 ],
 "metadata": {
  "kaggle": {
   "accelerator": "none",
   "dataSources": [
    {
     "databundleVersionId": 13009703,
     "sourceId": 107399,
     "sourceType": "competition"
    }
   ],
   "dockerImageVersionId": 31089,
   "isGpuEnabled": false,
   "isInternetEnabled": true,
   "language": "python",
   "sourceType": "notebook"
  },
  "kernelspec": {
   "display_name": "ml_website",
   "language": "python",
   "name": "python3"
  },
  "language_info": {
   "codemirror_mode": {
    "name": "ipython",
    "version": 3
   },
   "file_extension": ".py",
   "mimetype": "text/x-python",
   "name": "python",
   "nbconvert_exporter": "python",
   "pygments_lexer": "ipython3",
   "version": "3.12.0"
  },
  "papermill": {
   "default_parameters": {},
   "duration": 7.375434,
   "end_time": "2025-07-25T10:42:36.530351",
   "environment_variables": {},
   "exception": true,
   "input_path": "__notebook__.ipynb",
   "output_path": "__notebook__.ipynb",
   "parameters": {},
   "start_time": "2025-07-25T10:42:29.154917",
   "version": "2.6.0"
  }
 },
 "nbformat": 4,
 "nbformat_minor": 5
}
