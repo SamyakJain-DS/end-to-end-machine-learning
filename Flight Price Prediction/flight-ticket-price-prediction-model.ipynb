{
 "cells": [
  {
   "cell_type": "markdown",
   "id": "fcb3a152",
   "metadata": {
    "papermill": {
     "duration": 0.006898,
     "end_time": "2025-07-25T10:41:16.693486",
     "exception": false,
     "start_time": "2025-07-25T10:41:16.686588",
     "status": "completed"
    },
    "tags": []
   },
   "source": [
    "# Importing the Dataset"
   ]
  },
  {
   "cell_type": "code",
   "id": "d1650897",
   "metadata": {
    "papermill": {
     "duration": 0.013728,
     "end_time": "2025-07-25T10:41:16.714112",
     "exception": false,
     "start_time": "2025-07-25T10:41:16.700384",
     "status": "completed"
    },
    "tags": [],
    "ExecuteTime": {
     "end_time": "2025-07-30T09:55:59.191344Z",
     "start_time": "2025-07-30T09:55:56.747917Z"
    }
   },
   "source": [
    "import pandas as pd\n",
    "import numpy as np\n",
    "import warnings\n",
    "warnings.filterwarnings(\"ignore\")"
   ],
   "outputs": [],
   "execution_count": 1
  },
  {
   "cell_type": "code",
   "id": "56d4aca0",
   "metadata": {
    "papermill": {
     "duration": 0.135998,
     "end_time": "2025-07-25T10:41:16.857290",
     "exception": false,
     "start_time": "2025-07-25T10:41:16.721292",
     "status": "completed"
    },
    "tags": [],
    "ExecuteTime": {
     "end_time": "2025-07-30T09:55:59.271226Z",
     "start_time": "2025-07-30T09:55:59.206981Z"
    }
   },
   "source": "data = pd.read_csv('flight_data.csv')",
   "outputs": [],
   "execution_count": 2
  },
  {
   "cell_type": "markdown",
   "id": "47b8ad65",
   "metadata": {
    "papermill": {
     "duration": 0.00687,
     "end_time": "2025-07-25T10:41:16.924257",
     "exception": false,
     "start_time": "2025-07-25T10:41:16.917387",
     "status": "completed"
    },
    "tags": []
   },
   "source": [
    "# Exploring the data"
   ]
  },
  {
   "cell_type": "code",
   "id": "b3a731c2",
   "metadata": {
    "papermill": {
     "duration": 0.036725,
     "end_time": "2025-07-25T10:41:16.968088",
     "exception": false,
     "start_time": "2025-07-25T10:41:16.931363",
     "status": "completed"
    },
    "tags": [],
    "ExecuteTime": {
     "end_time": "2025-07-30T09:55:59.302597Z",
     "start_time": "2025-07-30T09:55:59.271226Z"
    }
   },
   "source": [
    "data.head()"
   ],
   "outputs": [
    {
     "data": {
      "text/plain": [
       "   id    airline    flight     source      departure stops  arrival  \\\n",
       "0   0    Vistara    UK-930     Mumbai  Early_Morning   one    Night   \n",
       "1   1  Air_India    AI-539    Chennai        Evening   one  Morning   \n",
       "2   2   SpiceJet   SG-8107      Delhi  Early_Morning  zero  Morning   \n",
       "3   3        NaN  0.00E+00  Hyderabad  Early_Morning  zero  Morning   \n",
       "4   4  Air_India    AI-569    Chennai  Early_Morning   one  Morning   \n",
       "\n",
       "  destination     class  duration  days_left  price  \n",
       "0     Chennai  Business       NaN       40.0  64173  \n",
       "1      Mumbai   Economy     16.08       26.0   4357  \n",
       "2     Chennai   Economy      2.92       25.0   3251  \n",
       "3   Bangalore   Economy      1.50       22.0   1776  \n",
       "4   Bangalore   Economy      4.83       20.0   3584  "
      ],
      "text/html": [
       "<div>\n",
       "<style scoped>\n",
       "    .dataframe tbody tr th:only-of-type {\n",
       "        vertical-align: middle;\n",
       "    }\n",
       "\n",
       "    .dataframe tbody tr th {\n",
       "        vertical-align: top;\n",
       "    }\n",
       "\n",
       "    .dataframe thead th {\n",
       "        text-align: right;\n",
       "    }\n",
       "</style>\n",
       "<table border=\"1\" class=\"dataframe\">\n",
       "  <thead>\n",
       "    <tr style=\"text-align: right;\">\n",
       "      <th></th>\n",
       "      <th>id</th>\n",
       "      <th>airline</th>\n",
       "      <th>flight</th>\n",
       "      <th>source</th>\n",
       "      <th>departure</th>\n",
       "      <th>stops</th>\n",
       "      <th>arrival</th>\n",
       "      <th>destination</th>\n",
       "      <th>class</th>\n",
       "      <th>duration</th>\n",
       "      <th>days_left</th>\n",
       "      <th>price</th>\n",
       "    </tr>\n",
       "  </thead>\n",
       "  <tbody>\n",
       "    <tr>\n",
       "      <th>0</th>\n",
       "      <td>0</td>\n",
       "      <td>Vistara</td>\n",
       "      <td>UK-930</td>\n",
       "      <td>Mumbai</td>\n",
       "      <td>Early_Morning</td>\n",
       "      <td>one</td>\n",
       "      <td>Night</td>\n",
       "      <td>Chennai</td>\n",
       "      <td>Business</td>\n",
       "      <td>NaN</td>\n",
       "      <td>40.0</td>\n",
       "      <td>64173</td>\n",
       "    </tr>\n",
       "    <tr>\n",
       "      <th>1</th>\n",
       "      <td>1</td>\n",
       "      <td>Air_India</td>\n",
       "      <td>AI-539</td>\n",
       "      <td>Chennai</td>\n",
       "      <td>Evening</td>\n",
       "      <td>one</td>\n",
       "      <td>Morning</td>\n",
       "      <td>Mumbai</td>\n",
       "      <td>Economy</td>\n",
       "      <td>16.08</td>\n",
       "      <td>26.0</td>\n",
       "      <td>4357</td>\n",
       "    </tr>\n",
       "    <tr>\n",
       "      <th>2</th>\n",
       "      <td>2</td>\n",
       "      <td>SpiceJet</td>\n",
       "      <td>SG-8107</td>\n",
       "      <td>Delhi</td>\n",
       "      <td>Early_Morning</td>\n",
       "      <td>zero</td>\n",
       "      <td>Morning</td>\n",
       "      <td>Chennai</td>\n",
       "      <td>Economy</td>\n",
       "      <td>2.92</td>\n",
       "      <td>25.0</td>\n",
       "      <td>3251</td>\n",
       "    </tr>\n",
       "    <tr>\n",
       "      <th>3</th>\n",
       "      <td>3</td>\n",
       "      <td>NaN</td>\n",
       "      <td>0.00E+00</td>\n",
       "      <td>Hyderabad</td>\n",
       "      <td>Early_Morning</td>\n",
       "      <td>zero</td>\n",
       "      <td>Morning</td>\n",
       "      <td>Bangalore</td>\n",
       "      <td>Economy</td>\n",
       "      <td>1.50</td>\n",
       "      <td>22.0</td>\n",
       "      <td>1776</td>\n",
       "    </tr>\n",
       "    <tr>\n",
       "      <th>4</th>\n",
       "      <td>4</td>\n",
       "      <td>Air_India</td>\n",
       "      <td>AI-569</td>\n",
       "      <td>Chennai</td>\n",
       "      <td>Early_Morning</td>\n",
       "      <td>one</td>\n",
       "      <td>Morning</td>\n",
       "      <td>Bangalore</td>\n",
       "      <td>Economy</td>\n",
       "      <td>4.83</td>\n",
       "      <td>20.0</td>\n",
       "      <td>3584</td>\n",
       "    </tr>\n",
       "  </tbody>\n",
       "</table>\n",
       "</div>"
      ]
     },
     "execution_count": 3,
     "metadata": {},
     "output_type": "execute_result"
    }
   ],
   "execution_count": 3
  },
  {
   "cell_type": "code",
   "id": "3e0280a2",
   "metadata": {
    "papermill": {
     "duration": 0.053982,
     "end_time": "2025-07-25T10:41:17.029423",
     "exception": false,
     "start_time": "2025-07-25T10:41:16.975441",
     "status": "completed"
    },
    "tags": [],
    "ExecuteTime": {
     "end_time": "2025-07-30T09:55:59.425483Z",
     "start_time": "2025-07-30T09:55:59.399606Z"
    }
   },
   "source": [
    "data.info()  # shows the different data types"
   ],
   "outputs": [
    {
     "name": "stdout",
     "output_type": "stream",
     "text": [
      "<class 'pandas.core.frame.DataFrame'>\n",
      "RangeIndex: 40000 entries, 0 to 39999\n",
      "Data columns (total 12 columns):\n",
      " #   Column       Non-Null Count  Dtype  \n",
      "---  ------       --------------  -----  \n",
      " 0   id           40000 non-null  int64  \n",
      " 1   airline      35387 non-null  object \n",
      " 2   flight       40000 non-null  object \n",
      " 3   source       40000 non-null  object \n",
      " 4   departure    35208 non-null  object \n",
      " 5   stops        37681 non-null  object \n",
      " 6   arrival      40000 non-null  object \n",
      " 7   destination  40000 non-null  object \n",
      " 8   class        40000 non-null  object \n",
      " 9   duration     36987 non-null  float64\n",
      " 10  days_left    35562 non-null  float64\n",
      " 11  price        40000 non-null  int64  \n",
      "dtypes: float64(2), int64(2), object(8)\n",
      "memory usage: 3.7+ MB\n"
     ]
    }
   ],
   "execution_count": 4
  },
  {
   "cell_type": "code",
   "id": "0d34f7fd",
   "metadata": {
    "papermill": {
     "duration": 0.037032,
     "end_time": "2025-07-25T10:41:17.074164",
     "exception": false,
     "start_time": "2025-07-25T10:41:17.037132",
     "status": "completed"
    },
    "tags": [],
    "ExecuteTime": {
     "end_time": "2025-07-30T09:55:59.463680Z",
     "start_time": "2025-07-30T09:55:59.442664Z"
    }
   },
   "source": [
    "np.round(data.describe(),3)  # gives statistical summary for numerical features"
   ],
   "outputs": [
    {
     "data": {
      "text/plain": [
       "             id   duration  days_left       price\n",
       "count  40000.00  36987.000  35562.000   40000.000\n",
       "mean   19999.50     12.004     26.198   20801.490\n",
       "std    11547.15      7.108     13.469   22729.148\n",
       "min        0.00      0.830      1.000    1105.000\n",
       "25%     9999.75      6.670     15.000    4687.000\n",
       "50%    19999.50     11.080     26.000    7353.000\n",
       "75%    29999.25     15.920     38.000   42521.000\n",
       "max    39999.00     47.080     49.000  114704.000"
      ],
      "text/html": [
       "<div>\n",
       "<style scoped>\n",
       "    .dataframe tbody tr th:only-of-type {\n",
       "        vertical-align: middle;\n",
       "    }\n",
       "\n",
       "    .dataframe tbody tr th {\n",
       "        vertical-align: top;\n",
       "    }\n",
       "\n",
       "    .dataframe thead th {\n",
       "        text-align: right;\n",
       "    }\n",
       "</style>\n",
       "<table border=\"1\" class=\"dataframe\">\n",
       "  <thead>\n",
       "    <tr style=\"text-align: right;\">\n",
       "      <th></th>\n",
       "      <th>id</th>\n",
       "      <th>duration</th>\n",
       "      <th>days_left</th>\n",
       "      <th>price</th>\n",
       "    </tr>\n",
       "  </thead>\n",
       "  <tbody>\n",
       "    <tr>\n",
       "      <th>count</th>\n",
       "      <td>40000.00</td>\n",
       "      <td>36987.000</td>\n",
       "      <td>35562.000</td>\n",
       "      <td>40000.000</td>\n",
       "    </tr>\n",
       "    <tr>\n",
       "      <th>mean</th>\n",
       "      <td>19999.50</td>\n",
       "      <td>12.004</td>\n",
       "      <td>26.198</td>\n",
       "      <td>20801.490</td>\n",
       "    </tr>\n",
       "    <tr>\n",
       "      <th>std</th>\n",
       "      <td>11547.15</td>\n",
       "      <td>7.108</td>\n",
       "      <td>13.469</td>\n",
       "      <td>22729.148</td>\n",
       "    </tr>\n",
       "    <tr>\n",
       "      <th>min</th>\n",
       "      <td>0.00</td>\n",
       "      <td>0.830</td>\n",
       "      <td>1.000</td>\n",
       "      <td>1105.000</td>\n",
       "    </tr>\n",
       "    <tr>\n",
       "      <th>25%</th>\n",
       "      <td>9999.75</td>\n",
       "      <td>6.670</td>\n",
       "      <td>15.000</td>\n",
       "      <td>4687.000</td>\n",
       "    </tr>\n",
       "    <tr>\n",
       "      <th>50%</th>\n",
       "      <td>19999.50</td>\n",
       "      <td>11.080</td>\n",
       "      <td>26.000</td>\n",
       "      <td>7353.000</td>\n",
       "    </tr>\n",
       "    <tr>\n",
       "      <th>75%</th>\n",
       "      <td>29999.25</td>\n",
       "      <td>15.920</td>\n",
       "      <td>38.000</td>\n",
       "      <td>42521.000</td>\n",
       "    </tr>\n",
       "    <tr>\n",
       "      <th>max</th>\n",
       "      <td>39999.00</td>\n",
       "      <td>47.080</td>\n",
       "      <td>49.000</td>\n",
       "      <td>114704.000</td>\n",
       "    </tr>\n",
       "  </tbody>\n",
       "</table>\n",
       "</div>"
      ]
     },
     "execution_count": 5,
     "metadata": {},
     "output_type": "execute_result"
    }
   ],
   "execution_count": 5
  },
  {
   "cell_type": "code",
   "id": "2831cfcf",
   "metadata": {
    "papermill": {
     "duration": 0.042384,
     "end_time": "2025-07-25T10:41:17.123784",
     "exception": false,
     "start_time": "2025-07-25T10:41:17.081400",
     "status": "completed"
    },
    "tags": [],
    "ExecuteTime": {
     "end_time": "2025-07-30T09:55:59.506852Z",
     "start_time": "2025-07-30T09:55:59.478111Z"
    }
   },
   "source": [
    "data.duplicated().sum()   # no duplicate rows"
   ],
   "outputs": [
    {
     "data": {
      "text/plain": [
       "0"
      ]
     },
     "execution_count": 6,
     "metadata": {},
     "output_type": "execute_result"
    }
   ],
   "execution_count": 6
  },
  {
   "cell_type": "code",
   "id": "52ebfb7e",
   "metadata": {
    "papermill": {
     "duration": 2.164086,
     "end_time": "2025-07-25T10:41:19.295433",
     "exception": false,
     "start_time": "2025-07-25T10:41:17.131347",
     "status": "completed"
    },
    "tags": [],
    "ExecuteTime": {
     "end_time": "2025-07-30T09:56:04.863945Z",
     "start_time": "2025-07-30T09:55:59.521864Z"
    }
   },
   "source": [
    "# From the summary of numerical columns, there seem to be outliers in days_left and price.\n",
    "\n",
    "data['days_left'].plot.kde()"
   ],
   "outputs": [
    {
     "data": {
      "text/plain": [
       "<Axes: ylabel='Density'>"
      ]
     },
     "execution_count": 7,
     "metadata": {},
     "output_type": "execute_result"
    },
    {
     "data": {
      "text/plain": [
       "<Figure size 640x480 with 1 Axes>"
      ],
      "image/png": "[encoded data removed]"
     },
     "metadata": {},
     "output_type": "display_data"
    }
   ],
   "execution_count": 7
  },
  {
   "cell_type": "code",
   "id": "c6a6fad6",
   "metadata": {
    "papermill": {
     "duration": 0.126021,
     "end_time": "2025-07-25T10:41:19.429516",
     "exception": false,
     "start_time": "2025-07-25T10:41:19.303495",
     "status": "completed"
    },
    "tags": [],
    "ExecuteTime": {
     "end_time": "2025-07-30T09:56:04.961048Z",
     "start_time": "2025-07-30T09:56:04.878127Z"
    }
   },
   "source": [
    "data['days_left'].plot.box()   # not really, this column seems clear."
   ],
   "outputs": [
    {
     "data": {
      "text/plain": [
       "<Axes: >"
      ]
     },
     "execution_count": 8,
     "metadata": {},
     "output_type": "execute_result"
    },
    {
     "data": {
      "text/plain": [
       "<Figure size 640x480 with 1 Axes>"
      ],
      "image/png": "[encoded data removed]"
     },
     "metadata": {},
     "output_type": "display_data"
    }
   ],
   "execution_count": 8
  },
  {
   "cell_type": "code",
   "id": "9c8d2a50",
   "metadata": {
    "papermill": {
     "duration": 0.91413,
     "end_time": "2025-07-25T10:41:20.351907",
     "exception": false,
     "start_time": "2025-07-25T10:41:19.437777",
     "status": "completed"
    },
    "tags": [],
    "ExecuteTime": {
     "end_time": "2025-07-30T09:56:05.679756Z",
     "start_time": "2025-07-30T09:56:04.961048Z"
    }
   },
   "source": [
    "data['duration'].plot.kde()"
   ],
   "outputs": [
    {
     "data": {
      "text/plain": [
       "<Axes: ylabel='Density'>"
      ]
     },
     "execution_count": 9,
     "metadata": {},
     "output_type": "execute_result"
    },
    {
     "data": {
      "text/plain": [
       "<Figure size 640x480 with 1 Axes>"
      ],
      "image/png": "[encoded data removed]"
     },
     "metadata": {},
     "output_type": "display_data"
    }
   ],
   "execution_count": 9
  },
  {
   "cell_type": "code",
   "id": "4a728d35",
   "metadata": {
    "papermill": {
     "duration": 0.12812,
     "end_time": "2025-07-25T10:41:20.489233",
     "exception": false,
     "start_time": "2025-07-25T10:41:20.361113",
     "status": "completed"
    },
    "tags": [],
    "ExecuteTime": {
     "end_time": "2025-07-30T09:56:05.754340Z",
     "start_time": "2025-07-30T09:56:05.679756Z"
    }
   },
   "source": [
    "data['duration'].plot.box()  # there are outliers here."
   ],
   "outputs": [
    {
     "data": {
      "text/plain": [
       "<Axes: >"
      ]
     },
     "execution_count": 10,
     "metadata": {},
     "output_type": "execute_result"
    },
    {
     "data": {
      "text/plain": [
       "<Figure size 640x480 with 1 Axes>"
      ],
      "image/png": "[encoded data removed]"
     },
     "metadata": {},
     "output_type": "display_data"
    }
   ],
   "execution_count": 10
  },
  {
   "cell_type": "code",
   "id": "868526d3",
   "metadata": {
    "papermill": {
     "duration": 0.957506,
     "end_time": "2025-07-25T10:41:21.455833",
     "exception": false,
     "start_time": "2025-07-25T10:41:20.498327",
     "status": "completed"
    },
    "tags": [],
    "ExecuteTime": {
     "end_time": "2025-07-30T09:56:06.701823Z",
     "start_time": "2025-07-30T09:56:05.754340Z"
    }
   },
   "source": [
    "data['price'].plot.kde()"
   ],
   "outputs": [
    {
     "data": {
      "text/plain": [
       "<Axes: ylabel='Density'>"
      ]
     },
     "execution_count": 11,
     "metadata": {},
     "output_type": "execute_result"
    },
    {
     "data": {
      "text/plain": [
       "<Figure size 640x480 with 1 Axes>"
      ],
      "image/png": "[encoded data removed]"
     },
     "metadata": {},
     "output_type": "display_data"
    }
   ],
   "execution_count": 11
  },
  {
   "cell_type": "code",
   "id": "68ccc7f3",
   "metadata": {
    "papermill": {
     "duration": 0.146777,
     "end_time": "2025-07-25T10:41:21.612912",
     "exception": false,
     "start_time": "2025-07-25T10:41:21.466135",
     "status": "completed"
    },
    "tags": [],
    "ExecuteTime": {
     "end_time": "2025-07-30T09:56:06.781742Z",
     "start_time": "2025-07-30T09:56:06.701823Z"
    }
   },
   "source": [
    "data['price'].plot.box()  # outliers in the target column as well. Also the data is a bit skewed to the right, so taking median might be better than mean."
   ],
   "outputs": [
    {
     "data": {
      "text/plain": [
       "<Axes: >"
      ]
     },
     "execution_count": 12,
     "metadata": {},
     "output_type": "execute_result"
    },
    {
     "data": {
      "text/plain": [
       "<Figure size 640x480 with 1 Axes>"
      ],
      "image/png": "[encoded data removed]"
     },
     "metadata": {},
     "output_type": "display_data"
    }
   ],
   "execution_count": 12
  },
  {
   "cell_type": "markdown",
   "id": "e933e301",
   "metadata": {
    "papermill": {
     "duration": 0.009513,
     "end_time": "2025-07-25T10:41:21.632550",
     "exception": false,
     "start_time": "2025-07-25T10:41:21.623037",
     "status": "completed"
    },
    "tags": []
   },
   "source": [
    "# From The Visuals, we derive the following insights:\n",
    "- 'days_left' column has no outliers, and is a uniform distribution in our dataset.\n",
    "- 'duration' column has some outliers, and is a little positively skewed.\n",
    "- 'price' columns also has outliers, and very positively skewed."
   ]
  },
  {
   "cell_type": "code",
   "id": "6852b2fd",
   "metadata": {
    "papermill": {
     "duration": 0.032586,
     "end_time": "2025-07-25T10:41:21.674931",
     "exception": false,
     "start_time": "2025-07-25T10:41:21.642345",
     "status": "completed"
    },
    "tags": [],
    "ExecuteTime": {
     "end_time": "2025-07-30T09:56:06.798031Z",
     "start_time": "2025-07-30T09:56:06.786781Z"
    }
   },
   "source": [
    "data[data['price']>100000]  # all flights are from Vistara airline, which is considered an expensive airline."
   ],
   "outputs": [
    {
     "data": {
      "text/plain": [
       "          id  airline  flight   source      departure        stops    arrival  \\\n",
       "3025    3025  Vistara  UK-996   Mumbai        Evening          one      Night   \n",
       "4123    4123  Vistara  UK-776  Kolkata            NaN          one  Afternoon   \n",
       "10056  10056  Vistara  UK-910   Mumbai        Evening          NaN    Morning   \n",
       "10688  10688  Vistara  UK-772  Kolkata        Morning          NaN      Night   \n",
       "12077  12077  Vistara  UK-772  Kolkata        Morning          one    Evening   \n",
       "13000  13000  Vistara  UK-706  Kolkata            NaN  two_or_more      Night   \n",
       "15928  15928      NaN  UK-772  Kolkata        Morning          one      Night   \n",
       "20894  20894  Vistara  UK-832  Chennai            NaN          one      Night   \n",
       "20931  20931  Vistara  UK-836  Chennai        Morning          one    Evening   \n",
       "24173  24173  Vistara  UK-910   Mumbai        Evening          one    Evening   \n",
       "25237  25237  Vistara  UK-772  Kolkata        Morning          one      Night   \n",
       "26185  26185  Vistara  UK-832  Chennai  Early_Morning          one      Night   \n",
       "35460  35460  Vistara  UK-708  Kolkata          Night          one    Morning   \n",
       "\n",
       "      destination     class  duration  days_left   price  \n",
       "3025    Bangalore  Business     28.17        2.0  105764  \n",
       "4123        Delhi  Business     20.58        3.0  101780  \n",
       "10056     Chennai  Business     16.33        7.0  100204  \n",
       "10688       Delhi  Business     11.17       17.0  101780  \n",
       "12077   Hyderabad  Business      9.50        4.0  106753  \n",
       "13000      Mumbai  Business     10.00        4.0  110936  \n",
       "15928       Delhi  Business     13.33        5.0  102648  \n",
       "20894      Mumbai  Business     15.08        5.0  114704  \n",
       "20931   Bangalore  Business      6.25        3.0  107597  \n",
       "24173   Bangalore  Business     25.25        NaN  102404  \n",
       "25237       Delhi  Business     11.17       14.0  102648  \n",
       "26185      Mumbai  Business     15.92        5.0  101824  \n",
       "35460   Bangalore  Business     14.42       36.0  105638  "
      ],
      "text/html": [
       "<div>\n",
       "<style scoped>\n",
       "    .dataframe tbody tr th:only-of-type {\n",
       "        vertical-align: middle;\n",
       "    }\n",
       "\n",
       "    .dataframe tbody tr th {\n",
       "        vertical-align: top;\n",
       "    }\n",
       "\n",
       "    .dataframe thead th {\n",
       "        text-align: right;\n",
       "    }\n",
       "</style>\n",
       "<table border=\"1\" class=\"dataframe\">\n",
       "  <thead>\n",
       "    <tr style=\"text-align: right;\">\n",
       "      <th></th>\n",
       "      <th>id</th>\n",
       "      <th>airline</th>\n",
       "      <th>flight</th>\n",
       "      <th>source</th>\n",
       "      <th>departure</th>\n",
       "      <th>stops</th>\n",
       "      <th>arrival</th>\n",
       "      <th>destination</th>\n",
       "      <th>class</th>\n",
       "      <th>duration</th>\n",
       "      <th>days_left</th>\n",
       "      <th>price</th>\n",
       "    </tr>\n",
       "  </thead>\n",
       "  <tbody>\n",
       "    <tr>\n",
       "      <th>3025</th>\n",
       "      <td>3025</td>\n",
       "      <td>Vistara</td>\n",
       "      <td>UK-996</td>\n",
       "      <td>Mumbai</td>\n",
       "      <td>Evening</td>\n",
       "      <td>one</td>\n",
       "      <td>Night</td>\n",
       "      <td>Bangalore</td>\n",
       "      <td>Business</td>\n",
       "      <td>28.17</td>\n",
       "      <td>2.0</td>\n",
       "      <td>105764</td>\n",
       "    </tr>\n",
       "    <tr>\n",
       "      <th>4123</th>\n",
       "      <td>4123</td>\n",
       "      <td>Vistara</td>\n",
       "      <td>UK-776</td>\n",
       "      <td>Kolkata</td>\n",
       "      <td>NaN</td>\n",
       "      <td>one</td>\n",
       "      <td>Afternoon</td>\n",
       "      <td>Delhi</td>\n",
       "      <td>Business</td>\n",
       "      <td>20.58</td>\n",
       "      <td>3.0</td>\n",
       "      <td>101780</td>\n",
       "    </tr>\n",
       "    <tr>\n",
       "      <th>10056</th>\n",
       "      <td>10056</td>\n",
       "      <td>Vistara</td>\n",
       "      <td>UK-910</td>\n",
       "      <td>Mumbai</td>\n",
       "      <td>Evening</td>\n",
       "      <td>NaN</td>\n",
       "      <td>Morning</td>\n",
       "      <td>Chennai</td>\n",
       "      <td>Business</td>\n",
       "      <td>16.33</td>\n",
       "      <td>7.0</td>\n",
       "      <td>100204</td>\n",
       "    </tr>\n",
       "    <tr>\n",
       "      <th>10688</th>\n",
       "      <td>10688</td>\n",
       "      <td>Vistara</td>\n",
       "      <td>UK-772</td>\n",
       "      <td>Kolkata</td>\n",
       "      <td>Morning</td>\n",
       "      <td>NaN</td>\n",
       "      <td>Night</td>\n",
       "      <td>Delhi</td>\n",
       "      <td>Business</td>\n",
       "      <td>11.17</td>\n",
       "      <td>17.0</td>\n",
       "      <td>101780</td>\n",
       "    </tr>\n",
       "    <tr>\n",
       "      <th>12077</th>\n",
       "      <td>12077</td>\n",
       "      <td>Vistara</td>\n",
       "      <td>UK-772</td>\n",
       "      <td>Kolkata</td>\n",
       "      <td>Morning</td>\n",
       "      <td>one</td>\n",
       "      <td>Evening</td>\n",
       "      <td>Hyderabad</td>\n",
       "      <td>Business</td>\n",
       "      <td>9.50</td>\n",
       "      <td>4.0</td>\n",
       "      <td>106753</td>\n",
       "    </tr>\n",
       "    <tr>\n",
       "      <th>13000</th>\n",
       "      <td>13000</td>\n",
       "      <td>Vistara</td>\n",
       "      <td>UK-706</td>\n",
       "      <td>Kolkata</td>\n",
       "      <td>NaN</td>\n",
       "      <td>two_or_more</td>\n",
       "      <td>Night</td>\n",
       "      <td>Mumbai</td>\n",
       "      <td>Business</td>\n",
       "      <td>10.00</td>\n",
       "      <td>4.0</td>\n",
       "      <td>110936</td>\n",
       "    </tr>\n",
       "    <tr>\n",
       "      <th>15928</th>\n",
       "      <td>15928</td>\n",
       "      <td>NaN</td>\n",
       "      <td>UK-772</td>\n",
       "      <td>Kolkata</td>\n",
       "      <td>Morning</td>\n",
       "      <td>one</td>\n",
       "      <td>Night</td>\n",
       "      <td>Delhi</td>\n",
       "      <td>Business</td>\n",
       "      <td>13.33</td>\n",
       "      <td>5.0</td>\n",
       "      <td>102648</td>\n",
       "    </tr>\n",
       "    <tr>\n",
       "      <th>20894</th>\n",
       "      <td>20894</td>\n",
       "      <td>Vistara</td>\n",
       "      <td>UK-832</td>\n",
       "      <td>Chennai</td>\n",
       "      <td>NaN</td>\n",
       "      <td>one</td>\n",
       "      <td>Night</td>\n",
       "      <td>Mumbai</td>\n",
       "      <td>Business</td>\n",
       "      <td>15.08</td>\n",
       "      <td>5.0</td>\n",
       "      <td>114704</td>\n",
       "    </tr>\n",
       "    <tr>\n",
       "      <th>20931</th>\n",
       "      <td>20931</td>\n",
       "      <td>Vistara</td>\n",
       "      <td>UK-836</td>\n",
       "      <td>Chennai</td>\n",
       "      <td>Morning</td>\n",
       "      <td>one</td>\n",
       "      <td>Evening</td>\n",
       "      <td>Bangalore</td>\n",
       "      <td>Business</td>\n",
       "      <td>6.25</td>\n",
       "      <td>3.0</td>\n",
       "      <td>107597</td>\n",
       "    </tr>\n",
       "    <tr>\n",
       "      <th>24173</th>\n",
       "      <td>24173</td>\n",
       "      <td>Vistara</td>\n",
       "      <td>UK-910</td>\n",
       "      <td>Mumbai</td>\n",
       "      <td>Evening</td>\n",
       "      <td>one</td>\n",
       "      <td>Evening</td>\n",
       "      <td>Bangalore</td>\n",
       "      <td>Business</td>\n",
       "      <td>25.25</td>\n",
       "      <td>NaN</td>\n",
       "      <td>102404</td>\n",
       "    </tr>\n",
       "    <tr>\n",
       "      <th>25237</th>\n",
       "      <td>25237</td>\n",
       "      <td>Vistara</td>\n",
       "      <td>UK-772</td>\n",
       "      <td>Kolkata</td>\n",
       "      <td>Morning</td>\n",
       "      <td>one</td>\n",
       "      <td>Night</td>\n",
       "      <td>Delhi</td>\n",
       "      <td>Business</td>\n",
       "      <td>11.17</td>\n",
       "      <td>14.0</td>\n",
       "      <td>102648</td>\n",
       "    </tr>\n",
       "    <tr>\n",
       "      <th>26185</th>\n",
       "      <td>26185</td>\n",
       "      <td>Vistara</td>\n",
       "      <td>UK-832</td>\n",
       "      <td>Chennai</td>\n",
       "      <td>Early_Morning</td>\n",
       "      <td>one</td>\n",
       "      <td>Night</td>\n",
       "      <td>Mumbai</td>\n",
       "      <td>Business</td>\n",
       "      <td>15.92</td>\n",
       "      <td>5.0</td>\n",
       "      <td>101824</td>\n",
       "    </tr>\n",
       "    <tr>\n",
       "      <th>35460</th>\n",
       "      <td>35460</td>\n",
       "      <td>Vistara</td>\n",
       "      <td>UK-708</td>\n",
       "      <td>Kolkata</td>\n",
       "      <td>Night</td>\n",
       "      <td>one</td>\n",
       "      <td>Morning</td>\n",
       "      <td>Bangalore</td>\n",
       "      <td>Business</td>\n",
       "      <td>14.42</td>\n",
       "      <td>36.0</td>\n",
       "      <td>105638</td>\n",
       "    </tr>\n",
       "  </tbody>\n",
       "</table>\n",
       "</div>"
      ]
     },
     "execution_count": 13,
     "metadata": {},
     "output_type": "execute_result"
    }
   ],
   "execution_count": 13
  },
  {
   "cell_type": "code",
   "id": "c377bd3a",
   "metadata": {
    "papermill": {
     "duration": 0.021508,
     "end_time": "2025-07-25T10:41:21.772952",
     "exception": false,
     "start_time": "2025-07-25T10:41:21.751444",
     "status": "completed"
    },
    "tags": [],
    "ExecuteTime": {
     "end_time": "2025-07-30T09:56:06.884055Z",
     "start_time": "2025-07-30T09:56:06.877633Z"
    }
   },
   "source": [
    "data['airline'].value_counts()"
   ],
   "outputs": [
    {
     "data": {
      "text/plain": [
       "airline\n",
       "Vistara      15063\n",
       "Air_India     9222\n",
       "Indigo        5236\n",
       "GO_FIRST      2805\n",
       "AirAsia       1958\n",
       "SpiceJet      1103\n",
       "Name: count, dtype: int64"
      ]
     },
     "execution_count": 14,
     "metadata": {},
     "output_type": "execute_result"
    }
   ],
   "execution_count": 14
  },
  {
   "cell_type": "code",
   "id": "69ddd9f4",
   "metadata": {
    "papermill": {
     "duration": 0.157392,
     "end_time": "2025-07-25T10:41:21.940669",
     "exception": false,
     "start_time": "2025-07-25T10:41:21.783277",
     "status": "completed"
    },
    "tags": [],
    "ExecuteTime": {
     "end_time": "2025-07-30T09:56:06.924841Z",
     "start_time": "2025-07-30T09:56:06.890105Z"
    }
   },
   "source": [
    "data['flight'].str.split('-').str.get(0).value_counts()"
   ],
   "outputs": [
    {
     "data": {
      "text/plain": [
       "flight\n",
       "UK          17032\n",
       "AI          10425\n",
       "0.00E+00     5240\n",
       "G8           3169\n",
       "I5           2205\n",
       "SG           1247\n",
       "6.00E         652\n",
       "0.00E          30\n",
       "Name: count, dtype: int64"
      ]
     },
     "execution_count": 15,
     "metadata": {},
     "output_type": "execute_result"
    }
   ],
   "execution_count": 15
  },
  {
   "cell_type": "code",
   "id": "58fe56eb",
   "metadata": {
    "papermill": {
     "duration": 0.030451,
     "end_time": "2025-07-25T10:41:21.981510",
     "exception": false,
     "start_time": "2025-07-25T10:41:21.951059",
     "status": "completed"
    },
    "tags": [],
    "ExecuteTime": {
     "end_time": "2025-07-30T09:56:06.943642Z",
     "start_time": "2025-07-30T09:56:06.924841Z"
    }
   },
   "source": [
    "data[data['flight'].apply(lambda x: True if '0.00E' in x else False)]['airline'].value_counts()"
   ],
   "outputs": [
    {
     "data": {
      "text/plain": [
       "airline\n",
       "Indigo    4663\n",
       "Name: count, dtype: int64"
      ]
     },
     "execution_count": 16,
     "metadata": {},
     "output_type": "execute_result"
    }
   ],
   "execution_count": 16
  },
  {
   "cell_type": "code",
   "id": "1226b2a4",
   "metadata": {
    "papermill": {
     "duration": 0.041198,
     "end_time": "2025-07-25T10:41:22.033409",
     "exception": false,
     "start_time": "2025-07-25T10:41:21.992211",
     "status": "completed"
    },
    "tags": [],
    "ExecuteTime": {
     "end_time": "2025-07-30T09:56:06.964129Z",
     "start_time": "2025-07-30T09:56:06.943642Z"
    }
   },
   "source": [
    "data.isnull().sum()/40000*100       # percent of values missing"
   ],
   "outputs": [
    {
     "data": {
      "text/plain": [
       "id              0.0000\n",
       "airline        11.5325\n",
       "flight          0.0000\n",
       "source          0.0000\n",
       "departure      11.9800\n",
       "stops           5.7975\n",
       "arrival         0.0000\n",
       "destination     0.0000\n",
       "class           0.0000\n",
       "duration        7.5325\n",
       "days_left      11.0950\n",
       "price           0.0000\n",
       "dtype: float64"
      ]
     },
     "execution_count": 17,
     "metadata": {},
     "output_type": "execute_result"
    }
   ],
   "execution_count": 17
  },
  {
   "cell_type": "code",
   "id": "399132c8",
   "metadata": {
    "papermill": {
     "duration": 0.039055,
     "end_time": "2025-07-25T10:41:22.083224",
     "exception": false,
     "start_time": "2025-07-25T10:41:22.044169",
     "status": "completed"
    },
    "tags": [],
    "ExecuteTime": {
     "end_time": "2025-07-30T09:56:06.985239Z",
     "start_time": "2025-07-30T09:56:06.970224Z"
    }
   },
   "source": [
    "data.dropna().shape   # we can't drop all missing values as it almost halves our data."
   ],
   "outputs": [
    {
     "data": {
      "text/plain": [
       "(24112, 12)"
      ]
     },
     "execution_count": 18,
     "metadata": {},
     "output_type": "execute_result"
    }
   ],
   "execution_count": 18
  },
  {
   "cell_type": "markdown",
   "id": "755155b6",
   "metadata": {
    "papermill": {
     "duration": 0.010153,
     "end_time": "2025-07-25T10:41:22.104438",
     "exception": false,
     "start_time": "2025-07-25T10:41:22.094285",
     "status": "completed"
    },
    "tags": []
   },
   "source": [
    "### Instead of dropping these rows, we will try to impute them as the loss of data from dropping is too much (around 40%)\n",
    "### And for outliers, we will use column transformations instead of dropping them, since we can preserve more data this way."
   ]
  },
  {
   "cell_type": "markdown",
   "id": "61d512f5",
   "metadata": {
    "papermill": {
     "duration": 0.010135,
     "end_time": "2025-07-25T10:41:22.124893",
     "exception": false,
     "start_time": "2025-07-25T10:41:22.114758",
     "status": "completed"
    },
    "tags": []
   },
   "source": [
    "# Cleaning and Preprocessing"
   ]
  },
  {
   "cell_type": "code",
   "id": "9fdb2f9f",
   "metadata": {
    "papermill": {
     "duration": 0.561254,
     "end_time": "2025-07-25T10:41:22.696557",
     "exception": false,
     "start_time": "2025-07-25T10:41:22.135303",
     "status": "completed"
    },
    "tags": [],
    "ExecuteTime": {
     "end_time": "2025-07-30T09:56:08.800059Z",
     "start_time": "2025-07-30T09:56:06.990365Z"
    }
   },
   "source": [
    "from sklearn.impute import KNNImputer\n",
    "from sklearn.pipeline import Pipeline\n",
    "from sklearn.compose import ColumnTransformer\n",
    "from sklearn.preprocessing import OrdinalEncoder, OneHotEncoder, PowerTransformer, FunctionTransformer\n",
    "from sklearn.model_selection import train_test_split\n",
    "from sklearn.preprocessing import StandardScaler"
   ],
   "outputs": [],
   "execution_count": 19
  },
  {
   "cell_type": "code",
   "id": "c8d67341",
   "metadata": {
    "papermill": {
     "duration": 0.023766,
     "end_time": "2025-07-25T10:41:22.730959",
     "exception": false,
     "start_time": "2025-07-25T10:41:22.707193",
     "status": "completed"
    },
    "tags": [],
    "ExecuteTime": {
     "end_time": "2025-07-30T09:56:08.863444Z",
     "start_time": "2025-07-30T09:56:08.843278Z"
    }
   },
   "source": [
    "data = data.drop(['id'], axis=1)"
   ],
   "outputs": [],
   "execution_count": 20
  },
  {
   "cell_type": "code",
   "id": "b59ffb0b",
   "metadata": {
    "papermill": {
     "duration": 0.033388,
     "end_time": "2025-07-25T10:41:22.774911",
     "exception": false,
     "start_time": "2025-07-25T10:41:22.741523",
     "status": "completed"
    },
    "tags": [],
    "ExecuteTime": {
     "end_time": "2025-07-30T09:56:08.885340Z",
     "start_time": "2025-07-30T09:56:08.870818Z"
    }
   },
   "source": [
    "cat_cols = ['airline', 'source', 'departure', 'stops', 'arrival','destination', 'class']\n",
    "oe = OrdinalEncoder(handle_unknown='use_encoded_value', unknown_value=-1)\n",
    "oe.fit(data[cat_cols])\n",
    "\n",
    "def clean_data(data, oe, cat_cols):\n",
    "    '''\n",
    "    Ordinally encode the categorical columns, \n",
    "    Use KNNImputer to impute values,\n",
    "    and then apply an inverse transform to bring the categorical columns to their original form.\n",
    "    '''\n",
    "    data_ = data.copy()\n",
    "    data_['airline'] = data_['flight'].apply(\n",
    "        lambda x: 'Vistara' if 'UK' in x else 'Air_India' if 'AI' in x else 'GO_FIRST' if 'G8' in x else 'AirAsia' if 'I5' in x else 'SpiceJet' if 'SG' in x else 'Indigo'\n",
    "    )   # Imputing missing values by deriving from the flight code.\n",
    "    data_ = data_.drop(['flight'],axis=1)\n",
    "    knn = KNNImputer(n_neighbors=5)\n",
    "\n",
    "    data_[cat_cols] = oe.transform(data_[cat_cols])\n",
    "    cleaned_data = pd.DataFrame(knn.fit_transform(data_), columns=data_.columns)\n",
    "\n",
    "    cleaned_data[cat_cols] = oe.inverse_transform(cleaned_data[cat_cols].astype(np.int32))\n",
    "    return cleaned_data"
   ],
   "outputs": [],
   "execution_count": 21
  },
  {
   "cell_type": "code",
   "id": "6d092cf7",
   "metadata": {
    "papermill": {
     "duration": 33.171788,
     "end_time": "2025-07-25T10:41:55.958737",
     "exception": false,
     "start_time": "2025-07-25T10:41:22.786949",
     "status": "completed"
    },
    "tags": [],
    "ExecuteTime": {
     "end_time": "2025-07-30T09:56:35.037258Z",
     "start_time": "2025-07-30T09:56:08.891513Z"
    }
   },
   "source": [
    "cleaned_data = pd.concat([clean_data(data, oe, cat_cols).drop(['price'],axis=1),data.iloc[:,-1]], axis=1)"
   ],
   "outputs": [],
   "execution_count": 22
  },
  {
   "cell_type": "code",
   "id": "305e0c10",
   "metadata": {
    "papermill": {
     "duration": 0.021295,
     "end_time": "2025-07-25T10:41:55.997729",
     "exception": false,
     "start_time": "2025-07-25T10:41:55.976434",
     "status": "completed"
    },
    "tags": [],
    "ExecuteTime": {
     "end_time": "2025-07-30T09:56:35.051568Z",
     "start_time": "2025-07-30T09:56:35.037258Z"
    }
   },
   "source": [
    "cleaned_data['duration']"
   ],
   "outputs": [
    {
     "data": {
      "text/plain": [
       "0        15.634\n",
       "1        16.080\n",
       "2         2.920\n",
       "3         1.500\n",
       "4         4.830\n",
       "          ...  \n",
       "39995    21.250\n",
       "39996    14.080\n",
       "39997    14.330\n",
       "39998    24.670\n",
       "39999    14.330\n",
       "Name: duration, Length: 40000, dtype: float64"
      ]
     },
     "execution_count": 23,
     "metadata": {},
     "output_type": "execute_result"
    }
   ],
   "execution_count": 23
  },
  {
   "metadata": {
    "ExecuteTime": {
     "end_time": "2025-07-30T09:56:35.203431Z",
     "start_time": "2025-07-30T09:56:35.082834Z"
    }
   },
   "cell_type": "code",
   "source": "cleaned_data.to_csv('cleaned_flights.csv', index=False)",
   "id": "fd981b89bec61d34",
   "outputs": [],
   "execution_count": 24
  },
  {
   "cell_type": "code",
   "id": "a5192dc0",
   "metadata": {
    "papermill": {
     "duration": 0.030735,
     "end_time": "2025-07-25T10:41:56.045092",
     "exception": false,
     "start_time": "2025-07-25T10:41:56.014357",
     "status": "completed"
    },
    "tags": [],
    "ExecuteTime": {
     "end_time": "2025-07-30T09:56:35.219576Z",
     "start_time": "2025-07-30T09:56:35.203431Z"
    }
   },
   "source": [
    "X = cleaned_data.iloc[:,:-1]\n",
    "y = cleaned_data.iloc[:,-1]\n",
    "\n",
    "X_train, X_test, y_train, y_test = train_test_split(X,y,test_size=0.2,shuffle=True,random_state=25)"
   ],
   "outputs": [],
   "execution_count": 25
  },
  {
   "cell_type": "code",
   "id": "bb1377fe",
   "metadata": {
    "papermill": {
     "duration": 0.169269,
     "end_time": "2025-07-25T10:41:56.230947",
     "exception": false,
     "start_time": "2025-07-25T10:41:56.061678",
     "status": "completed"
    },
    "tags": [],
    "ExecuteTime": {
     "end_time": "2025-07-30T10:00:26.796052Z",
     "start_time": "2025-07-30T10:00:26.694816Z"
    }
   },
   "source": [
    "y_transform = Pipeline([\n",
    "    ('transform', FunctionTransformer(func=np.log1p,inverse_func=np.expm1))\n",
    "])\n",
    "\n",
    "duration_transformations = Pipeline([\n",
    "    ('transformer', PowerTransformer(method='yeo-johnson',standardize=False)),\n",
    "    ('scale',StandardScaler())\n",
    "])\n",
    "\n",
    "# One Hot Encoding is essential since most regression models dont understand string values, and need to be changed into numerical values. \n",
    "preprocessing = ColumnTransformer([\n",
    "    ('transformer', duration_transformations,['duration']),\n",
    "    ('ohe',OneHotEncoder(drop='first', sparse_output = False),['airline','source','departure','stops','arrival','destination','class']),\n",
    "    ('scale',StandardScaler(),['days_left'])\n",
    "])\n",
    "\n",
    "X_train_trans = preprocessing.fit_transform(X_train)\n",
    "X_test_trans = preprocessing.transform(X_test)\n",
    "log_y_train = y_transform.fit_transform(y_train)\n",
    "log_y_test = y_transform.transform(y_test)"
   ],
   "outputs": [],
   "execution_count": 30
  },
  {
   "metadata": {
    "ExecuteTime": {
     "end_time": "2025-07-30T10:00:27.691884Z",
     "start_time": "2025-07-30T10:00:27.683125Z"
    }
   },
   "cell_type": "code",
   "source": [
    "import pickle\n",
    "with open('X_test.pkl', 'wb') as f:\n",
    "    pickle.dump(X_test_trans, f)\n",
    "with open('y_test.pkl', 'wb') as f:\n",
    "    pickle.dump(log_y_test, f)"
   ],
   "id": "8f5ba9156cec2ca0",
   "outputs": [],
   "execution_count": 31
  },
  {
   "cell_type": "markdown",
   "id": "63a63342",
   "metadata": {
    "papermill": {
     "duration": 0.010594,
     "end_time": "2025-07-25T10:41:56.252445",
     "exception": false,
     "start_time": "2025-07-25T10:41:56.241851",
     "status": "completed"
    },
    "tags": []
   },
   "source": [
    "# Model Training"
   ]
  },
  {
   "cell_type": "code",
   "id": "6110a445",
   "metadata": {
    "papermill": {
     "duration": 0.205133,
     "end_time": "2025-07-25T10:41:56.468350",
     "exception": false,
     "start_time": "2025-07-25T10:41:56.263217",
     "status": "completed"
    },
    "tags": [],
    "ExecuteTime": {
     "end_time": "2025-07-28T09:33:27.410619Z",
     "start_time": "2025-07-28T09:33:27.361675Z"
    }
   },
   "source": [
    "from sklearn.linear_model import LinearRegression, Lasso, Ridge, LassoCV, RidgeCV\n",
    "from sklearn.tree import DecisionTreeRegressor\n",
    "from sklearn.model_selection import RandomizedSearchCV\n",
    "from sklearn.ensemble import GradientBoostingRegressor, HistGradientBoostingRegressor\n",
    "from sklearn.neural_network import MLPRegressor\n",
    "from sklearn.neighbors import KNeighborsRegressor"
   ],
   "outputs": [],
   "execution_count": 26
  },
  {
   "cell_type": "code",
   "id": "b1557f75",
   "metadata": {
    "papermill": {
     "duration": 452.993562,
     "end_time": "2025-07-25T10:49:29.473559",
     "exception": false,
     "start_time": "2025-07-25T10:41:56.479997",
     "status": "completed"
    },
    "tags": [],
    "ExecuteTime": {
     "end_time": "2025-07-28T09:37:52.768761Z",
     "start_time": "2025-07-28T09:33:27.418871Z"
    }
   },
   "source": [
    "# Multiple Linear Regression\n",
    "lr = LinearRegression()\n",
    "\n",
    "alphas = np.logspace(-4, 4, 50)  # from 1e-4 to 1e4\n",
    "# Lasso Regression\n",
    "lasso = LassoCV(alphas=alphas, cv=5)\n",
    "lasso.fit(X_train_trans,log_y_train)\n",
    "\n",
    "# Ridge Regression\n",
    "ridge = RidgeCV(alphas=alphas, cv=5)\n",
    "ridge.fit(X_train_trans,log_y_train)\n",
    "\n",
    "# DecisionTreeRegressor\n",
    "dt_param_grid = {\n",
    "    'max_depth': [3, 5, 10, None],\n",
    "    'min_samples_split': [2, 5, 10],\n",
    "    'min_samples_leaf': [1, 2, 4]\n",
    "}\n",
    "dt_grid = RandomizedSearchCV(DecisionTreeRegressor(max_features=1.0,random_state=25), dt_param_grid, cv=5, scoring='neg_mean_squared_error', n_jobs=-1, random_state=25)\n",
    "dt_grid.fit(X_train_trans,log_y_train)\n",
    "dt_reg = dt_grid.best_estimator_\n",
    "\n",
    "# K-Nearest Neighbors Regression\n",
    "knr_params = {\n",
    "    'n_neighbors': list(range(3,31))\n",
    "}\n",
    "\n",
    "knr_grid = RandomizedSearchCV(KNeighborsRegressor(weights='distance', n_jobs=-1),knr_params,cv=5,scoring='neg_mean_squared_error', n_jobs=-1, random_state=25)\n",
    "knr_grid.fit(X_train_trans,log_y_train)\n",
    "knr = knr_grid.best_estimator_\n",
    "\n",
    "# Gradient Boosting Regressor\n",
    "param_grid_gbr = {\n",
    "    'n_estimators': [100, 200],\n",
    "    'learning_rate': [0.05, 0.1, 0.2],\n",
    "    'max_depth': [3, 4, 5]\n",
    "}\n",
    "grid_gbr = RandomizedSearchCV(GradientBoostingRegressor(random_state=25), param_grid_gbr, cv=5, scoring='neg_mean_squared_error', n_jobs=-1, random_state=25)\n",
    "grid_gbr.fit(X_train_trans,log_y_train)\n",
    "gbr = grid_gbr.best_estimator_\n",
    "\n",
    "# HistGradientBoostingRegressor\n",
    "hgbr_params = {\n",
    "    'learning_rate': [0.01, 0.05, 0.1],\n",
    "    'max_iter': [300, 500, 700],\n",
    "    'max_depth': [3, 5, 7],\n",
    "    'min_samples_leaf': [5, 10, 20],\n",
    "    'l2_regularization': [0.0, 1.0, 5.0],\n",
    "    'max_bins': [255],\n",
    "    'early_stopping': [True]\n",
    "}\n",
    "hgbr_grid = RandomizedSearchCV(HistGradientBoostingRegressor(loss='squared_error', learning_rate=0.05, max_iter=300,max_depth=5, l2_regularization=1.0, early_stopping=True),hgbr_params,cv=5,scoring='neg_mean_squared_error',n_jobs=-1, random_state=25)\n",
    "hgbr_grid.fit(X_train_trans,log_y_train)\n",
    "hgbr = hgbr_grid.best_estimator_\n",
    "\n",
    "# MLP Regressor\n",
    "param_grid_mlp = {\n",
    "    'hidden_layer_sizes': [(50,), (100,), (100, 50)],\n",
    "    'alpha': [0.0001, 0.001, 0.01],\n",
    "    'learning_rate_init': [0.001, 0.01]\n",
    "}\n",
    "grid_mlp = RandomizedSearchCV(MLPRegressor(max_iter=1000, random_state=25, early_stopping=True), param_grid_mlp, cv=5, scoring='neg_mean_squared_error', n_jobs=-1, random_state=25)\n",
    "grid_mlp.fit(X_train_trans,log_y_train)\n",
    "mlp = grid_mlp.best_estimator_\n"
   ],
   "outputs": [],
   "execution_count": 27
  },
  {
   "cell_type": "markdown",
   "id": "6d153df5",
   "metadata": {
    "papermill": {
     "duration": 0.010247,
     "end_time": "2025-07-25T10:49:29.497864",
     "exception": false,
     "start_time": "2025-07-25T10:49:29.487617",
     "status": "completed"
    },
    "tags": []
   },
   "source": [
    "# Checking Accuracy of the models"
   ]
  },
  {
   "cell_type": "code",
   "id": "b4388c53",
   "metadata": {
    "papermill": {
     "duration": 0.016753,
     "end_time": "2025-07-25T10:49:29.524954",
     "exception": false,
     "start_time": "2025-07-25T10:49:29.508201",
     "status": "completed"
    },
    "tags": [],
    "ExecuteTime": {
     "end_time": "2025-07-28T09:37:52.816314Z",
     "start_time": "2025-07-28T09:37:52.813008Z"
    }
   },
   "source": [
    "from sklearn.model_selection import cross_val_score, KFold\n",
    "from sklearn.metrics import r2_score"
   ],
   "outputs": [],
   "execution_count": 28
  },
  {
   "cell_type": "code",
   "id": "44766389",
   "metadata": {
    "papermill": {
     "duration": 142.313196,
     "end_time": "2025-07-25T10:51:51.848880",
     "exception": false,
     "start_time": "2025-07-25T10:49:29.535684",
     "status": "completed"
    },
    "tags": [],
    "ExecuteTime": {
     "end_time": "2025-07-28T09:38:42.427926Z",
     "start_time": "2025-07-28T09:37:52.837648Z"
    }
   },
   "source": [
    "scoring = 'r2'\n",
    "\n",
    "models = {\n",
    "    'Linear Regression': lr,\n",
    "    'Ridge Regression': ridge,\n",
    "    'Lasso Regression': lasso,\n",
    "    'Decision Tree Regression': dt_reg,\n",
    "    'K-Nearest Neighbors Regression': knr,\n",
    "    'Gradient Boosting Regression': gbr,\n",
    "    'Hist Gradient Boosting Regressor': hgbr,\n",
    "    'MLP Regression': mlp\n",
    "}\n",
    "\n",
    "kf = KFold(n_splits=10,shuffle=True,random_state=25)\n",
    "\n",
    "for name, model in models.items():\n",
    "    scores = cross_val_score(model, X_train_trans, log_y_train, cv=kf, scoring=scoring, n_jobs=-1)\n",
    "    print(f\"{name}: CV R2 = {np.mean(scores):.4f}\")"
   ],
   "outputs": [
    {
     "name": "stdout",
     "output_type": "stream",
     "text": [
      "Linear Regression: CV R2 = 0.9189\n",
      "Ridge Regression: CV R2 = 0.9189\n",
      "Lasso Regression: CV R2 = 0.9188\n",
      "Decision Tree Regression: CV R2 = 0.9551\n",
      "K-Nearest Neighbors Regression: CV R2 = 0.9193\n",
      "Gradient Boosting Regression: CV R2 = 0.9657\n",
      "Hist Gradient Boosting Regressor: CV R2 = 0.9675\n",
      "MLP Regression: CV R2 = 0.9606\n"
     ]
    }
   ],
   "execution_count": 29
  },
  {
   "cell_type": "code",
   "id": "50e6c2df",
   "metadata": {
    "papermill": {
     "duration": 0.18044,
     "end_time": "2025-07-25T10:51:52.040150",
     "exception": false,
     "start_time": "2025-07-25T10:51:51.859710",
     "status": "completed"
    },
    "tags": [],
    "ExecuteTime": {
     "end_time": "2025-07-28T09:38:49.953213Z",
     "start_time": "2025-07-28T09:38:42.445844Z"
    }
   },
   "source": [
    "print(r2_score(y_true=log_y_test,y_pred=gbr.predict(X_test_trans)))\n",
    "print(r2_score(y_true=log_y_test,y_pred=hgbr.predict(X_test_trans)))"
   ],
   "outputs": [
    {
     "name": "stdout",
     "output_type": "stream",
     "text": [
      "0.9634006113679372\n",
      "0.9646030070107834\n"
     ]
    }
   ],
   "execution_count": 30
  },
  {
   "cell_type": "markdown",
   "id": "e68f6238",
   "metadata": {
    "papermill": {
     "duration": 0.010853,
     "end_time": "2025-07-25T10:51:52.064854",
     "exception": false,
     "start_time": "2025-07-25T10:51:52.054001",
     "status": "completed"
    },
    "tags": []
   },
   "source": [
    "### Since Hist Gradient Boosting Regressor performs the best, we will export it for our website."
   ]
  },
  {
   "cell_type": "code",
   "id": "8211b553",
   "metadata": {
    "papermill": {
     "duration": 0.012106,
     "end_time": "2025-07-25T10:51:54.139302",
     "exception": false,
     "start_time": "2025-07-25T10:51:54.127196",
     "status": "completed"
    },
    "tags": [],
    "ExecuteTime": {
     "end_time": "2025-07-28T09:44:26.315285Z",
     "start_time": "2025-07-28T09:44:26.295488Z"
    }
   },
   "source": [
    "with open('flight_model.pkl', 'wb') as model:\n",
    "    pickle.dump(hgbr, model)\n",
    "with open('flight_pipeline.pkl', 'wb') as f:\n",
    "    pickle.dump(preprocessing, f)\n",
    "with open('flight_y_pipeline.pkl', 'wb') as f:\n",
    "    pickle.dump(y_transform, f)"
   ],
   "outputs": [],
   "execution_count": 32
  },
  {
   "metadata": {},
   "cell_type": "code",
   "outputs": [],
   "execution_count": null,
   "source": "",
   "id": "f4ad1456a56bee50"
  }
 ],
 "metadata": {
  "kaggle": {
   "accelerator": "none",
   "dataSources": [
    {
     "databundleVersionId": 12770423,
     "sourceId": 105665,
     "sourceType": "competition"
    }
   ],
   "dockerImageVersionId": 31040,
   "isGpuEnabled": false,
   "isInternetEnabled": true,
   "language": "python",
   "sourceType": "notebook"
  },
  "kernelspec": {
   "display_name": "Python 3 (ipykernel)",
   "language": "python",
   "name": "python3"
  },
  "language_info": {
   "codemirror_mode": {
    "name": "ipython",
    "version": 3
   },
   "file_extension": ".py",
   "mimetype": "text/x-python",
   "name": "python",
   "nbconvert_exporter": "python",
   "pygments_lexer": "ipython3",
   "version": "3.12.0"
  },
  "papermill": {
   "default_parameters": {},
   "duration": 647.346494,
   "end_time": "2025-07-25T10:51:56.773932",
   "environment_variables": {},
   "exception": null,
   "input_path": "__notebook__.ipynb",
   "output_path": "__notebook__.ipynb",
   "parameters": {},
   "start_time": "2025-07-25T10:41:09.427438",
   "version": "2.6.0"
  }
 },
 "nbformat": 4,
 "nbformat_minor": 5
}
