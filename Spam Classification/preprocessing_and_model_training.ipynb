{
 "cells": [
  {
   "cell_type": "code",
   "execution_count": 1,
   "id": "87873206a1d8a15d",
   "metadata": {
    "ExecuteTime": {
     "end_time": "2025-08-08T07:40:07.788575Z",
     "start_time": "2025-08-08T07:39:59.930404Z"
    }
   },
   "outputs": [
    {
     "name": "stderr",
     "output_type": "stream",
     "text": [
      "[nltk_data] Downloading package stopwords to\n",
      "[nltk_data]     C:\\Users\\ST\\AppData\\Roaming\\nltk_data...\n",
      "[nltk_data]   Package stopwords is already up-to-date!\n"
     ]
    }
   ],
   "source": [
    "import numpy as np\n",
    "import pandas as pd\n",
    "import helper\n",
    "\n",
    "random_state=25"
   ]
  },
  {
   "cell_type": "code",
   "execution_count": 2,
   "id": "fa47b81a10b35117",
   "metadata": {
    "ExecuteTime": {
     "end_time": "2025-08-08T07:40:07.990033Z",
     "start_time": "2025-08-08T07:40:07.905684Z"
    }
   },
   "outputs": [],
   "source": [
    "data=pd.read_csv('datasets/data_v3.csv')"
   ]
  },
  {
   "cell_type": "code",
   "execution_count": 3,
   "id": "650a5f330e470975",
   "metadata": {
    "ExecuteTime": {
     "end_time": "2025-08-08T07:40:08.041013Z",
     "start_time": "2025-08-08T07:40:08.017211Z"
    }
   },
   "outputs": [
    {
     "data": {
      "text/html": [
       "<div>\n",
       "<style scoped>\n",
       "    .dataframe tbody tr th:only-of-type {\n",
       "        vertical-align: middle;\n",
       "    }\n",
       "\n",
       "    .dataframe tbody tr th {\n",
       "        vertical-align: top;\n",
       "    }\n",
       "\n",
       "    .dataframe thead th {\n",
       "        text-align: right;\n",
       "    }\n",
       "</style>\n",
       "<table border=\"1\" class=\"dataframe\">\n",
       "  <thead>\n",
       "    <tr style=\"text-align: right;\">\n",
       "      <th></th>\n",
       "      <th>mail</th>\n",
       "      <th>label</th>\n",
       "    </tr>\n",
       "  </thead>\n",
       "  <tbody>\n",
       "    <tr>\n",
       "      <th>0</th>\n",
       "      <td>greetings ! y receiv letter express interest r...</td>\n",
       "      <td>spam</td>\n",
       "    </tr>\n",
       "    <tr>\n",
       "      <th>1</th>\n",
       "      <td>tr save 70 life insurance spend to ? life quot...</td>\n",
       "      <td>spam</td>\n",
       "    </tr>\n",
       "    <tr>\n",
       "      <th>2</th>\n",
       "      <td>need safeti real 2002 might get one chanc  rea...</td>\n",
       "      <td>spam</td>\n",
       "    </tr>\n",
       "    <tr>\n",
       "      <th>3</th>\n",
       "      <td>1 fight risk cancer ! slim  guarante lose 1012...</td>\n",
       "      <td>spam</td>\n",
       "    </tr>\n",
       "    <tr>\n",
       "      <th>4</th>\n",
       "      <td>1 fight risk cancer ! slim  guarante lose 1012...</td>\n",
       "      <td>spam</td>\n",
       "    </tr>\n",
       "    <tr>\n",
       "      <th>...</th>\n",
       "      <td>...</td>\n",
       "      <td>...</td>\n",
       "    </tr>\n",
       "    <tr>\n",
       "      <th>5950</th>\n",
       "      <td>from tmdanethistoryhtmlth first releas tmda ap...</td>\n",
       "      <td>ham</td>\n",
       "    </tr>\n",
       "    <tr>\n",
       "      <th>5951</th>\n",
       "      <td>justin mason wrote phil r lawrenc said  someth...</td>\n",
       "      <td>ham</td>\n",
       "    </tr>\n",
       "    <tr>\n",
       "      <th>5952</th>\n",
       "      <td>wed 11 sep 2002 vinc puzzella wrote ever sinc ...</td>\n",
       "      <td>ham</td>\n",
       "    </tr>\n",
       "    <tr>\n",
       "      <th>5953</th>\n",
       "      <td>craig hugh said   header reproduc full address...</td>\n",
       "      <td>ham</td>\n",
       "    </tr>\n",
       "    <tr>\n",
       "      <th>5954</th>\n",
       "      <td>follow razor debug sequenc show mail go 9295 b...</td>\n",
       "      <td>ham</td>\n",
       "    </tr>\n",
       "  </tbody>\n",
       "</table>\n",
       "<p>5955 rows × 2 columns</p>\n",
       "</div>"
      ],
      "text/plain": [
       "                                                   mail label\n",
       "0     greetings ! y receiv letter express interest r...  spam\n",
       "1     tr save 70 life insurance spend to ? life quot...  spam\n",
       "2     need safeti real 2002 might get one chanc  rea...  spam\n",
       "3     1 fight risk cancer ! slim  guarante lose 1012...  spam\n",
       "4     1 fight risk cancer ! slim  guarante lose 1012...  spam\n",
       "...                                                 ...   ...\n",
       "5950  from tmdanethistoryhtmlth first releas tmda ap...   ham\n",
       "5951  justin mason wrote phil r lawrenc said  someth...   ham\n",
       "5952  wed 11 sep 2002 vinc puzzella wrote ever sinc ...   ham\n",
       "5953  craig hugh said   header reproduc full address...   ham\n",
       "5954  follow razor debug sequenc show mail go 9295 b...   ham\n",
       "\n",
       "[5955 rows x 2 columns]"
      ]
     },
     "execution_count": 3,
     "metadata": {},
     "output_type": "execute_result"
    }
   ],
   "source": [
    "data"
   ]
  },
  {
   "cell_type": "code",
   "execution_count": 4,
   "id": "5f2524e957a2bf1b",
   "metadata": {
    "ExecuteTime": {
     "end_time": "2025-08-08T07:40:08.218792Z",
     "start_time": "2025-08-08T07:40:08.196704Z"
    },
    "id": "5f2524e957a2bf1b"
   },
   "outputs": [],
   "source": [
    "from sklearn.model_selection import train_test_split\n",
    "from sklearn.feature_extraction.text import CountVectorizer, TfidfVectorizer\n",
    "from sklearn.pipeline import Pipeline\n",
    "from sklearn.preprocessing import FunctionTransformer\n",
    "\n",
    "\n",
    "X = data.copy()['mail']\n",
    "y = data.copy()['label'].map({'spam':1,'ham':0})\n",
    "\n",
    "X_train, X_test, y_train, y_test = train_test_split(X, y, test_size=0.25, random_state=random_state)"
   ]
  },
  {
   "cell_type": "code",
   "execution_count": 5,
   "id": "df9f85186df89564",
   "metadata": {
    "ExecuteTime": {
     "end_time": "2025-08-08T07:40:08.691172Z",
     "start_time": "2025-08-08T07:40:08.687830Z"
    },
    "id": "df9f85186df89564"
   },
   "outputs": [],
   "source": [
    "vectorizer = TfidfVectorizer(ngram_range=(1,1), max_features=30000, token_pattern=r\"(?u)\\b\\w+\\b|[!?]\")"
   ]
  },
  {
   "cell_type": "code",
   "execution_count": 6,
   "id": "JXXIPCK6Lmwp",
   "metadata": {
    "ExecuteTime": {
     "end_time": "2025-08-08T07:40:10.637303Z",
     "start_time": "2025-08-08T07:40:08.839978Z"
    },
    "id": "JXXIPCK6Lmwp"
   },
   "outputs": [],
   "source": [
    "preprocessor = Pipeline([\n",
    "    ('flatten', FunctionTransformer(lambda x: x.values.ravel(), validate=False)),\n",
    "    ('vec', vectorizer)\n",
    "])\n",
    "\n",
    "X_train_bow = preprocessor.fit_transform(X_train).toarray()\n",
    "X_test_bow = preprocessor.transform(X_test).toarray()\n",
    "headers = list(preprocessor.named_steps['vec'].get_feature_names_out())"
   ]
  },
  {
   "cell_type": "code",
   "execution_count": 7,
   "id": "bjHM0sgQUSlP",
   "metadata": {
    "ExecuteTime": {
     "end_time": "2025-08-08T07:40:13.757976Z",
     "start_time": "2025-08-08T07:40:11.905963Z"
    },
    "id": "bjHM0sgQUSlP"
   },
   "outputs": [],
   "source": [
    "from sklearn.linear_model import LogisticRegression, SGDClassifier\n",
    "from sklearn.svm import LinearSVC\n",
    "from sklearn.naive_bayes import MultinomialNB\n",
    "from sklearn.tree import DecisionTreeClassifier\n",
    "from sklearn.ensemble import RandomForestClassifier, AdaBoostClassifier\n",
    "from xgboost import XGBClassifier\n",
    "from sklearn.model_selection import cross_val_score, KFold\n",
    "from sklearn.metrics import precision_score, recall_score\n",
    "import matplotlib.pyplot as plt\n",
    "\n",
    "kf_train = KFold(n_splits=5, shuffle=True, random_state=random_state)"
   ]
  },
  {
   "cell_type": "code",
   "execution_count": null,
   "id": "a4lL1zZQUDrk",
   "metadata": {
    "ExecuteTime": {
     "end_time": "2025-08-08T07:41:11.799743Z",
     "start_time": "2025-08-08T07:41:11.795186Z"
    },
    "id": "a4lL1zZQUDrk"
   },
   "outputs": [],
   "source": [
    "logreg = LogisticRegression(random_state=random_state, n_jobs=-1)\n",
    "sgdc = SGDClassifier(random_state=random_state, n_jobs=-1)\n",
    "svc = LinearSVC(random_state=random_state)\n",
    "mnb = MultinomialNB()\n",
    "dtc = DecisionTreeClassifier(random_state=random_state)\n",
    "rfc = RandomForestClassifier(random_state=random_state, n_jobs=-1)\n",
    "abc = AdaBoostClassifier(random_state=random_state)\n",
    "xgbc = XGBClassifier(random_state=random_state, n_jobs=-1)\n",
    "\n",
    "models = {\n",
    "    'Logistic Regression': logreg,\n",
    "    'SGDClassifier': sgdc,\n",
    "    'LinearSVC': svc,\n",
    "    'MultinomialNB': mnb,\n",
    "    'DecisionTreeClassifier': dtc,\n",
    "    'RandomForestClassifier': rfc,\n",
    "    'AdaBoostClassifier': abc,\n",
    "    'XGBClassifier': xgbc\n",
    "}"
   ]
  },
  {
   "cell_type": "code",
   "execution_count": 9,
   "id": "N-e9ozR8Uhw_",
   "metadata": {
    "ExecuteTime": {
     "end_time": "2025-08-08T07:41:18.923323Z",
     "start_time": "2025-08-08T07:41:11.850859Z"
    },
    "colab": {
     "base_uri": "https://localhost:8080/"
    },
    "id": "N-e9ozR8Uhw_",
    "outputId": "90a9bebd-dc97-4a7f-ed24-b07ac5440742"
   },
   "outputs": [
    {
     "name": "stdout",
     "output_type": "stream",
     "text": [
      "MultinomialNB CV Precision: 0.9987878787878788\n",
      "1.0\n"
     ]
    }
   ],
   "source": [
    "y_proba = {}\n",
    "for model, obj in models.items():\n",
    "    scores = np.mean(cross_val_score(obj, X_train_bow, y_train, cv=kf_train, scoring='precision', n_jobs=-1))\n",
    "    obj.fit(X_train_bow, y_train)\n",
    "    try:\n",
    "      y_proba[model] = obj.predict_proba(X_test_bow)\n",
    "    except:\n",
    "      pass\n",
    "    print(f\"{model} CV Precision: {scores}\")\n",
    "    print(precision_score(y_test, obj.predict(X_test_bow)))"
   ]
  },
  {
   "cell_type": "markdown",
   "id": "rvtn7fW7C2DI",
   "metadata": {
    "id": "rvtn7fW7C2DI"
   },
   "source": [
    "### There is no need to tune the hyperparameter. We already have pretty amazing models."
   ]
  },
  {
   "cell_type": "markdown",
   "id": "HpDqTf74DBXN",
   "metadata": {
    "id": "HpDqTf74DBXN"
   },
   "source": [
    "## Evaluating Models"
   ]
  },
  {
   "cell_type": "code",
   "execution_count": 10,
   "id": "YAyQeQL9w6Ed",
   "metadata": {
    "ExecuteTime": {
     "end_time": "2025-08-08T07:41:24.834426Z",
     "start_time": "2025-08-08T07:41:24.831776Z"
    },
    "id": "YAyQeQL9w6Ed"
   },
   "outputs": [],
   "source": [
    "from sklearn.metrics import RocCurveDisplay, precision_recall_curve"
   ]
  },
  {
   "cell_type": "code",
   "execution_count": 11,
   "id": "7W4fFzo_nC_-",
   "metadata": {
    "ExecuteTime": {
     "end_time": "2025-08-08T07:41:25.192325Z",
     "start_time": "2025-08-08T07:41:24.913933Z"
    },
    "colab": {
     "base_uri": "https://localhost:8080/",
     "height": 1000
    },
    "id": "7W4fFzo_nC_-",
    "outputId": "95c8f47e-67db-410e-fb1d-f01e9bb00842"
   },
   "outputs": [
    {
     "data": {
      "image/png": "[encoded data removed]",
      "text/plain": [
       "<Figure size 640x480 with 1 Axes>"
      ]
     },
     "metadata": {},
     "output_type": "display_data"
    }
   ],
   "source": [
    "for clf in models.values():\n",
    "    RocCurveDisplay.from_estimator(clf, X_test_bow, y_test)\n",
    "    plt.show()"
   ]
  },
  {
   "cell_type": "code",
   "execution_count": 12,
   "id": "zHY-WLcHA3ih",
   "metadata": {
    "ExecuteTime": {
     "end_time": "2025-08-08T07:41:25.216819Z",
     "start_time": "2025-08-08T07:41:25.212293Z"
    },
    "id": "zHY-WLcHA3ih"
   },
   "outputs": [],
   "source": [
    "precision, recall, thresholds = precision_recall_curve(y_test, y_proba['MultinomialNB'][:,1])"
   ]
  },
  {
   "cell_type": "code",
   "execution_count": 13,
   "id": "CLRHnr5dG6b6",
   "metadata": {
    "ExecuteTime": {
     "end_time": "2025-08-08T07:41:25.232963Z",
     "start_time": "2025-08-08T07:41:25.229285Z"
    },
    "colab": {
     "base_uri": "https://localhost:8080/"
    },
    "id": "CLRHnr5dG6b6",
    "outputId": "1fd6dcaa-0e6d-44a0-c5a3-72d061a2d961"
   },
   "outputs": [
    {
     "data": {
      "text/plain": [
       "(1433,)"
      ]
     },
     "execution_count": 13,
     "metadata": {},
     "output_type": "execute_result"
    }
   ],
   "source": [
    "precision.shape"
   ]
  },
  {
   "cell_type": "code",
   "execution_count": 14,
   "id": "hu-djOwVG1Cv",
   "metadata": {
    "ExecuteTime": {
     "end_time": "2025-08-08T07:41:25.251980Z",
     "start_time": "2025-08-08T07:41:25.248259Z"
    },
    "id": "hu-djOwVG1Cv"
   },
   "outputs": [],
   "source": [
    "test = pd.DataFrame({\n",
    "    'threshold': thresholds,\n",
    "    'precision': precision[1:],\n",
    "    'recall': recall[1:]\n",
    "})"
   ]
  },
  {
   "cell_type": "code",
   "execution_count": 15,
   "id": "qjbwPRQQIjIb",
   "metadata": {
    "ExecuteTime": {
     "end_time": "2025-08-08T07:41:25.269332Z",
     "start_time": "2025-08-08T07:41:25.265460Z"
    },
    "id": "qjbwPRQQIjIb"
   },
   "outputs": [],
   "source": [
    "prec_max = test['precision'].max()"
   ]
  },
  {
   "cell_type": "code",
   "execution_count": 16,
   "id": "DCOK1691duaK",
   "metadata": {
    "ExecuteTime": {
     "end_time": "2025-08-08T07:41:25.287327Z",
     "start_time": "2025-08-08T07:41:25.283826Z"
    },
    "colab": {
     "base_uri": "https://localhost:8080/"
    },
    "id": "DCOK1691duaK",
    "outputId": "b3f67c92-d776-41c6-b29b-bfc31da8d20d"
   },
   "outputs": [
    {
     "data": {
      "text/plain": [
       "np.float64(1.0)"
      ]
     },
     "execution_count": 16,
     "metadata": {},
     "output_type": "execute_result"
    }
   ],
   "source": [
    "prec_max"
   ]
  },
  {
   "cell_type": "code",
   "execution_count": 17,
   "id": "oYI8FJ31dzoJ",
   "metadata": {
    "ExecuteTime": {
     "end_time": "2025-08-08T07:41:25.315730Z",
     "start_time": "2025-08-08T07:41:25.304120Z"
    },
    "colab": {
     "base_uri": "https://localhost:8080/",
     "height": 143
    },
    "id": "oYI8FJ31dzoJ",
    "outputId": "27c7d326-a2c8-47d1-970e-25b900eceef1"
   },
   "outputs": [
    {
     "data": {
      "text/html": [
       "<div>\n",
       "<style scoped>\n",
       "    .dataframe tbody tr th:only-of-type {\n",
       "        vertical-align: middle;\n",
       "    }\n",
       "\n",
       "    .dataframe tbody tr th {\n",
       "        vertical-align: top;\n",
       "    }\n",
       "\n",
       "    .dataframe thead th {\n",
       "        text-align: right;\n",
       "    }\n",
       "</style>\n",
       "<table border=\"1\" class=\"dataframe\">\n",
       "  <thead>\n",
       "    <tr style=\"text-align: right;\">\n",
       "      <th></th>\n",
       "      <th>threshold</th>\n",
       "      <th>precision</th>\n",
       "      <th>recall</th>\n",
       "    </tr>\n",
       "  </thead>\n",
       "  <tbody>\n",
       "    <tr>\n",
       "      <th>0</th>\n",
       "      <td>0.000012</td>\n",
       "      <td>0.278413</td>\n",
       "      <td>1.000000</td>\n",
       "    </tr>\n",
       "    <tr>\n",
       "      <th>1</th>\n",
       "      <td>0.000018</td>\n",
       "      <td>0.278788</td>\n",
       "      <td>1.000000</td>\n",
       "    </tr>\n",
       "    <tr>\n",
       "      <th>2</th>\n",
       "      <td>0.000018</td>\n",
       "      <td>0.278976</td>\n",
       "      <td>1.000000</td>\n",
       "    </tr>\n",
       "    <tr>\n",
       "      <th>3</th>\n",
       "      <td>0.000018</td>\n",
       "      <td>0.279164</td>\n",
       "      <td>1.000000</td>\n",
       "    </tr>\n",
       "    <tr>\n",
       "      <th>4</th>\n",
       "      <td>0.000022</td>\n",
       "      <td>0.279541</td>\n",
       "      <td>1.000000</td>\n",
       "    </tr>\n",
       "    <tr>\n",
       "      <th>...</th>\n",
       "      <td>...</td>\n",
       "      <td>...</td>\n",
       "      <td>...</td>\n",
       "    </tr>\n",
       "    <tr>\n",
       "      <th>1427</th>\n",
       "      <td>0.996470</td>\n",
       "      <td>1.000000</td>\n",
       "      <td>0.012077</td>\n",
       "    </tr>\n",
       "    <tr>\n",
       "      <th>1428</th>\n",
       "      <td>0.997123</td>\n",
       "      <td>1.000000</td>\n",
       "      <td>0.009662</td>\n",
       "    </tr>\n",
       "    <tr>\n",
       "      <th>1429</th>\n",
       "      <td>0.997137</td>\n",
       "      <td>1.000000</td>\n",
       "      <td>0.004831</td>\n",
       "    </tr>\n",
       "    <tr>\n",
       "      <th>1430</th>\n",
       "      <td>0.997205</td>\n",
       "      <td>1.000000</td>\n",
       "      <td>0.002415</td>\n",
       "    </tr>\n",
       "    <tr>\n",
       "      <th>1431</th>\n",
       "      <td>0.997923</td>\n",
       "      <td>1.000000</td>\n",
       "      <td>0.000000</td>\n",
       "    </tr>\n",
       "  </tbody>\n",
       "</table>\n",
       "<p>1432 rows × 3 columns</p>\n",
       "</div>"
      ],
      "text/plain": [
       "      threshold  precision    recall\n",
       "0      0.000012   0.278413  1.000000\n",
       "1      0.000018   0.278788  1.000000\n",
       "2      0.000018   0.278976  1.000000\n",
       "3      0.000018   0.279164  1.000000\n",
       "4      0.000022   0.279541  1.000000\n",
       "...         ...        ...       ...\n",
       "1427   0.996470   1.000000  0.012077\n",
       "1428   0.997123   1.000000  0.009662\n",
       "1429   0.997137   1.000000  0.004831\n",
       "1430   0.997205   1.000000  0.002415\n",
       "1431   0.997923   1.000000  0.000000\n",
       "\n",
       "[1432 rows x 3 columns]"
      ]
     },
     "execution_count": 17,
     "metadata": {},
     "output_type": "execute_result"
    }
   ],
   "source": [
    "test"
   ]
  },
  {
   "cell_type": "code",
   "execution_count": 18,
   "id": "whXfmRdGHllo",
   "metadata": {
    "ExecuteTime": {
     "end_time": "2025-08-08T07:41:25.396301Z",
     "start_time": "2025-08-08T07:41:25.383200Z"
    },
    "colab": {
     "base_uri": "https://localhost:8080/"
    },
    "id": "whXfmRdGHllo",
    "outputId": "5a78e088-4812-490f-ccc7-aae3e4b7636d"
   },
   "outputs": [
    {
     "data": {
      "text/plain": [
       "np.float64(0.2758408439955403)"
      ]
     },
     "execution_count": 18,
     "metadata": {},
     "output_type": "execute_result"
    }
   ],
   "source": [
    "test[(test['precision'] >= prec_max - 0.01) & (test['precision'] <= prec_max)].sort_values(by='recall', ascending=False).head(1)['threshold'].values[0]"
   ]
  },
  {
   "cell_type": "code",
   "execution_count": 19,
   "id": "7__ejHyxBVKr",
   "metadata": {
    "ExecuteTime": {
     "end_time": "2025-08-08T07:41:27.762081Z",
     "start_time": "2025-08-08T07:41:27.663232Z"
    },
    "colab": {
     "base_uri": "https://localhost:8080/",
     "height": 447
    },
    "id": "7__ejHyxBVKr",
    "outputId": "cd41686d-a975-46e6-b310-c585b1813028"
   },
   "outputs": [
    {
     "data": {
      "text/plain": [
       "[<matplotlib.lines.Line2D at 0x1699ea127e0>]"
      ]
     },
     "execution_count": 19,
     "metadata": {},
     "output_type": "execute_result"
    },
    {
     "data": {
      "image/png": "[encoded data removed]",
      "text/plain": [
       "<Figure size 640x480 with 1 Axes>"
      ]
     },
     "metadata": {},
     "output_type": "display_data"
    }
   ],
   "source": [
    "plt.plot(precision,recall)"
   ]
  },
  {
   "cell_type": "code",
   "execution_count": 20,
   "id": "NVZ96ek38tDy",
   "metadata": {
    "ExecuteTime": {
     "end_time": "2025-08-08T07:41:27.841636Z",
     "start_time": "2025-08-08T07:41:27.829557Z"
    },
    "colab": {
     "base_uri": "https://localhost:8080/"
    },
    "id": "NVZ96ek38tDy",
    "outputId": "83d2fbbc-97c8-4155-f3ec-475c6c124619"
   },
   "outputs": [
    {
     "name": "stdout",
     "output_type": "stream",
     "text": [
      "Best Threshold for MultinomialNB: 0.2758408439955403\n",
      "Precision at this threshold: 0.99\n",
      "Recall at this threshold: 0.91\n"
     ]
    }
   ],
   "source": [
    "comp_df = {}\n",
    "for model, proba in y_proba.items():\n",
    "  precision, recall, thresholds = precision_recall_curve(y_test, proba[:,1])\n",
    "\n",
    "  df = pd.DataFrame({\n",
    "    'threshold': thresholds,\n",
    "    'precision': precision[1:],\n",
    "    'recall': recall[1:]\n",
    "    })\n",
    "  prec_max = df['precision'].max()\n",
    "  best_threshold = df[(\n",
    "      (df['precision'] >= prec_max - 0.01) & (df['precision'] <= prec_max)\n",
    "      )].sort_values(\n",
    "          by='recall', ascending=False\n",
    "          ).head(1)['threshold'].values[0]\n",
    "  pr = np.round(precision_score(y_test, (proba[:,1] >= best_threshold).astype(int)),2)\n",
    "  rc = np.round(recall_score(y_test, (proba[:,1] >= best_threshold).astype(int)),2)\n",
    "\n",
    "  print(f\"Best Threshold for {model}: {best_threshold}\")\n",
    "  print(f\"Precision at this threshold: {pr}\")\n",
    "  print(f\"Recall at this threshold: {rc}\")\n",
    "  comp_df[model] = [best_threshold, pr, rc]"
   ]
  },
  {
   "cell_type": "code",
   "execution_count": 21,
   "id": "EkPaLA8JJ3S9",
   "metadata": {
    "ExecuteTime": {
     "end_time": "2025-08-08T07:41:27.859154Z",
     "start_time": "2025-08-08T07:41:27.854961Z"
    },
    "id": "EkPaLA8JJ3S9"
   },
   "outputs": [],
   "source": [
    "comparison_df = pd.DataFrame(comp_df).T.rename({\n",
    "    0: 'Threshold',\n",
    "    1: 'Precision',\n",
    "    2: 'Recall'\n",
    "}, axis=1)"
   ]
  },
  {
   "cell_type": "code",
   "execution_count": 22,
   "id": "CoQNmHk3Koz6",
   "metadata": {
    "ExecuteTime": {
     "end_time": "2025-08-08T07:41:30.129849Z",
     "start_time": "2025-08-08T07:41:30.116789Z"
    },
    "colab": {
     "base_uri": "https://localhost:8080/",
     "height": 238
    },
    "id": "CoQNmHk3Koz6",
    "outputId": "184869b7-52b0-4a7c-eb72-57f3ff92c070"
   },
   "outputs": [
    {
     "data": {
      "text/html": [
       "<div>\n",
       "<style scoped>\n",
       "    .dataframe tbody tr th:only-of-type {\n",
       "        vertical-align: middle;\n",
       "    }\n",
       "\n",
       "    .dataframe tbody tr th {\n",
       "        vertical-align: top;\n",
       "    }\n",
       "\n",
       "    .dataframe thead th {\n",
       "        text-align: right;\n",
       "    }\n",
       "</style>\n",
       "<table border=\"1\" class=\"dataframe\">\n",
       "  <thead>\n",
       "    <tr style=\"text-align: right;\">\n",
       "      <th></th>\n",
       "      <th>Threshold</th>\n",
       "      <th>Precision</th>\n",
       "      <th>Recall</th>\n",
       "    </tr>\n",
       "  </thead>\n",
       "  <tbody>\n",
       "    <tr>\n",
       "      <th>MultinomialNB</th>\n",
       "      <td>0.275841</td>\n",
       "      <td>0.99</td>\n",
       "      <td>0.91</td>\n",
       "    </tr>\n",
       "  </tbody>\n",
       "</table>\n",
       "</div>"
      ],
      "text/plain": [
       "               Threshold  Precision  Recall\n",
       "MultinomialNB   0.275841       0.99    0.91"
      ]
     },
     "execution_count": 22,
     "metadata": {},
     "output_type": "execute_result"
    }
   ],
   "source": [
    "comparison_df.sort_values(by=['Precision','Recall'], ascending=[False,False])"
   ]
  },
  {
   "cell_type": "markdown",
   "id": "GPsZ6eTLL0kr",
   "metadata": {
    "id": "GPsZ6eTLL0kr"
   },
   "source": [
    "#### Clearly, MNB is performing the best here.\n",
    "#### It even got a precision of 1.0, but in that case, the max recall we could get was 76%, so I decided to lose 1 percentage point in precision for an increase of about 15 percentage points in recall."
   ]
  },
  {
   "cell_type": "code",
   "execution_count": 23,
   "id": "15f13b4bac0acadc",
   "metadata": {
    "ExecuteTime": {
     "end_time": "2025-08-08T07:41:34.965473Z",
     "start_time": "2025-08-08T07:41:34.958993Z"
    }
   },
   "outputs": [],
   "source": [
    "from sklearn.pipeline import Pipeline\n",
    "import pickle\n",
    "\n",
    "text_ppl = Pipeline([\n",
    "    ('clean', helper.CleanBody()),\n",
    "    ('flatten', FunctionTransformer(helper.flatten_values, validate=False)),\n",
    "    ('vec', vectorizer),\n",
    "    ('predict', mnb)\n",
    "])\n",
    "text_ppl.fit(X_train, y_train)\n",
    "\n",
    "with open('text_ppl.pkl', 'wb') as f:\n",
    "    pickle.dump(text_ppl, f)"
   ]
  }
 ],
 "metadata": {
  "colab": {
   "provenance": []
  },
  "kernelspec": {
   "display_name": "ml_website",
   "language": "python",
   "name": "python3"
  },
  "language_info": {
   "codemirror_mode": {
    "name": "ipython",
    "version": 3
   },
   "file_extension": ".py",
   "mimetype": "text/x-python",
   "name": "python",
   "nbconvert_exporter": "python",
   "pygments_lexer": "ipython3",
   "version": "3.12.0"
  }
 },
 "nbformat": 4,
 "nbformat_minor": 5
}
