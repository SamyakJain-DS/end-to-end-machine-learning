{
 "cells": [
  {
   "cell_type": "code",
   "id": "initial_id",
   "metadata": {
    "collapsed": true,
    "ExecuteTime": {
     "end_time": "2025-08-05T16:06:08.893204Z",
     "start_time": "2025-08-05T16:06:02.721111Z"
    }
   },
   "source": [
    "import numpy as np\n",
    "import pandas as pd\n",
    "from sklearn.feature_extraction.text import CountVectorizer\n",
    "\n",
    "random_state=25"
   ],
   "outputs": [],
   "execution_count": 1
  },
  {
   "metadata": {
    "ExecuteTime": {
     "end_time": "2025-08-05T16:06:09.146701Z",
     "start_time": "2025-08-05T16:06:08.950299Z"
    }
   },
   "cell_type": "code",
   "source": "data=pd.read_csv('datasets/data_v3.csv')",
   "id": "2b9e61d61c56940b",
   "outputs": [],
   "execution_count": 2
  },
  {
   "metadata": {
    "ExecuteTime": {
     "end_time": "2025-08-05T16:06:09.181831Z",
     "start_time": "2025-08-05T16:06:09.156462Z"
    }
   },
   "cell_type": "code",
   "source": "data",
   "id": "95673eac80fc96a8",
   "outputs": [
    {
     "data": {
      "text/plain": [
       "                                                   mail label\n",
       "0     greetings ! y receiv letter express interest r...  spam\n",
       "1     tr save 70 life insurance spend to ? life quot...  spam\n",
       "2     need safeti real 2002 might get one chanc  rea...  spam\n",
       "3     1 fight risk cancer ! slim  guarante lose 1012...  spam\n",
       "4     1 fight risk cancer ! slim  guarante lose 1012...  spam\n",
       "...                                                 ...   ...\n",
       "5950  from tmdanethistoryhtmlth first releas tmda ap...   ham\n",
       "5951  justin mason wrote phil r lawrenc said  someth...   ham\n",
       "5952  wed 11 sep 2002 vinc puzzella wrote ever sinc ...   ham\n",
       "5953  craig hugh said   header reproduc full address...   ham\n",
       "5954  follow razor debug sequenc show mail go 9295 b...   ham\n",
       "\n",
       "[5955 rows x 2 columns]"
      ],
      "text/html": [
       "<div>\n",
       "<style scoped>\n",
       "    .dataframe tbody tr th:only-of-type {\n",
       "        vertical-align: middle;\n",
       "    }\n",
       "\n",
       "    .dataframe tbody tr th {\n",
       "        vertical-align: top;\n",
       "    }\n",
       "\n",
       "    .dataframe thead th {\n",
       "        text-align: right;\n",
       "    }\n",
       "</style>\n",
       "<table border=\"1\" class=\"dataframe\">\n",
       "  <thead>\n",
       "    <tr style=\"text-align: right;\">\n",
       "      <th></th>\n",
       "      <th>mail</th>\n",
       "      <th>label</th>\n",
       "    </tr>\n",
       "  </thead>\n",
       "  <tbody>\n",
       "    <tr>\n",
       "      <th>0</th>\n",
       "      <td>greetings ! y receiv letter express interest r...</td>\n",
       "      <td>spam</td>\n",
       "    </tr>\n",
       "    <tr>\n",
       "      <th>1</th>\n",
       "      <td>tr save 70 life insurance spend to ? life quot...</td>\n",
       "      <td>spam</td>\n",
       "    </tr>\n",
       "    <tr>\n",
       "      <th>2</th>\n",
       "      <td>need safeti real 2002 might get one chanc  rea...</td>\n",
       "      <td>spam</td>\n",
       "    </tr>\n",
       "    <tr>\n",
       "      <th>3</th>\n",
       "      <td>1 fight risk cancer ! slim  guarante lose 1012...</td>\n",
       "      <td>spam</td>\n",
       "    </tr>\n",
       "    <tr>\n",
       "      <th>4</th>\n",
       "      <td>1 fight risk cancer ! slim  guarante lose 1012...</td>\n",
       "      <td>spam</td>\n",
       "    </tr>\n",
       "    <tr>\n",
       "      <th>...</th>\n",
       "      <td>...</td>\n",
       "      <td>...</td>\n",
       "    </tr>\n",
       "    <tr>\n",
       "      <th>5950</th>\n",
       "      <td>from tmdanethistoryhtmlth first releas tmda ap...</td>\n",
       "      <td>ham</td>\n",
       "    </tr>\n",
       "    <tr>\n",
       "      <th>5951</th>\n",
       "      <td>justin mason wrote phil r lawrenc said  someth...</td>\n",
       "      <td>ham</td>\n",
       "    </tr>\n",
       "    <tr>\n",
       "      <th>5952</th>\n",
       "      <td>wed 11 sep 2002 vinc puzzella wrote ever sinc ...</td>\n",
       "      <td>ham</td>\n",
       "    </tr>\n",
       "    <tr>\n",
       "      <th>5953</th>\n",
       "      <td>craig hugh said   header reproduc full address...</td>\n",
       "      <td>ham</td>\n",
       "    </tr>\n",
       "    <tr>\n",
       "      <th>5954</th>\n",
       "      <td>follow razor debug sequenc show mail go 9295 b...</td>\n",
       "      <td>ham</td>\n",
       "    </tr>\n",
       "  </tbody>\n",
       "</table>\n",
       "<p>5955 rows × 2 columns</p>\n",
       "</div>"
      ]
     },
     "execution_count": 3,
     "metadata": {},
     "output_type": "execute_result"
    }
   ],
   "execution_count": 3
  },
  {
   "metadata": {
    "ExecuteTime": {
     "end_time": "2025-08-05T16:06:09.697621Z",
     "start_time": "2025-08-05T16:06:09.410560Z"
    }
   },
   "cell_type": "code",
   "source": [
    "from sklearn.model_selection import train_test_split\n",
    "from sklearn.feature_extraction.text import CountVectorizer\n",
    "\n",
    "X = data.copy()['mail']\n",
    "y = data.copy()['label'].map({'spam':1,'ham':0})\n",
    "\n",
    "X_train, X_test, y_train, y_test = train_test_split(X, y, test_size=0.25, random_state=random_state)"
   ],
   "id": "5f2524e957a2bf1b",
   "outputs": [],
   "execution_count": 4
  },
  {
   "metadata": {
    "ExecuteTime": {
     "end_time": "2025-08-05T16:06:09.709619Z",
     "start_time": "2025-08-05T16:06:09.706524Z"
    }
   },
   "cell_type": "code",
   "source": "vectorizer = CountVectorizer(ngram_range=(1,1), max_features=5000, token_pattern=r\"(?u)\\b\\w+\\b|[!?]\")",
   "id": "df9f85186df89564",
   "outputs": [],
   "execution_count": 5
  },
  {
   "metadata": {},
   "cell_type": "code",
   "outputs": [],
   "execution_count": null,
   "source": "",
   "id": "b3989c999e2e9e92"
  }
 ],
 "metadata": {
  "kernelspec": {
   "display_name": "Python 3",
   "language": "python",
   "name": "python3"
  },
  "language_info": {
   "codemirror_mode": {
    "name": "ipython",
    "version": 2
   },
   "file_extension": ".py",
   "mimetype": "text/x-python",
   "name": "python",
   "nbconvert_exporter": "python",
   "pygments_lexer": "ipython2",
   "version": "2.7.6"
  }
 },
 "nbformat": 4,
 "nbformat_minor": 5
}
