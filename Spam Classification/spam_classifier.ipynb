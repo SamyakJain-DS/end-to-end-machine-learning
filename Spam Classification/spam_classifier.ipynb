{
 "cells": [
  {
   "cell_type": "code",
   "id": "initial_id",
   "metadata": {
    "collapsed": true,
    "ExecuteTime": {
     "end_time": "2025-07-30T16:37:51.825803Z",
     "start_time": "2025-07-30T16:37:51.634046Z"
    }
   },
   "source": [
    "import numpy as np\n",
    "import pandas as pd\n",
    "import email\n",
    "from email import policy\n",
    "import os\n",
    "from bs4 import BeautifulSoup"
   ],
   "outputs": [],
   "execution_count": 43
  },
  {
   "metadata": {
    "ExecuteTime": {
     "end_time": "2025-07-30T16:34:37.662483Z",
     "start_time": "2025-07-30T16:34:37.653099Z"
    }
   },
   "cell_type": "code",
   "source": [
    "root_dir = os.getcwd()\n",
    "\n",
    "ham_folder = os.path.join(root_dir,'main_ham')\n",
    "spam_folder = os.path.join(root_dir,'main_spam')\n",
    "ham_files = os.listdir(ham_folder)\n",
    "spam_files = os.listdir(spam_folder)"
   ],
   "id": "5d77e828d8b795e7",
   "outputs": [],
   "execution_count": 26
  },
  {
   "metadata": {
    "ExecuteTime": {
     "end_time": "2025-07-30T16:38:26.364942Z",
     "start_time": "2025-07-30T16:38:26.361716Z"
    }
   },
   "cell_type": "code",
   "source": [
    "def clean_html(raw_html):\n",
    "    '''\n",
    "    To clean any html content in emails.\n",
    "    :param raw_html: string of html tags and content\n",
    "    :return: a clean string with no html tags or styling\n",
    "    '''\n",
    "    soup = BeautifulSoup(raw_html, \"html.parser\")\n",
    "\n",
    "    # Remove all style and script tags\n",
    "    for script_or_style in soup([\"script\", \"style\"]):\n",
    "        script_or_style.decompose()\n",
    "\n",
    "    # Get text and strip extra whitespace\n",
    "    cleaned_text = soup.get_text(separator=\" \")\n",
    "    cleaned_text = \" \".join(cleaned_text.split())\n",
    "\n",
    "    return cleaned_text"
   ],
   "id": "9bb49ad1d9331a74",
   "outputs": [],
   "execution_count": 44
  },
  {
   "metadata": {
    "ExecuteTime": {
     "end_time": "2025-07-30T17:38:16.664496Z",
     "start_time": "2025-07-30T17:38:16.659495Z"
    }
   },
   "cell_type": "code",
   "source": [
    "def extract_body(path):\n",
    "    '''\n",
    "    This function takes a path to an email file and returns the cleaned body of that email\n",
    "    :param path: poth to the email file\n",
    "    :return: body content after cleaning any html tags present\n",
    "    '''\n",
    "    with open(path, 'r', encoding='utf-8', errors='ignore') as f:\n",
    "        msg = email.message_from_file(f, policy=policy.default)\n",
    "\n",
    "    body = ''\n",
    "\n",
    "    if msg.is_multipart():\n",
    "        for part in msg.walk():\n",
    "            content_type = part.get_content_type()\n",
    "            if content_type == 'text/plain':\n",
    "                try:\n",
    "                    content = part.get_content()\n",
    "                except LookupError:\n",
    "                    # Unknown encoding fallback\n",
    "                    content = part.get_payload(decode=True)\n",
    "                    content = content.decode('utf-8', errors='ignore')\n",
    "                body += content\n",
    "            elif content_type == 'text/html':\n",
    "                body += clean_html(part.get_content())\n",
    "    else:\n",
    "        if msg.get_content_type() == 'text/plain':\n",
    "            try:\n",
    "                content = msg.get_content()\n",
    "            except LookupError:\n",
    "                content = msg.get_payload(decode=True)\n",
    "                content = content.decode('utf-8', errors='ignore')\n",
    "            body += content\n",
    "        elif msg.get_content_type() == 'text/html':\n",
    "            try:\n",
    "                content = msg.get_content()\n",
    "            except LookupError:\n",
    "                content = msg.get_payload(decode=True)\n",
    "                content = content.decode('utf-8', errors='ignore')\n",
    "            body += clean_html(content)\n",
    "\n",
    "    return body"
   ],
   "id": "6ec67f648e8b9b59",
   "outputs": [],
   "execution_count": 77
  },
  {
   "metadata": {
    "ExecuteTime": {
     "end_time": "2025-07-30T17:46:06.604135Z",
     "start_time": "2025-07-30T17:45:46.198134Z"
    }
   },
   "cell_type": "code",
   "source": [
    "df = {}\n",
    "for file in spam_files:\n",
    "    df[extract_body(os.path.join(spam_folder, file))] = 'spam'\n",
    "for file in ham_files:\n",
    "    df[extract_body(os.path.join(ham_folder, file))] = 'ham'"
   ],
   "id": "1a88225b791c374c",
   "outputs": [],
   "execution_count": 88
  },
  {
   "metadata": {
    "ExecuteTime": {
     "end_time": "2025-07-30T17:51:37.814327Z",
     "start_time": "2025-07-30T17:51:37.808327Z"
    }
   },
   "cell_type": "code",
   "source": "data = pd.DataFrame.from_dict(df, orient='index', columns=['label']).reset_index(names='maill')",
   "id": "8e26cdcf9fc28c4c",
   "outputs": [],
   "execution_count": 110
  },
  {
   "metadata": {
    "ExecuteTime": {
     "end_time": "2025-07-30T17:51:37.907064Z",
     "start_time": "2025-07-30T17:51:37.902328Z"
    }
   },
   "cell_type": "code",
   "source": "data.shape",
   "id": "e9f4cf9bca564078",
   "outputs": [
    {
     "data": {
      "text/plain": [
       "(5994, 2)"
      ]
     },
     "execution_count": 111,
     "metadata": {},
     "output_type": "execute_result"
    }
   ],
   "execution_count": 111
  },
  {
   "metadata": {
    "ExecuteTime": {
     "end_time": "2025-07-30T17:51:38.211161Z",
     "start_time": "2025-07-30T17:51:38.204318Z"
    }
   },
   "cell_type": "code",
   "source": "data.head()",
   "id": "87182686c2cccff9",
   "outputs": [
    {
     "data": {
      "text/plain": [
       "                                               maill label\n",
       "0  mv 1 00001.bfc8d64d12b325ff385cca8d07b84288\\nm...  spam\n",
       "1  Greetings!\\n\\nYou are receiving this letter be...  spam\n",
       "2  Save up to 70% on Life Insurance. Why Spend Mo...  spam\n",
       "3  The Need For Safety Is Real In 2002, You Might...  spam\n",
       "4  1) Fight The Risk of Cancer!\\nhttp://www.adcli...  spam"
      ],
      "text/html": [
       "<div>\n",
       "<style scoped>\n",
       "    .dataframe tbody tr th:only-of-type {\n",
       "        vertical-align: middle;\n",
       "    }\n",
       "\n",
       "    .dataframe tbody tr th {\n",
       "        vertical-align: top;\n",
       "    }\n",
       "\n",
       "    .dataframe thead th {\n",
       "        text-align: right;\n",
       "    }\n",
       "</style>\n",
       "<table border=\"1\" class=\"dataframe\">\n",
       "  <thead>\n",
       "    <tr style=\"text-align: right;\">\n",
       "      <th></th>\n",
       "      <th>maill</th>\n",
       "      <th>label</th>\n",
       "    </tr>\n",
       "  </thead>\n",
       "  <tbody>\n",
       "    <tr>\n",
       "      <th>0</th>\n",
       "      <td>mv 1 00001.bfc8d64d12b325ff385cca8d07b84288\\nm...</td>\n",
       "      <td>spam</td>\n",
       "    </tr>\n",
       "    <tr>\n",
       "      <th>1</th>\n",
       "      <td>Greetings!\\n\\nYou are receiving this letter be...</td>\n",
       "      <td>spam</td>\n",
       "    </tr>\n",
       "    <tr>\n",
       "      <th>2</th>\n",
       "      <td>Save up to 70% on Life Insurance. Why Spend Mo...</td>\n",
       "      <td>spam</td>\n",
       "    </tr>\n",
       "    <tr>\n",
       "      <th>3</th>\n",
       "      <td>The Need For Safety Is Real In 2002, You Might...</td>\n",
       "      <td>spam</td>\n",
       "    </tr>\n",
       "    <tr>\n",
       "      <th>4</th>\n",
       "      <td>1) Fight The Risk of Cancer!\\nhttp://www.adcli...</td>\n",
       "      <td>spam</td>\n",
       "    </tr>\n",
       "  </tbody>\n",
       "</table>\n",
       "</div>"
      ]
     },
     "execution_count": 112,
     "metadata": {},
     "output_type": "execute_result"
    }
   ],
   "execution_count": 112
  },
  {
   "metadata": {},
   "cell_type": "code",
   "outputs": [],
   "execution_count": null,
   "source": "",
   "id": "c9fbfe5470b00722"
  }
 ],
 "metadata": {
  "kernelspec": {
   "display_name": "Python 3",
   "language": "python",
   "name": "python3"
  },
  "language_info": {
   "codemirror_mode": {
    "name": "ipython",
    "version": 2
   },
   "file_extension": ".py",
   "mimetype": "text/x-python",
   "name": "python",
   "nbconvert_exporter": "python",
   "pygments_lexer": "ipython2",
   "version": "2.7.6"
  }
 },
 "nbformat": 4,
 "nbformat_minor": 5
}
